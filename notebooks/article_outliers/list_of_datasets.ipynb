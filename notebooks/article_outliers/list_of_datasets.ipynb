{
 "cells": [
  {
   "cell_type": "markdown",
   "id": "5458cb3f",
   "metadata": {},
   "source": [
    "Źródła:\n",
    "\n",
    "1) [Link 1](http://odds.cs.stonybrook.edu/?fbclid=IwAR1gRxLCOicUAzeyb9L2_oB53rcER3zUmEyohF9al4GXKhjxmNox8jWSAac)\n",
    "2) [Link 2](https://github.com/dple/Datasets)\n",
    "3) [Link 3](https://github.com/GuansongPang/ADRepository-Anomaly-detection-datasets)"
   ]
  },
  {
   "cell_type": "markdown",
   "id": "d0cba6b9",
   "metadata": {},
   "source": [
    "Wybrane zbiory:\n",
    "\n",
    "- Http (KDDCUP99)\n",
    "\n",
    "Zbiór wykorzystany w \"The Third International Knowledge Discovery and Data Mining Tools Competition\", który odbył się w połączeniu z piątą międzynarodową konferencją KDD-99. Zadanie konkursowe polegało na zbudowaniu sieciowego detektora włamań, predykcyjnego modelu zdolnego do rozróżniania \"złych\" połączeń, zwanych włamaniami lub atakami, oraz \"dobrych\" normalnych połączeń.\n",
    "\n",
    "Oryginalny zestaw danych KDD Cup 1999 zawiera 41 atrybutów (34 ciągłych i 7 kategorycznych), jednak są one zredukowane do 4 atrybutów (\"service\", **\"duration\", \"src_bytes\", \"dst_bytes\"**), ponieważ te atrybuty są uważane za najbardziej podstawowe atrybuty. Za pomocą atrybutu \"service\" dane są dzielone na podzbiory {http, smtp, ftp, ftp_data, others}. Oryginalny zestaw danych obejmuje 3 925 651 ataków (80,1%) z 4 898 431 rekordów. Z tego pełnego zbioru danych 567 497 danych dotyczy usługi \"http\".\n",
    "\n",
    "| liczność zbioru | liczba atrybutów | liczba nietypowych | liczba atrybutów (oryginalnie) |\n",
    "|---|---|---|---|\n",
    "| 567498 | 3 | 2211 (0.390%) | 41 |\n",
    "\n",
    "- Smtp (KDDCUP99)\n",
    "\n",
    "Wszystko jak wyżej tylko, że bierzemy dane dotyczące usługi \"smtp\" (wyżej mamy \"http\").\n",
    "\n",
    "| liczność zbioru | liczba atrybutów | liczba nietypowych | liczba atrybutów (oryginalnie) |\n",
    "|---|---|---|---|\n",
    "| 95156 | 3 | 30 (0.032%) | 41 |\n",
    "\n",
    "- Annthyroid (choroby tarczycy)\n",
    "\n",
    "Zbiór danych o chorobach tarczycy to zbiór danych klasyfikacyjnych. Ma 15 kategorycznych i 6 rzeczywistych atrybutów. Problem polega na ustaleniu, czy pacjent skierowany do kliniki ma niedoczynność tarczycy. Dlatego buduje się trzy klasy: **normalne (zdrowy), nadczynność i niedoczynność tarczycy**.\n",
    "\n",
    "| liczność zbioru | liczba atrybutów ciągłych | liczba nietypowych | liczba atrybutów (wszystkich) |\n",
    "|---|---|---|---|\n",
    "| 7200 | 6 | 534 (7.42%) | 21 |\n",
    "\n",
    "- Pima Indians Diabetes (cukrzyca)\n",
    "\n",
    "Oryginalny zbiór danych dotyczących cukrzycy Indian Pima to zbiór danych klasyfikacji binarnej. Na wybór rekordów z większej bazy danych nałożono kilka ograniczeń. W szczególności wszyscy pacjenci tutaj to kobiety w wieku co najmniej 21 lat, pochodzenia Indian Pima.\n",
    "\n",
    "| liczność zbioru | liczba atrybutów (ciągłych) | liczba nietypowych |\n",
    "|---|---|---|\n",
    "| 728 | 8 | 268 (35%) |\n",
    "\n",
    "- Credit Card Fraud Detection\n",
    "\n",
    "https://www.kaggle.com/datasets/mlg-ulb/creditcardfraud\n",
    "\n",
    "| liczność zbioru | liczba atrybutów (składowych głównych \"PCA\") | liczba nietypowych |\n",
    "|---|---|---|\n",
    "| 284807 | 28 | 492 (0.172%) |"
   ]
  },
  {
   "cell_type": "code",
   "execution_count": null,
   "id": "a6901b76",
   "metadata": {},
   "outputs": [],
   "source": []
  },
  {
   "cell_type": "code",
   "execution_count": null,
   "id": "46dde243",
   "metadata": {},
   "outputs": [],
   "source": []
  }
 ],
 "metadata": {
  "kernelspec": {
   "display_name": "Python 3 (ipykernel)",
   "language": "python",
   "name": "python3"
  },
  "language_info": {
   "codemirror_mode": {
    "name": "ipython",
    "version": 3
   },
   "file_extension": ".py",
   "mimetype": "text/x-python",
   "name": "python",
   "nbconvert_exporter": "python",
   "pygments_lexer": "ipython3",
   "version": "3.9.12"
  },
  "toc": {
   "base_numbering": 1,
   "nav_menu": {},
   "number_sections": true,
   "sideBar": true,
   "skip_h1_title": false,
   "title_cell": "Table of Contents",
   "title_sidebar": "Contents",
   "toc_cell": false,
   "toc_position": {},
   "toc_section_display": true,
   "toc_window_display": false
  }
 },
 "nbformat": 4,
 "nbformat_minor": 5
}
