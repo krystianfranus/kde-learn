{
 "cells": [
  {
   "cell_type": "code",
   "execution_count": 11,
   "id": "4b25a9e4",
   "metadata": {
    "ExecuteTime": {
     "end_time": "2023-04-06T11:57:45.895422Z",
     "start_time": "2023-04-06T11:57:45.883397Z"
    }
   },
   "outputs": [],
   "source": [
    "import pandas as pd\n",
    "import matplotlib.pyplot as plt\n",
    "import numpy as np\n",
    "from sklearn.metrics import confusion_matrix\n",
    "from kdelearn.kde_tasks import KDEOutliersDetection\n",
    "from kdelearn.metrics import pi_kf"
   ]
  },
  {
   "cell_type": "code",
   "execution_count": 12,
   "id": "3a589c13",
   "metadata": {
    "ExecuteTime": {
     "end_time": "2023-04-06T11:57:46.810747Z",
     "start_time": "2023-04-06T11:57:46.134204Z"
    }
   },
   "outputs": [
    {
     "name": "stdout",
     "output_type": "stream",
     "text": [
      "ann-Readme  ann-test.data  ann-thyroid.names  ann-train.data  extra  HELLO\r\n"
     ]
    }
   ],
   "source": [
    "!ls ../../data/annthyroid/"
   ]
  },
  {
   "cell_type": "code",
   "execution_count": 13,
   "id": "90ac71a2",
   "metadata": {
    "ExecuteTime": {
     "end_time": "2023-04-06T11:57:46.816872Z",
     "start_time": "2023-04-06T11:57:46.813181Z"
    }
   },
   "outputs": [],
   "source": [
    "columns = [\"age\", \"sex\", \"on thyroxine\", \"query on thyroxine\", \"on antithyroid medication\", \"sick\",\n",
    "           \"pregnant\", \"thyroid surgery\", \"I131 treatment\", \"query hypothyroid\", \"query hyperthyroid\",\n",
    "           \"lithium\", \"goitre\", \"tumor\", \"hypopituitary\", \"psych\", \"TSH\", \"T3\", \"TT4\", \"T4U\", \"FTI\", \"TBG\", \"tmp1\", \"tmp2\"]"
   ]
  },
  {
   "cell_type": "code",
   "execution_count": 14,
   "id": "b93d818b",
   "metadata": {
    "ExecuteTime": {
     "end_time": "2023-04-06T11:57:46.843859Z",
     "start_time": "2023-04-06T11:57:46.818638Z"
    }
   },
   "outputs": [
    {
     "name": "stdout",
     "output_type": "stream",
     "text": [
      "(3772, 24)\n",
      "(3428, 24)\n",
      "(7200, 24)\n"
     ]
    }
   ],
   "source": [
    "data_train = pd.read_csv(\"../../data/annthyroid/ann-train.data\", sep=\" \", names=columns)\n",
    "print(data_train.shape)\n",
    "\n",
    "data_test = pd.read_csv(\"../../data/annthyroid/ann-test.data\", sep=\" \", names=columns)\n",
    "print(data_test.shape)\n",
    "\n",
    "data = pd.concat((data_train, data_test))\n",
    "print(data.shape)"
   ]
  },
  {
   "cell_type": "code",
   "execution_count": 15,
   "id": "a8189a35",
   "metadata": {
    "ExecuteTime": {
     "end_time": "2023-04-06T11:57:47.293144Z",
     "start_time": "2023-04-06T11:57:47.260168Z"
    }
   },
   "outputs": [
    {
     "data": {
      "text/html": [
       "<div>\n",
       "<style scoped>\n",
       "    .dataframe tbody tr th:only-of-type {\n",
       "        vertical-align: middle;\n",
       "    }\n",
       "\n",
       "    .dataframe tbody tr th {\n",
       "        vertical-align: top;\n",
       "    }\n",
       "\n",
       "    .dataframe thead th {\n",
       "        text-align: right;\n",
       "    }\n",
       "</style>\n",
       "<table border=\"1\" class=\"dataframe\">\n",
       "  <thead>\n",
       "    <tr style=\"text-align: right;\">\n",
       "      <th></th>\n",
       "      <th>age</th>\n",
       "      <th>sex</th>\n",
       "      <th>on thyroxine</th>\n",
       "      <th>query on thyroxine</th>\n",
       "      <th>on antithyroid medication</th>\n",
       "      <th>sick</th>\n",
       "      <th>pregnant</th>\n",
       "      <th>thyroid surgery</th>\n",
       "      <th>I131 treatment</th>\n",
       "      <th>query hypothyroid</th>\n",
       "      <th>...</th>\n",
       "      <th>hypopituitary</th>\n",
       "      <th>psych</th>\n",
       "      <th>TSH</th>\n",
       "      <th>T3</th>\n",
       "      <th>TT4</th>\n",
       "      <th>T4U</th>\n",
       "      <th>FTI</th>\n",
       "      <th>TBG</th>\n",
       "      <th>tmp1</th>\n",
       "      <th>tmp2</th>\n",
       "    </tr>\n",
       "  </thead>\n",
       "  <tbody>\n",
       "    <tr>\n",
       "      <th>0</th>\n",
       "      <td>0.73</td>\n",
       "      <td>0</td>\n",
       "      <td>1</td>\n",
       "      <td>0</td>\n",
       "      <td>0</td>\n",
       "      <td>0</td>\n",
       "      <td>0</td>\n",
       "      <td>0</td>\n",
       "      <td>1</td>\n",
       "      <td>0</td>\n",
       "      <td>...</td>\n",
       "      <td>0</td>\n",
       "      <td>0</td>\n",
       "      <td>0.00060</td>\n",
       "      <td>0.015</td>\n",
       "      <td>0.120</td>\n",
       "      <td>0.082</td>\n",
       "      <td>0.146</td>\n",
       "      <td>3</td>\n",
       "      <td>NaN</td>\n",
       "      <td>NaN</td>\n",
       "    </tr>\n",
       "    <tr>\n",
       "      <th>1</th>\n",
       "      <td>0.24</td>\n",
       "      <td>0</td>\n",
       "      <td>0</td>\n",
       "      <td>0</td>\n",
       "      <td>0</td>\n",
       "      <td>0</td>\n",
       "      <td>0</td>\n",
       "      <td>0</td>\n",
       "      <td>0</td>\n",
       "      <td>0</td>\n",
       "      <td>...</td>\n",
       "      <td>0</td>\n",
       "      <td>0</td>\n",
       "      <td>0.00025</td>\n",
       "      <td>0.030</td>\n",
       "      <td>0.143</td>\n",
       "      <td>0.133</td>\n",
       "      <td>0.108</td>\n",
       "      <td>3</td>\n",
       "      <td>NaN</td>\n",
       "      <td>NaN</td>\n",
       "    </tr>\n",
       "    <tr>\n",
       "      <th>2</th>\n",
       "      <td>0.47</td>\n",
       "      <td>0</td>\n",
       "      <td>0</td>\n",
       "      <td>0</td>\n",
       "      <td>0</td>\n",
       "      <td>0</td>\n",
       "      <td>0</td>\n",
       "      <td>0</td>\n",
       "      <td>0</td>\n",
       "      <td>0</td>\n",
       "      <td>...</td>\n",
       "      <td>0</td>\n",
       "      <td>0</td>\n",
       "      <td>0.00190</td>\n",
       "      <td>0.024</td>\n",
       "      <td>0.102</td>\n",
       "      <td>0.131</td>\n",
       "      <td>0.078</td>\n",
       "      <td>3</td>\n",
       "      <td>NaN</td>\n",
       "      <td>NaN</td>\n",
       "    </tr>\n",
       "    <tr>\n",
       "      <th>3</th>\n",
       "      <td>0.64</td>\n",
       "      <td>1</td>\n",
       "      <td>0</td>\n",
       "      <td>0</td>\n",
       "      <td>0</td>\n",
       "      <td>0</td>\n",
       "      <td>0</td>\n",
       "      <td>0</td>\n",
       "      <td>0</td>\n",
       "      <td>0</td>\n",
       "      <td>...</td>\n",
       "      <td>0</td>\n",
       "      <td>0</td>\n",
       "      <td>0.00090</td>\n",
       "      <td>0.017</td>\n",
       "      <td>0.077</td>\n",
       "      <td>0.090</td>\n",
       "      <td>0.085</td>\n",
       "      <td>3</td>\n",
       "      <td>NaN</td>\n",
       "      <td>NaN</td>\n",
       "    </tr>\n",
       "    <tr>\n",
       "      <th>4</th>\n",
       "      <td>0.23</td>\n",
       "      <td>0</td>\n",
       "      <td>0</td>\n",
       "      <td>0</td>\n",
       "      <td>0</td>\n",
       "      <td>0</td>\n",
       "      <td>0</td>\n",
       "      <td>0</td>\n",
       "      <td>0</td>\n",
       "      <td>0</td>\n",
       "      <td>...</td>\n",
       "      <td>0</td>\n",
       "      <td>0</td>\n",
       "      <td>0.00025</td>\n",
       "      <td>0.026</td>\n",
       "      <td>0.139</td>\n",
       "      <td>0.090</td>\n",
       "      <td>0.153</td>\n",
       "      <td>3</td>\n",
       "      <td>NaN</td>\n",
       "      <td>NaN</td>\n",
       "    </tr>\n",
       "  </tbody>\n",
       "</table>\n",
       "<p>5 rows × 24 columns</p>\n",
       "</div>"
      ],
      "text/plain": [
       "    age  sex  on thyroxine  query on thyroxine  on antithyroid medication  \\\n",
       "0  0.73    0             1                   0                          0   \n",
       "1  0.24    0             0                   0                          0   \n",
       "2  0.47    0             0                   0                          0   \n",
       "3  0.64    1             0                   0                          0   \n",
       "4  0.23    0             0                   0                          0   \n",
       "\n",
       "   sick  pregnant  thyroid surgery  I131 treatment  query hypothyroid  ...  \\\n",
       "0     0         0                0               1                  0  ...   \n",
       "1     0         0                0               0                  0  ...   \n",
       "2     0         0                0               0                  0  ...   \n",
       "3     0         0                0               0                  0  ...   \n",
       "4     0         0                0               0                  0  ...   \n",
       "\n",
       "   hypopituitary  psych      TSH     T3    TT4    T4U    FTI  TBG  tmp1  tmp2  \n",
       "0              0      0  0.00060  0.015  0.120  0.082  0.146    3   NaN   NaN  \n",
       "1              0      0  0.00025  0.030  0.143  0.133  0.108    3   NaN   NaN  \n",
       "2              0      0  0.00190  0.024  0.102  0.131  0.078    3   NaN   NaN  \n",
       "3              0      0  0.00090  0.017  0.077  0.090  0.085    3   NaN   NaN  \n",
       "4              0      0  0.00025  0.026  0.139  0.090  0.153    3   NaN   NaN  \n",
       "\n",
       "[5 rows x 24 columns]"
      ]
     },
     "execution_count": 15,
     "metadata": {},
     "output_type": "execute_result"
    }
   ],
   "source": [
    "data.head()"
   ]
  },
  {
   "cell_type": "markdown",
   "id": "b390933d",
   "metadata": {},
   "source": [
    "Class 1: (normal), Class 2: (hyper), Class 3: (hypo)"
   ]
  },
  {
   "cell_type": "code",
   "execution_count": 16,
   "id": "4fd0d313",
   "metadata": {
    "ExecuteTime": {
     "end_time": "2023-04-06T11:57:48.033497Z",
     "start_time": "2023-04-06T11:57:48.017460Z"
    }
   },
   "outputs": [
    {
     "data": {
      "text/plain": [
       "3    6666\n",
       "2     368\n",
       "1     166\n",
       "Name: TBG, dtype: int64"
      ]
     },
     "execution_count": 16,
     "metadata": {},
     "output_type": "execute_result"
    }
   ],
   "source": [
    "data[\"TBG\"].value_counts()"
   ]
  },
  {
   "cell_type": "markdown",
   "id": "7b7ede24",
   "metadata": {},
   "source": [
    "# 1d analysis"
   ]
  },
  {
   "cell_type": "markdown",
   "id": "3eb1c2a9",
   "metadata": {},
   "source": [
    "## Age"
   ]
  },
  {
   "cell_type": "code",
   "execution_count": 17,
   "id": "b6430a40",
   "metadata": {
    "ExecuteTime": {
     "end_time": "2023-04-06T11:57:49.426140Z",
     "start_time": "2023-04-06T11:57:49.157040Z"
    }
   },
   "outputs": [
    {
     "data": {
      "image/png": "[encoded data removed]",
      "text/plain": [
       "<Figure size 600x400 with 1 Axes>"
      ]
     },
     "metadata": {},
     "output_type": "display_data"
    }
   ],
   "source": [
    "plt.figure(figsize=(6 ,4))\n",
    "plt.scatter(data.loc[data[\"TBG\"] == 3, \"age\"], data.loc[data[\"TBG\"] == 3, \"age\"]*0, alpha=0.2)\n",
    "plt.scatter(data.loc[data[\"TBG\"] == 2, \"age\"], data.loc[data[\"TBG\"] == 2, \"age\"]*0, c=\"red\", alpha=0.2)\n",
    "plt.scatter(data.loc[data[\"TBG\"] == 1, \"age\"], data.loc[data[\"TBG\"] == 1, \"age\"]*0, c=\"orange\", alpha=0.2)\n",
    "plt.xlabel(\"age\")\n",
    "plt.show()"
   ]
  },
  {
   "cell_type": "code",
   "execution_count": 18,
   "id": "588263cc",
   "metadata": {
    "ExecuteTime": {
     "end_time": "2023-04-06T11:57:50.246584Z",
     "start_time": "2023-04-06T11:57:49.874388Z"
    }
   },
   "outputs": [
    {
     "data": {
      "image/png": "[encoded data removed]",
      "text/plain": [
       "<Figure size 600x400 with 1 Axes>"
      ]
     },
     "metadata": {},
     "output_type": "display_data"
    }
   ],
   "source": [
    "plt.figure(figsize=(6, 4))\n",
    "plt.hist(data.loc[data[\"TBG\"] == 3, \"age\"], bins=50, alpha=0.5)\n",
    "plt.hist(data.loc[data[\"TBG\"] == 2, \"age\"], bins=50, alpha=0.5, color=\"red\")\n",
    "plt.hist(data.loc[data[\"TBG\"] == 1, \"age\"], bins=50, alpha=0.5, color=\"orange\")\n",
    "plt.yscale(\"log\")\n",
    "plt.xlabel(\"age\")\n",
    "plt.show()"
   ]
  },
  {
   "cell_type": "markdown",
   "id": "bca9ee05",
   "metadata": {},
   "source": [
    "## TSH"
   ]
  },
  {
   "cell_type": "code",
   "execution_count": 19,
   "id": "087c2d2b",
   "metadata": {
    "ExecuteTime": {
     "end_time": "2023-04-06T11:57:50.451560Z",
     "start_time": "2023-04-06T11:57:50.307263Z"
    }
   },
   "outputs": [
    {
     "data": {
      "image/png": "[encoded data removed]",
      "text/plain": [
       "<Figure size 600x400 with 1 Axes>"
      ]
     },
     "metadata": {},
     "output_type": "display_data"
    }
   ],
   "source": [
    "plt.figure(figsize=(6 ,4))\n",
    "plt.scatter(data.loc[data[\"TBG\"] == 3, \"TSH\"], data.loc[data[\"TBG\"] == 3, \"TSH\"]*0, alpha=0.2)\n",
    "plt.scatter(data.loc[data[\"TBG\"] == 2, \"TSH\"], data.loc[data[\"TBG\"] == 2, \"TSH\"]*0, c=\"red\", alpha=0.2)\n",
    "plt.scatter(data.loc[data[\"TBG\"] == 1, \"TSH\"], data.loc[data[\"TBG\"] == 1, \"TSH\"]*0, c=\"orange\", alpha=0.2)\n",
    "plt.xlabel(\"TSH\")\n",
    "plt.show()"
   ]
  },
  {
   "cell_type": "code",
   "execution_count": 20,
   "id": "d00ec74c",
   "metadata": {
    "ExecuteTime": {
     "end_time": "2023-04-06T11:57:50.905222Z",
     "start_time": "2023-04-06T11:57:50.482811Z"
    }
   },
   "outputs": [
    {
     "data": {
      "image/png": "[encoded data removed]",
      "text/plain": [
       "<Figure size 600x400 with 1 Axes>"
      ]
     },
     "metadata": {},
     "output_type": "display_data"
    }
   ],
   "source": [
    "plt.figure(figsize=(6, 4))\n",
    "plt.hist(data.loc[data[\"TBG\"] == 3, \"TSH\"], bins=50, alpha=0.5)\n",
    "plt.hist(data.loc[data[\"TBG\"] == 2, \"TSH\"], bins=50, alpha=0.5, color=\"red\")\n",
    "plt.hist(data.loc[data[\"TBG\"] == 1, \"TSH\"], bins=50, alpha=0.5, color=\"orange\")\n",
    "plt.yscale(\"log\")\n",
    "plt.xlabel(\"TSH\")\n",
    "plt.show()"
   ]
  },
  {
   "cell_type": "markdown",
   "id": "26a49863",
   "metadata": {},
   "source": [
    "## T3"
   ]
  },
  {
   "cell_type": "code",
   "execution_count": 21,
   "id": "221055e6",
   "metadata": {
    "ExecuteTime": {
     "end_time": "2023-04-06T11:57:51.057353Z",
     "start_time": "2023-04-06T11:57:50.906791Z"
    }
   },
   "outputs": [
    {
     "data": {
      "image/png": "[encoded data removed]",
      "text/plain": [
       "<Figure size 600x400 with 1 Axes>"
      ]
     },
     "metadata": {},
     "output_type": "display_data"
    }
   ],
   "source": [
    "plt.figure(figsize=(6 ,4))\n",
    "plt.scatter(data.loc[data[\"TBG\"] == 3, \"T3\"], data.loc[data[\"TBG\"] == 3, \"T3\"]*0, alpha=0.2)\n",
    "plt.scatter(data.loc[data[\"TBG\"] == 2, \"T3\"], data.loc[data[\"TBG\"] == 2, \"T3\"]*0, c=\"red\", alpha=0.2)\n",
    "plt.scatter(data.loc[data[\"TBG\"] == 1, \"T3\"], data.loc[data[\"TBG\"] == 1, \"T3\"]*0, c=\"orange\", alpha=0.2)\n",
    "plt.xlabel(\"T3\")\n",
    "plt.show()"
   ]
  },
  {
   "cell_type": "code",
   "execution_count": 22,
   "id": "e46671c2",
   "metadata": {
    "ExecuteTime": {
     "end_time": "2023-04-06T11:57:51.535432Z",
     "start_time": "2023-04-06T11:57:51.058886Z"
    }
   },
   "outputs": [
    {
     "data": {
      "image/png": "[encoded data removed]",
      "text/plain": [
       "<Figure size 600x400 with 1 Axes>"
      ]
     },
     "metadata": {},
     "output_type": "display_data"
    }
   ],
   "source": [
    "plt.figure(figsize=(6, 4))\n",
    "plt.hist(data.loc[data[\"TBG\"] == 3, \"T3\"], bins=50, alpha=0.5)\n",
    "plt.hist(data.loc[data[\"TBG\"] == 2, \"T3\"], bins=50, alpha=0.5, color=\"red\")\n",
    "plt.hist(data.loc[data[\"TBG\"] == 1, \"T3\"], bins=50, alpha=0.5, color=\"orange\")\n",
    "plt.yscale(\"log\")\n",
    "plt.xlabel(\"T3\")\n",
    "plt.show()"
   ]
  },
  {
   "cell_type": "markdown",
   "id": "b1796025",
   "metadata": {},
   "source": [
    "## TT4"
   ]
  },
  {
   "cell_type": "code",
   "execution_count": 23,
   "id": "31e21499",
   "metadata": {
    "ExecuteTime": {
     "end_time": "2023-04-06T11:57:51.718324Z",
     "start_time": "2023-04-06T11:57:51.537153Z"
    }
   },
   "outputs": [
    {
     "data": {
      "image/png": "[encoded data removed]",
      "text/plain": [
       "<Figure size 600x400 with 1 Axes>"
      ]
     },
     "metadata": {},
     "output_type": "display_data"
    }
   ],
   "source": [
    "plt.figure(figsize=(6 ,4))\n",
    "plt.scatter(data.loc[data[\"TBG\"] == 3, \"TT4\"], data.loc[data[\"TBG\"] == 3, \"TT4\"]*0, alpha=0.2)\n",
    "plt.scatter(data.loc[data[\"TBG\"] == 2, \"TT4\"], data.loc[data[\"TBG\"] == 2, \"TT4\"]*0, c=\"red\", alpha=0.2)\n",
    "plt.scatter(data.loc[data[\"TBG\"] == 1, \"TT4\"], data.loc[data[\"TBG\"] == 1, \"TT4\"]*0, c=\"orange\", alpha=0.2)\n",
    "plt.xlabel(\"TT4\")\n",
    "plt.show()"
   ]
  },
  {
   "cell_type": "code",
   "execution_count": 24,
   "id": "9f5255c5",
   "metadata": {
    "ExecuteTime": {
     "end_time": "2023-04-06T11:57:52.131752Z",
     "start_time": "2023-04-06T11:57:51.720542Z"
    }
   },
   "outputs": [
    {
     "data": {
      "image/png": "[encoded data removed]",
      "text/plain": [
       "<Figure size 600x400 with 1 Axes>"
      ]
     },
     "metadata": {},
     "output_type": "display_data"
    }
   ],
   "source": [
    "plt.figure(figsize=(6, 4))\n",
    "plt.hist(data.loc[data[\"TBG\"] == 3, \"TT4\"], bins=50, alpha=0.5)\n",
    "plt.hist(data.loc[data[\"TBG\"] == 2, \"TT4\"], bins=50, alpha=0.5, color=\"red\")\n",
    "plt.hist(data.loc[data[\"TBG\"] == 1, \"TT4\"], bins=50, alpha=0.5, color=\"orange\")\n",
    "plt.yscale(\"log\")\n",
    "plt.xlabel(\"TT4\")\n",
    "plt.show()"
   ]
  },
  {
   "cell_type": "markdown",
   "id": "ea7f2470",
   "metadata": {},
   "source": [
    "## T4U"
   ]
  },
  {
   "cell_type": "code",
   "execution_count": 25,
   "id": "da16016d",
   "metadata": {
    "ExecuteTime": {
     "end_time": "2023-04-06T11:57:52.271600Z",
     "start_time": "2023-04-06T11:57:52.133356Z"
    }
   },
   "outputs": [
    {
     "data": {
      "image/png": "[encoded data removed]",
      "text/plain": [
       "<Figure size 600x400 with 1 Axes>"
      ]
     },
     "metadata": {},
     "output_type": "display_data"
    }
   ],
   "source": [
    "plt.figure(figsize=(6 ,4))\n",
    "plt.scatter(data.loc[data[\"TBG\"] == 3, \"T4U\"], data.loc[data[\"TBG\"] == 3, \"T4U\"]*0, alpha=0.2)\n",
    "plt.scatter(data.loc[data[\"TBG\"] == 2, \"T4U\"], data.loc[data[\"TBG\"] == 2, \"T4U\"]*0, c=\"red\", alpha=0.2)\n",
    "plt.scatter(data.loc[data[\"TBG\"] == 1, \"T4U\"], data.loc[data[\"TBG\"] == 1, \"T4U\"]*0, c=\"orange\", alpha=0.2)\n",
    "plt.xlabel(\"T4U\")\n",
    "plt.show()"
   ]
  },
  {
   "cell_type": "code",
   "execution_count": 26,
   "id": "5cd321dc",
   "metadata": {
    "ExecuteTime": {
     "end_time": "2023-04-06T11:57:52.690051Z",
     "start_time": "2023-04-06T11:57:52.273570Z"
    }
   },
   "outputs": [
    {
     "data": {
      "image/png": "[encoded data removed]",
      "text/plain": [
       "<Figure size 600x400 with 1 Axes>"
      ]
     },
     "metadata": {},
     "output_type": "display_data"
    }
   ],
   "source": [
    "plt.figure(figsize=(6, 4))\n",
    "plt.hist(data.loc[data[\"TBG\"] == 3, \"T4U\"], bins=50, alpha=0.5)\n",
    "plt.hist(data.loc[data[\"TBG\"] == 2, \"T4U\"], bins=50, alpha=0.5, color=\"red\")\n",
    "plt.hist(data.loc[data[\"TBG\"] == 1, \"T4U\"], bins=50, alpha=0.5, color=\"orange\")\n",
    "plt.yscale(\"log\")\n",
    "plt.xlabel(\"T4U\")\n",
    "plt.show()"
   ]
  },
  {
   "cell_type": "markdown",
   "id": "b0831256",
   "metadata": {},
   "source": [
    "## FTI"
   ]
  },
  {
   "cell_type": "code",
   "execution_count": 27,
   "id": "f5d96a76",
   "metadata": {
    "ExecuteTime": {
     "end_time": "2023-04-06T11:57:53.093520Z",
     "start_time": "2023-04-06T11:57:52.957863Z"
    }
   },
   "outputs": [
    {
     "data": {
      "image/png": "[encoded data removed]",
      "text/plain": [
       "<Figure size 600x400 with 1 Axes>"
      ]
     },
     "metadata": {},
     "output_type": "display_data"
    }
   ],
   "source": [
    "plt.figure(figsize=(6 ,4))\n",
    "plt.scatter(data.loc[data[\"TBG\"] == 3, \"FTI\"], data.loc[data[\"TBG\"] == 3, \"FTI\"]*0, alpha=0.2)\n",
    "plt.scatter(data.loc[data[\"TBG\"] == 2, \"FTI\"], data.loc[data[\"TBG\"] == 2, \"FTI\"]*0, c=\"red\", alpha=0.2)\n",
    "plt.scatter(data.loc[data[\"TBG\"] == 1, \"FTI\"], data.loc[data[\"TBG\"] == 1, \"FTI\"]*0, c=\"orange\", alpha=0.2)\n",
    "plt.xlabel(\"FTI\")\n",
    "plt.show()"
   ]
  },
  {
   "cell_type": "code",
   "execution_count": 28,
   "id": "e99032e7",
   "metadata": {
    "ExecuteTime": {
     "end_time": "2023-04-06T11:57:54.037687Z",
     "start_time": "2023-04-06T11:57:53.566421Z"
    }
   },
   "outputs": [
    {
     "data": {
      "image/png": "[encoded data removed]",
      "text/plain": [
       "<Figure size 600x400 with 1 Axes>"
      ]
     },
     "metadata": {},
     "output_type": "display_data"
    }
   ],
   "source": [
    "plt.figure(figsize=(6, 4))\n",
    "plt.hist(data.loc[data[\"TBG\"] == 3, \"FTI\"], bins=50, alpha=0.5)\n",
    "plt.hist(data.loc[data[\"TBG\"] == 2, \"FTI\"], bins=50, alpha=0.5, color=\"red\")\n",
    "plt.hist(data.loc[data[\"TBG\"] == 1, \"FTI\"], bins=50, alpha=0.5, color=\"orange\")\n",
    "plt.yscale(\"log\")\n",
    "plt.xlabel(\"FTI\")\n",
    "plt.show()"
   ]
  },
  {
   "cell_type": "markdown",
   "id": "49aff10d",
   "metadata": {},
   "source": [
    "# Outliers detection"
   ]
  },
  {
   "cell_type": "markdown",
   "id": "1b5f3090",
   "metadata": {},
   "source": [
    "## all data"
   ]
  },
  {
   "cell_type": "code",
   "execution_count": 35,
   "id": "9f0dcea2",
   "metadata": {
    "ExecuteTime": {
     "end_time": "2023-04-06T12:00:00.759578Z",
     "start_time": "2023-04-06T12:00:00.752993Z"
    }
   },
   "outputs": [],
   "source": [
    "data_all = data[[\"TSH\", \"T3\", \"TT4\", \"T4U\", \"FTI\", \"TBG\"]].copy()\n",
    "\n",
    "x_train = data_all[[\"TSH\", \"T3\", \"TT4\", \"T4U\", \"FTI\"]].to_numpy().copy()\n",
    "# x_train , idx, weights_train = np.unique(x_train, axis=0, return_index=True, return_counts=True)\n",
    "# labels_train = data_all[\"TBG\"].to_numpy().copy()[idx]\n",
    "labels_train = data_all[\"TBG\"].to_numpy().copy()\n",
    "labels_train[labels_train!=3] = 1\n",
    "labels_train[labels_train==3] = 0"
   ]
  },
  {
   "cell_type": "code",
   "execution_count": 36,
   "id": "9788a864",
   "metadata": {
    "ExecuteTime": {
     "end_time": "2023-04-06T12:00:01.189425Z",
     "start_time": "2023-04-06T12:00:01.183406Z"
    }
   },
   "outputs": [
    {
     "data": {
      "text/plain": [
       "((7200, 5), 0.07416666666666667)"
      ]
     },
     "execution_count": 36,
     "metadata": {},
     "output_type": "execute_result"
    }
   ],
   "source": [
    "x_train.shape, (labels_train == 1).sum() / x_train.shape[0]"
   ]
  },
  {
   "cell_type": "code",
   "execution_count": 37,
   "id": "f9223665",
   "metadata": {
    "ExecuteTime": {
     "end_time": "2023-04-06T12:01:02.598563Z",
     "start_time": "2023-04-06T12:00:02.474030Z"
    }
   },
   "outputs": [],
   "source": [
    "outliers_detector = KDEOutliersDetection().fit(x_train, r=0.074)\n",
    "labels_pred = outliers_detector.predict(x_train)\n",
    "scores = outliers_detector.kde.pdf(x_train)"
   ]
  },
  {
   "cell_type": "code",
   "execution_count": 72,
   "id": "601c2260",
   "metadata": {
    "ExecuteTime": {
     "end_time": "2023-04-04T14:06:43.867285Z",
     "start_time": "2023-04-04T14:06:43.854190Z"
    }
   },
   "outputs": [
    {
     "data": {
      "text/plain": [
       "array([0.00042606, 0.00026302, 0.00372551, 0.00151481, 0.00336712])"
      ]
     },
     "execution_count": 72,
     "metadata": {},
     "output_type": "execute_result"
    }
   ],
   "source": [
    "outliers_detector.kde.bandwidth"
   ]
  },
  {
   "cell_type": "code",
   "execution_count": 73,
   "id": "08c76636",
   "metadata": {
    "ExecuteTime": {
     "end_time": "2023-04-04T14:06:47.921580Z",
     "start_time": "2023-04-04T14:06:43.869113Z"
    }
   },
   "outputs": [
    {
     "data": {
      "text/plain": [
       "0.9999996349353134"
      ]
     },
     "execution_count": 73,
     "metadata": {},
     "output_type": "execute_result"
    }
   ],
   "source": [
    "metric = pi_kf(x_train, labels_pred, bandwidth=outliers_detector.kde.bandwidth)\n",
    "metric"
   ]
  },
  {
   "cell_type": "code",
   "execution_count": 27,
   "id": "e644e3b7",
   "metadata": {
    "ExecuteTime": {
     "end_time": "2023-04-04T13:45:33.231331Z",
     "start_time": "2023-04-04T13:45:33.214457Z"
    }
   },
   "outputs": [
    {
     "data": {
      "text/plain": [
       "(659117876.109374, 659117876.109374, 659117876.109679, 659117877.741257)"
      ]
     },
     "execution_count": 27,
     "metadata": {},
     "output_type": "execute_result"
    }
   ],
   "source": [
    "np.quantile(scores, 0.01), np.quantile(scores, 0.05), np.quantile(scores, 0.077), np.quantile(scores, 0.1)"
   ]
  },
  {
   "cell_type": "code",
   "execution_count": 28,
   "id": "043cedf3",
   "metadata": {
    "ExecuteTime": {
     "end_time": "2023-04-04T13:45:37.574344Z",
     "start_time": "2023-04-04T13:45:37.562536Z"
    }
   },
   "outputs": [
    {
     "data": {
      "text/plain": [
       "(533, 534)"
      ]
     },
     "execution_count": 28,
     "metadata": {},
     "output_type": "execute_result"
    }
   ],
   "source": [
    "labels_pred.sum(), labels_train.sum()"
   ]
  },
  {
   "cell_type": "code",
   "execution_count": 29,
   "id": "7ba82d92",
   "metadata": {
    "ExecuteTime": {
     "end_time": "2023-04-04T13:45:39.287347Z",
     "start_time": "2023-04-04T13:45:39.272907Z"
    }
   },
   "outputs": [
    {
     "data": {
      "text/plain": [
       "array([[6358,  308],\n",
       "       [ 309,  225]])"
      ]
     },
     "execution_count": 29,
     "metadata": {},
     "output_type": "execute_result"
    }
   ],
   "source": [
    "res = confusion_matrix(labels_train, labels_pred)\n",
    "res"
   ]
  },
  {
   "cell_type": "code",
   "execution_count": 30,
   "id": "9f7d2ce0",
   "metadata": {
    "ExecuteTime": {
     "end_time": "2023-04-04T13:45:39.756102Z",
     "start_time": "2023-04-04T13:45:39.752012Z"
    }
   },
   "outputs": [
    {
     "name": "stdout",
     "output_type": "stream",
     "text": [
      "precision: 0.42213883677298314\n",
      "recall: 0.42134831460674155\n",
      "accuracy: 0.9143055555555556\n"
     ]
    }
   ],
   "source": [
    "print(f\"precision: {res[1, 1] / res[:, 1].sum()}\")\n",
    "print(f\"recall: {res[1, 1] / res[1, :].sum()}\")\n",
    "print(f\"accuracy: {np.diag(res).sum() / res.sum()}\")"
   ]
  },
  {
   "cell_type": "code",
   "execution_count": null,
   "id": "6e6b5c6b",
   "metadata": {},
   "outputs": [],
   "source": []
  },
  {
   "cell_type": "code",
   "execution_count": null,
   "id": "6c50327c",
   "metadata": {},
   "outputs": [],
   "source": []
  },
  {
   "cell_type": "code",
   "execution_count": 83,
   "id": "5a860a85",
   "metadata": {
    "ExecuteTime": {
     "end_time": "2023-04-04T14:10:16.395935Z",
     "start_time": "2023-04-04T14:10:07.603401Z"
    }
   },
   "outputs": [
    {
     "name": "stdout",
     "output_type": "stream",
     "text": [
      "533 534\n",
      "0.9999412587911399\n",
      "[[6357  309]\n",
      " [ 310  224]]\n",
      "precision: 0.4202626641651032\n",
      "recall: 0.41947565543071164\n",
      "accuracy: 0.9140277777777778\n"
     ]
    }
   ],
   "source": [
    "outliers_detector = KDEOutliersDetection().fit(x_train, bandwidth=outliers_detector.kde.bandwidth*0.5, r=0.074)\n",
    "labels_pred = outliers_detector.predict(x_train)\n",
    "\n",
    "print(labels_pred.sum(), labels_train.sum())\n",
    "\n",
    "metric = pi_kf(x_train, labels_pred, bandwidth=outliers_detector.kde.bandwidth*0.5)\n",
    "print(metric)\n",
    "\n",
    "res = confusion_matrix(labels_train, labels_pred)\n",
    "print(res)\n",
    "\n",
    "print(f\"precision: {res[1, 1] / res[:, 1].sum()}\")\n",
    "print(f\"recall: {res[1, 1] / res[1, :].sum()}\")\n",
    "print(f\"accuracy: {np.diag(res).sum() / res.sum()}\")"
   ]
  },
  {
   "cell_type": "code",
   "execution_count": 84,
   "id": "34a0bb29",
   "metadata": {
    "ExecuteTime": {
     "end_time": "2023-04-04T14:10:24.446208Z",
     "start_time": "2023-04-04T14:10:16.397606Z"
    }
   },
   "outputs": [
    {
     "name": "stdout",
     "output_type": "stream",
     "text": [
      "533 534\n",
      "0.2210641044637306\n",
      "[[6365  301]\n",
      " [ 302  232]]\n",
      "precision: 0.4352720450281426\n",
      "recall: 0.4344569288389513\n",
      "accuracy: 0.91625\n"
     ]
    }
   ],
   "source": [
    "outliers_detector = KDEOutliersDetection().fit(x_train, bandwidth=outliers_detector.kde.bandwidth*2, r=0.074)\n",
    "labels_pred = outliers_detector.predict(x_train)\n",
    "\n",
    "print(labels_pred.sum(), labels_train.sum())\n",
    "\n",
    "metric = pi_kf(x_train, labels_pred, bandwidth=outliers_detector.kde.bandwidth*2)\n",
    "print(metric)\n",
    "\n",
    "res = confusion_matrix(labels_train, labels_pred)\n",
    "print(res)\n",
    "\n",
    "print(f\"precision: {res[1, 1] / res[:, 1].sum()}\")\n",
    "print(f\"recall: {res[1, 1] / res[1, :].sum()}\")\n",
    "print(f\"accuracy: {np.diag(res).sum() / res.sum()}\")"
   ]
  },
  {
   "cell_type": "code",
   "execution_count": 85,
   "id": "b62d31c9",
   "metadata": {
    "ExecuteTime": {
     "end_time": "2023-04-04T14:10:32.521905Z",
     "start_time": "2023-04-04T14:10:24.448222Z"
    }
   },
   "outputs": [
    {
     "name": "stdout",
     "output_type": "stream",
     "text": [
      "533 534\n",
      "0.9450119164459787\n",
      "[[6328  338]\n",
      " [ 339  195]]\n",
      "precision: 0.36585365853658536\n",
      "recall: 0.3651685393258427\n",
      "accuracy: 0.9059722222222222\n"
     ]
    }
   ],
   "source": [
    "outliers_detector = KDEOutliersDetection().fit(x_train, bandwidth=outliers_detector.kde.bandwidth*10, r=0.074)\n",
    "labels_pred = outliers_detector.predict(x_train)\n",
    "\n",
    "print(labels_pred.sum(), labels_train.sum())\n",
    "\n",
    "metric = pi_kf(x_train, labels_pred, bandwidth=outliers_detector.kde.bandwidth*10)\n",
    "print(metric)\n",
    "\n",
    "res = confusion_matrix(labels_train, labels_pred)\n",
    "print(res)\n",
    "\n",
    "print(f\"precision: {res[1, 1] / res[:, 1].sum()}\")\n",
    "print(f\"recall: {res[1, 1] / res[1, :].sum()}\")\n",
    "print(f\"accuracy: {np.diag(res).sum() / res.sum()}\")"
   ]
  },
  {
   "cell_type": "code",
   "execution_count": null,
   "id": "5fe2b9a2",
   "metadata": {},
   "outputs": [],
   "source": []
  },
  {
   "cell_type": "code",
   "execution_count": null,
   "id": "aca696ff",
   "metadata": {},
   "outputs": [],
   "source": []
  },
  {
   "cell_type": "code",
   "execution_count": 86,
   "id": "4180fb71",
   "metadata": {
    "ExecuteTime": {
     "end_time": "2023-04-04T14:10:42.975047Z",
     "start_time": "2023-04-04T14:10:34.983322Z"
    }
   },
   "outputs": [
    {
     "name": "stdout",
     "output_type": "stream",
     "text": [
      "720 534\n",
      "0.4407852842268215\n",
      "[[6170  496]\n",
      " [ 310  224]]\n",
      "precision: 0.3111111111111111\n",
      "recall: 0.41947565543071164\n",
      "accuracy: 0.8880555555555556\n"
     ]
    }
   ],
   "source": [
    "outliers_detector = KDEOutliersDetection().fit(x_train, bandwidth=outliers_detector.kde.bandwidth, r=0.1)\n",
    "labels_pred = outliers_detector.predict(x_train)\n",
    "\n",
    "print(labels_pred.sum(), labels_train.sum())\n",
    "\n",
    "metric = pi_kf(x_train, labels_pred, bandwidth=outliers_detector.kde.bandwidth)\n",
    "print(metric)\n",
    "\n",
    "res = confusion_matrix(labels_train, labels_pred)\n",
    "print(res)\n",
    "\n",
    "print(f\"precision: {res[1, 1] / res[:, 1].sum()}\")\n",
    "print(f\"recall: {res[1, 1] / res[1, :].sum()}\")\n",
    "print(f\"accuracy: {np.diag(res).sum() / res.sum()}\")"
   ]
  },
  {
   "cell_type": "code",
   "execution_count": 88,
   "id": "4f2f5c40",
   "metadata": {
    "ExecuteTime": {
     "end_time": "2023-04-04T14:49:05.770790Z",
     "start_time": "2023-04-04T14:48:57.638427Z"
    }
   },
   "outputs": [
    {
     "name": "stdout",
     "output_type": "stream",
     "text": [
      "1080 534\n",
      "0.535394736307909\n",
      "[[5852  814]\n",
      " [ 268  266]]\n",
      "precision: 0.2462962962962963\n",
      "recall: 0.49812734082397003\n",
      "accuracy: 0.8497222222222223\n"
     ]
    }
   ],
   "source": [
    "outliers_detector = KDEOutliersDetection().fit(x_train, bandwidth=outliers_detector.kde.bandwidth, r=0.15)\n",
    "labels_pred = outliers_detector.predict(x_train)\n",
    "\n",
    "print(labels_pred.sum(), labels_train.sum())\n",
    "\n",
    "metric = pi_kf(x_train, labels_pred, bandwidth=outliers_detector.kde.bandwidth)\n",
    "print(metric)\n",
    "\n",
    "res = confusion_matrix(labels_train, labels_pred)\n",
    "print(res)\n",
    "\n",
    "print(f\"precision: {res[1, 1] / res[:, 1].sum()}\")\n",
    "print(f\"recall: {res[1, 1] / res[1, :].sum()}\")\n",
    "print(f\"accuracy: {np.diag(res).sum() / res.sum()}\")"
   ]
  },
  {
   "cell_type": "code",
   "execution_count": 87,
   "id": "e392fbe1",
   "metadata": {
    "ExecuteTime": {
     "end_time": "2023-04-04T14:10:52.733425Z",
     "start_time": "2023-04-04T14:10:43.714548Z"
    }
   },
   "outputs": [
    {
     "name": "stdout",
     "output_type": "stream",
     "text": [
      "1440 534\n",
      "0.5940499022345984\n",
      "[[5526 1140]\n",
      " [ 234  300]]\n",
      "precision: 0.20833333333333334\n",
      "recall: 0.5617977528089888\n",
      "accuracy: 0.8091666666666667\n"
     ]
    }
   ],
   "source": [
    "outliers_detector = KDEOutliersDetection().fit(x_train, bandwidth=outliers_detector.kde.bandwidth, r=0.2)\n",
    "labels_pred = outliers_detector.predict(x_train)\n",
    "\n",
    "print(labels_pred.sum(), labels_train.sum())\n",
    "\n",
    "metric = pi_kf(x_train, labels_pred, bandwidth=outliers_detector.kde.bandwidth)\n",
    "print(metric)\n",
    "\n",
    "res = confusion_matrix(labels_train, labels_pred)\n",
    "print(res)\n",
    "\n",
    "print(f\"precision: {res[1, 1] / res[:, 1].sum()}\")\n",
    "print(f\"recall: {res[1, 1] / res[1, :].sum()}\")\n",
    "print(f\"accuracy: {np.diag(res).sum() / res.sum()}\")"
   ]
  },
  {
   "cell_type": "code",
   "execution_count": null,
   "id": "38551d4a",
   "metadata": {},
   "outputs": [],
   "source": []
  }
 ],
 "metadata": {
  "kernelspec": {
   "display_name": "Python 3 (ipykernel)",
   "language": "python",
   "name": "python3"
  },
  "language_info": {
   "codemirror_mode": {
    "name": "ipython",
    "version": 3
   },
   "file_extension": ".py",
   "mimetype": "text/x-python",
   "name": "python",
   "nbconvert_exporter": "python",
   "pygments_lexer": "ipython3",
   "version": "3.9.12"
  },
  "toc": {
   "base_numbering": 1,
   "nav_menu": {},
   "number_sections": true,
   "sideBar": true,
   "skip_h1_title": false,
   "title_cell": "Table of Contents",
   "title_sidebar": "Contents",
   "toc_cell": false,
   "toc_position": {
    "height": "calc(100% - 180px)",
    "left": "10px",
    "top": "150px",
    "width": "298.594px"
   },
   "toc_section_display": true,
   "toc_window_display": true
  }
 },
 "nbformat": 4,
 "nbformat_minor": 5
}
