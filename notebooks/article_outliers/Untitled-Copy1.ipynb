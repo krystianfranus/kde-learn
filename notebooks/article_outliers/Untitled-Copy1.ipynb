{
 "cells": [
  {
   "cell_type": "markdown",
   "id": "9a33f31f",
   "metadata": {},
   "source": [
    "Inna licznosc zbioru"
   ]
  },
  {
   "cell_type": "code",
   "execution_count": 1,
   "id": "13c399e3",
   "metadata": {
    "ExecuteTime": {
     "end_time": "2023-04-07T11:28:38.239141Z",
     "start_time": "2023-04-07T11:28:37.317248Z"
    }
   },
   "outputs": [],
   "source": [
    "import pandas as pd\n",
    "import matplotlib.pyplot as plt\n",
    "import numpy as np\n",
    "from sklearn.metrics import confusion_matrix\n",
    "from kdelearn.kde_tasks import KDEOutliersDetection\n",
    "from kdelearn.metrics import pi_kf"
   ]
  },
  {
   "cell_type": "code",
   "execution_count": 2,
   "id": "1e269535",
   "metadata": {
    "ExecuteTime": {
     "end_time": "2023-04-07T11:28:38.274426Z",
     "start_time": "2023-04-07T11:28:38.241516Z"
    }
   },
   "outputs": [],
   "source": [
    "data = pd.read_csv(\"/home/krystian/Downloads/archive/thyroidDF.csv\")"
   ]
  },
  {
   "cell_type": "code",
   "execution_count": 3,
   "id": "848da83c",
   "metadata": {
    "ExecuteTime": {
     "end_time": "2023-04-07T11:28:38.281780Z",
     "start_time": "2023-04-07T11:28:38.276360Z"
    }
   },
   "outputs": [
    {
     "data": {
      "text/plain": [
       "(9172, 31)"
      ]
     },
     "execution_count": 3,
     "metadata": {},
     "output_type": "execute_result"
    }
   ],
   "source": [
    "data.shape"
   ]
  },
  {
   "cell_type": "code",
   "execution_count": 4,
   "id": "3c660127",
   "metadata": {
    "ExecuteTime": {
     "end_time": "2023-04-07T11:28:38.287004Z",
     "start_time": "2023-04-07T11:28:38.283784Z"
    }
   },
   "outputs": [
    {
     "data": {
      "text/plain": [
       "Index(['age', 'sex', 'on_thyroxine', 'query_on_thyroxine',\n",
       "       'on_antithyroid_meds', 'sick', 'pregnant', 'thyroid_surgery',\n",
       "       'I131_treatment', 'query_hypothyroid', 'query_hyperthyroid', 'lithium',\n",
       "       'goitre', 'tumor', 'hypopituitary', 'psych', 'TSH_measured', 'TSH',\n",
       "       'T3_measured', 'T3', 'TT4_measured', 'TT4', 'T4U_measured', 'T4U',\n",
       "       'FTI_measured', 'FTI', 'TBG_measured', 'TBG', 'referral_source',\n",
       "       'target', 'patient_id'],\n",
       "      dtype='object')"
      ]
     },
     "execution_count": 4,
     "metadata": {},
     "output_type": "execute_result"
    }
   ],
   "source": [
    "data.columns"
   ]
  },
  {
   "cell_type": "code",
   "execution_count": 5,
   "id": "beca672c",
   "metadata": {
    "ExecuteTime": {
     "end_time": "2023-04-07T11:28:38.310779Z",
     "start_time": "2023-04-07T11:28:38.288946Z"
    }
   },
   "outputs": [
    {
     "data": {
      "text/html": [
       "<div>\n",
       "<style scoped>\n",
       "    .dataframe tbody tr th:only-of-type {\n",
       "        vertical-align: middle;\n",
       "    }\n",
       "\n",
       "    .dataframe tbody tr th {\n",
       "        vertical-align: top;\n",
       "    }\n",
       "\n",
       "    .dataframe thead th {\n",
       "        text-align: right;\n",
       "    }\n",
       "</style>\n",
       "<table border=\"1\" class=\"dataframe\">\n",
       "  <thead>\n",
       "    <tr style=\"text-align: right;\">\n",
       "      <th></th>\n",
       "      <th>age</th>\n",
       "      <th>sex</th>\n",
       "      <th>on_thyroxine</th>\n",
       "      <th>query_on_thyroxine</th>\n",
       "      <th>on_antithyroid_meds</th>\n",
       "      <th>sick</th>\n",
       "      <th>pregnant</th>\n",
       "      <th>thyroid_surgery</th>\n",
       "      <th>I131_treatment</th>\n",
       "      <th>query_hypothyroid</th>\n",
       "      <th>...</th>\n",
       "      <th>TT4</th>\n",
       "      <th>T4U_measured</th>\n",
       "      <th>T4U</th>\n",
       "      <th>FTI_measured</th>\n",
       "      <th>FTI</th>\n",
       "      <th>TBG_measured</th>\n",
       "      <th>TBG</th>\n",
       "      <th>referral_source</th>\n",
       "      <th>target</th>\n",
       "      <th>patient_id</th>\n",
       "    </tr>\n",
       "  </thead>\n",
       "  <tbody>\n",
       "    <tr>\n",
       "      <th>0</th>\n",
       "      <td>29</td>\n",
       "      <td>F</td>\n",
       "      <td>f</td>\n",
       "      <td>f</td>\n",
       "      <td>f</td>\n",
       "      <td>f</td>\n",
       "      <td>f</td>\n",
       "      <td>f</td>\n",
       "      <td>f</td>\n",
       "      <td>t</td>\n",
       "      <td>...</td>\n",
       "      <td>NaN</td>\n",
       "      <td>f</td>\n",
       "      <td>NaN</td>\n",
       "      <td>f</td>\n",
       "      <td>NaN</td>\n",
       "      <td>f</td>\n",
       "      <td>NaN</td>\n",
       "      <td>other</td>\n",
       "      <td>-</td>\n",
       "      <td>840801013</td>\n",
       "    </tr>\n",
       "    <tr>\n",
       "      <th>1</th>\n",
       "      <td>29</td>\n",
       "      <td>F</td>\n",
       "      <td>f</td>\n",
       "      <td>f</td>\n",
       "      <td>f</td>\n",
       "      <td>f</td>\n",
       "      <td>f</td>\n",
       "      <td>f</td>\n",
       "      <td>f</td>\n",
       "      <td>f</td>\n",
       "      <td>...</td>\n",
       "      <td>128.0</td>\n",
       "      <td>f</td>\n",
       "      <td>NaN</td>\n",
       "      <td>f</td>\n",
       "      <td>NaN</td>\n",
       "      <td>f</td>\n",
       "      <td>NaN</td>\n",
       "      <td>other</td>\n",
       "      <td>-</td>\n",
       "      <td>840801014</td>\n",
       "    </tr>\n",
       "    <tr>\n",
       "      <th>2</th>\n",
       "      <td>41</td>\n",
       "      <td>F</td>\n",
       "      <td>f</td>\n",
       "      <td>f</td>\n",
       "      <td>f</td>\n",
       "      <td>f</td>\n",
       "      <td>f</td>\n",
       "      <td>f</td>\n",
       "      <td>f</td>\n",
       "      <td>f</td>\n",
       "      <td>...</td>\n",
       "      <td>NaN</td>\n",
       "      <td>f</td>\n",
       "      <td>NaN</td>\n",
       "      <td>f</td>\n",
       "      <td>NaN</td>\n",
       "      <td>t</td>\n",
       "      <td>11.0</td>\n",
       "      <td>other</td>\n",
       "      <td>-</td>\n",
       "      <td>840801042</td>\n",
       "    </tr>\n",
       "    <tr>\n",
       "      <th>3</th>\n",
       "      <td>36</td>\n",
       "      <td>F</td>\n",
       "      <td>f</td>\n",
       "      <td>f</td>\n",
       "      <td>f</td>\n",
       "      <td>f</td>\n",
       "      <td>f</td>\n",
       "      <td>f</td>\n",
       "      <td>f</td>\n",
       "      <td>f</td>\n",
       "      <td>...</td>\n",
       "      <td>NaN</td>\n",
       "      <td>f</td>\n",
       "      <td>NaN</td>\n",
       "      <td>f</td>\n",
       "      <td>NaN</td>\n",
       "      <td>t</td>\n",
       "      <td>26.0</td>\n",
       "      <td>other</td>\n",
       "      <td>-</td>\n",
       "      <td>840803046</td>\n",
       "    </tr>\n",
       "    <tr>\n",
       "      <th>4</th>\n",
       "      <td>32</td>\n",
       "      <td>F</td>\n",
       "      <td>f</td>\n",
       "      <td>f</td>\n",
       "      <td>f</td>\n",
       "      <td>f</td>\n",
       "      <td>f</td>\n",
       "      <td>f</td>\n",
       "      <td>f</td>\n",
       "      <td>f</td>\n",
       "      <td>...</td>\n",
       "      <td>NaN</td>\n",
       "      <td>f</td>\n",
       "      <td>NaN</td>\n",
       "      <td>f</td>\n",
       "      <td>NaN</td>\n",
       "      <td>t</td>\n",
       "      <td>36.0</td>\n",
       "      <td>other</td>\n",
       "      <td>S</td>\n",
       "      <td>840803047</td>\n",
       "    </tr>\n",
       "  </tbody>\n",
       "</table>\n",
       "<p>5 rows × 31 columns</p>\n",
       "</div>"
      ],
      "text/plain": [
       "   age sex on_thyroxine query_on_thyroxine on_antithyroid_meds sick pregnant  \\\n",
       "0   29   F            f                  f                   f    f        f   \n",
       "1   29   F            f                  f                   f    f        f   \n",
       "2   41   F            f                  f                   f    f        f   \n",
       "3   36   F            f                  f                   f    f        f   \n",
       "4   32   F            f                  f                   f    f        f   \n",
       "\n",
       "  thyroid_surgery I131_treatment query_hypothyroid  ...    TT4 T4U_measured  \\\n",
       "0               f              f                 t  ...    NaN            f   \n",
       "1               f              f                 f  ...  128.0            f   \n",
       "2               f              f                 f  ...    NaN            f   \n",
       "3               f              f                 f  ...    NaN            f   \n",
       "4               f              f                 f  ...    NaN            f   \n",
       "\n",
       "  T4U FTI_measured FTI TBG_measured   TBG  referral_source target  patient_id  \n",
       "0 NaN            f NaN            f   NaN            other      -   840801013  \n",
       "1 NaN            f NaN            f   NaN            other      -   840801014  \n",
       "2 NaN            f NaN            t  11.0            other      -   840801042  \n",
       "3 NaN            f NaN            t  26.0            other      -   840803046  \n",
       "4 NaN            f NaN            t  36.0            other      S   840803047  \n",
       "\n",
       "[5 rows x 31 columns]"
      ]
     },
     "execution_count": 5,
     "metadata": {},
     "output_type": "execute_result"
    }
   ],
   "source": [
    "data.head()"
   ]
  },
  {
   "cell_type": "code",
   "execution_count": 6,
   "id": "0e3b8cd3",
   "metadata": {
    "ExecuteTime": {
     "end_time": "2023-04-07T11:28:38.316847Z",
     "start_time": "2023-04-07T11:28:38.312156Z"
    }
   },
   "outputs": [
    {
     "data": {
      "text/plain": [
       "-      6771\n",
       "K       436\n",
       "G       359\n",
       "I       346\n",
       "F       233\n",
       "R       196\n",
       "A       147\n",
       "L       115\n",
       "M       111\n",
       "N       110\n",
       "S        85\n",
       "GK       49\n",
       "AK       46\n",
       "J        30\n",
       "B        21\n",
       "MK       16\n",
       "Q        14\n",
       "O        14\n",
       "C|I      12\n",
       "KJ       11\n",
       "GI       10\n",
       "H|K       8\n",
       "D         8\n",
       "FK        6\n",
       "C         6\n",
       "P         5\n",
       "MI        2\n",
       "LJ        1\n",
       "GKJ       1\n",
       "OI        1\n",
       "D|R       1\n",
       "E         1\n",
       "Name: target, dtype: int64"
      ]
     },
     "execution_count": 6,
     "metadata": {},
     "output_type": "execute_result"
    }
   ],
   "source": [
    "data[\"target\"].value_counts()"
   ]
  },
  {
   "cell_type": "code",
   "execution_count": 7,
   "id": "d518874d",
   "metadata": {
    "ExecuteTime": {
     "end_time": "2023-04-07T11:28:38.797493Z",
     "start_time": "2023-04-07T11:28:38.790911Z"
    }
   },
   "outputs": [],
   "source": [
    "# \thypothyroid conditions:\n",
    "\n",
    "# \t\tE\thypothyroid\n",
    "# \t\tF\tprimary hypothyroid\n",
    "# \t\tG\tcompensated hypothyroid\n",
    "# \t\tH\tsecondary hypothyroid"
   ]
  },
  {
   "cell_type": "code",
   "execution_count": 8,
   "id": "b39bbbc6",
   "metadata": {
    "ExecuteTime": {
     "end_time": "2023-04-07T11:28:39.293771Z",
     "start_time": "2023-04-07T11:28:39.272785Z"
    }
   },
   "outputs": [
    {
     "data": {
      "text/plain": [
       "(0, 842, 2604, 442, 809, 802, 8823)"
      ]
     },
     "execution_count": 8,
     "metadata": {},
     "output_type": "execute_result"
    }
   ],
   "source": [
    "data[\"age\"].isna().sum(), data[\"TSH\"].isna().sum(), data[\"T3\"].isna().sum(), data[\"TT4\"].isna().sum(), data[\"T4U\"].isna().sum(), data[\"FTI\"].isna().sum(), data[\"TBG\"].isna().sum()"
   ]
  },
  {
   "cell_type": "code",
   "execution_count": 9,
   "id": "73dc46b0",
   "metadata": {
    "ExecuteTime": {
     "end_time": "2023-04-07T11:28:39.760393Z",
     "start_time": "2023-04-07T11:28:39.710946Z"
    }
   },
   "outputs": [
    {
     "data": {
      "text/plain": [
       "(7359, 31)"
      ]
     },
     "execution_count": 9,
     "metadata": {},
     "output_type": "execute_result"
    }
   ],
   "source": [
    "data = data[(data[\"age\"] > 0) & (data[\"age\"] < 101)]\n",
    "data = data[data[\"target\"].isin([\"-\", \"G\", \"F\"])]\n",
    "data.loc[data[\"target\"]==\"-\", \"target\"] = 0\n",
    "data.loc[data[\"target\"]==\"G\", \"target\"] = 1\n",
    "data.loc[data[\"target\"]==\"F\", \"target\"] = 2\n",
    "data[\"target\"] = data[\"target\"].astype(int)\n",
    "data = data.reset_index(drop=True)\n",
    "\n",
    "data.shape"
   ]
  },
  {
   "cell_type": "code",
   "execution_count": 10,
   "id": "47a0c856",
   "metadata": {
    "ExecuteTime": {
     "end_time": "2023-04-07T11:28:40.247111Z",
     "start_time": "2023-04-07T11:28:40.235674Z"
    }
   },
   "outputs": [
    {
     "data": {
      "text/plain": [
       "(0, 689, 2172, 354, 670, 663, 7103)"
      ]
     },
     "execution_count": 10,
     "metadata": {},
     "output_type": "execute_result"
    }
   ],
   "source": [
    "data[\"age\"].isna().sum(), data[\"TSH\"].isna().sum(), data[\"T3\"].isna().sum(), data[\"TT4\"].isna().sum(), data[\"T4U\"].isna().sum(), data[\"FTI\"].isna().sum(), data[\"TBG\"].isna().sum()"
   ]
  },
  {
   "cell_type": "code",
   "execution_count": 12,
   "id": "357326b6",
   "metadata": {
    "ExecuteTime": {
     "end_time": "2023-04-07T11:28:43.246628Z",
     "start_time": "2023-04-07T11:28:43.211906Z"
    }
   },
   "outputs": [],
   "source": [
    "data.loc[data[\"target\"]==0, \"TSH\"] = data.loc[data[\"target\"]==0, \"TSH\"].fillna(data.loc[data[\"target\"]==0, \"TSH\"].median())\n",
    "data.loc[data[\"target\"]==1, \"TSH\"] = data.loc[data[\"target\"]==1, \"TSH\"].fillna(data.loc[data[\"target\"]==1, \"TSH\"].median())\n",
    "data.loc[data[\"target\"]==2, \"TSH\"] = data.loc[data[\"target\"]==2, \"TSH\"].fillna(data.loc[data[\"target\"]==2, \"TSH\"].median())\n",
    "\n",
    "data.loc[data[\"target\"]==0, \"T3\"] = data.loc[data[\"target\"]==0, \"T3\"].fillna(data.loc[data[\"target\"]==0, \"T3\"].mean())\n",
    "data.loc[data[\"target\"]==1, \"T3\"] = data.loc[data[\"target\"]==1, \"T3\"].fillna(data.loc[data[\"target\"]==1, \"T3\"].mean())\n",
    "data.loc[data[\"target\"]==2, \"T3\"] = data.loc[data[\"target\"]==2, \"T3\"].fillna(data.loc[data[\"target\"]==2, \"T3\"].mean())\n",
    "\n",
    "data.loc[data[\"target\"]==0, \"TT4\"] = data.loc[data[\"target\"]==0, \"TT4\"].fillna(data.loc[data[\"target\"]==0, \"TT4\"].mean())\n",
    "data.loc[data[\"target\"]==1, \"TT4\"] = data.loc[data[\"target\"]==1, \"TT4\"].fillna(data.loc[data[\"target\"]==1, \"TT4\"].mean())\n",
    "data.loc[data[\"target\"]==2, \"TT4\"] = data.loc[data[\"target\"]==2, \"TT4\"].fillna(data.loc[data[\"target\"]==2, \"TT4\"].mean())\n",
    "\n",
    "data.loc[data[\"target\"]==0, \"T4U\"] = data.loc[data[\"target\"]==0, \"T4U\"].fillna(data.loc[data[\"target\"]==0, \"T4U\"].mean())\n",
    "data.loc[data[\"target\"]==1, \"T4U\"] = data.loc[data[\"target\"]==1, \"T4U\"].fillna(data.loc[data[\"target\"]==1, \"T4U\"].mean())\n",
    "data.loc[data[\"target\"]==2, \"T4U\"] = data.loc[data[\"target\"]==2, \"T4U\"].fillna(data.loc[data[\"target\"]==2, \"T4U\"].mean())\n",
    "\n",
    "data.loc[data[\"target\"]==0, \"FTI\"] = data.loc[data[\"target\"]==0, \"FTI\"].fillna(data.loc[data[\"target\"]==0, \"FTI\"].mean())\n",
    "data.loc[data[\"target\"]==1, \"FTI\"] = data.loc[data[\"target\"]==1, \"FTI\"].fillna(data.loc[data[\"target\"]==1, \"FTI\"].mean())\n",
    "data.loc[data[\"target\"]==2, \"FTI\"] = data.loc[data[\"target\"]==2, \"FTI\"].fillna(data.loc[data[\"target\"]==2, \"FTI\"].mean())"
   ]
  },
  {
   "cell_type": "code",
   "execution_count": 13,
   "id": "3a6cc912",
   "metadata": {
    "ExecuteTime": {
     "end_time": "2023-04-07T11:28:44.537473Z",
     "start_time": "2023-04-07T11:28:44.530219Z"
    }
   },
   "outputs": [],
   "source": [
    "# data = data[[\"age\", \"TSH\", \"T3\", \"TT4\", \"T4U\", \"FTI\", \"target\"]].dropna()"
   ]
  },
  {
   "cell_type": "code",
   "execution_count": 14,
   "id": "9cb23d2d",
   "metadata": {
    "ExecuteTime": {
     "end_time": "2023-04-07T11:28:44.798435Z",
     "start_time": "2023-04-07T11:28:44.794592Z"
    }
   },
   "outputs": [
    {
     "data": {
      "text/plain": [
       "(7359, 31)"
      ]
     },
     "execution_count": 14,
     "metadata": {},
     "output_type": "execute_result"
    }
   ],
   "source": [
    "data.shape"
   ]
  },
  {
   "cell_type": "code",
   "execution_count": 15,
   "id": "32e4b2b8",
   "metadata": {
    "ExecuteTime": {
     "end_time": "2023-04-07T11:28:45.312823Z",
     "start_time": "2023-04-07T11:28:45.304609Z"
    }
   },
   "outputs": [
    {
     "data": {
      "text/plain": [
       "0    6767\n",
       "1     359\n",
       "2     233\n",
       "Name: target, dtype: int64"
      ]
     },
     "execution_count": 15,
     "metadata": {},
     "output_type": "execute_result"
    }
   ],
   "source": [
    "data[\"target\"].value_counts()"
   ]
  },
  {
   "cell_type": "code",
   "execution_count": null,
   "id": "8ff3b778",
   "metadata": {},
   "outputs": [],
   "source": []
  },
  {
   "cell_type": "code",
   "execution_count": 16,
   "id": "0a3d9cdd",
   "metadata": {
    "ExecuteTime": {
     "end_time": "2023-04-07T11:28:52.978110Z",
     "start_time": "2023-04-07T11:28:52.623367Z"
    }
   },
   "outputs": [
    {
     "data": {
      "image/png": "[encoded data removed]",
      "text/plain": [
       "<Figure size 600x400 with 1 Axes>"
      ]
     },
     "metadata": {},
     "output_type": "display_data"
    }
   ],
   "source": [
    "plt.figure(figsize=(6, 4))\n",
    "plt.hist(data.loc[data[\"target\"] == 0, \"age\"], bins=15, alpha=0.5)\n",
    "plt.hist(data.loc[data[\"target\"] == 1, \"age\"], bins=15, alpha=0.5, color=\"red\")\n",
    "plt.hist(data.loc[data[\"target\"] == 2, \"age\"], bins=15, alpha=0.5, color=\"orange\")\n",
    "plt.yscale(\"log\")\n",
    "plt.xlabel(\"age\")\n",
    "plt.show()"
   ]
  },
  {
   "cell_type": "code",
   "execution_count": 17,
   "id": "d5c9fa5a",
   "metadata": {
    "ExecuteTime": {
     "end_time": "2023-04-07T11:28:53.686320Z",
     "start_time": "2023-04-07T11:28:53.324532Z"
    }
   },
   "outputs": [
    {
     "data": {
      "image/png": "[encoded data removed]",
      "text/plain": [
       "<Figure size 600x400 with 1 Axes>"
      ]
     },
     "metadata": {},
     "output_type": "display_data"
    }
   ],
   "source": [
    "plt.figure(figsize=(6, 4))\n",
    "plt.hist(data.loc[data[\"target\"] == 0, \"TSH\"], bins=15, alpha=0.5)\n",
    "plt.hist(data.loc[data[\"target\"] == 1, \"TSH\"], bins=15, alpha=0.5, color=\"red\")\n",
    "plt.hist(data.loc[data[\"target\"] == 2, \"TSH\"], bins=15, alpha=0.5, color=\"orange\")\n",
    "plt.yscale(\"log\")\n",
    "plt.xlabel(\"TSH\")\n",
    "plt.show()"
   ]
  },
  {
   "cell_type": "code",
   "execution_count": 18,
   "id": "9efc17b5",
   "metadata": {
    "ExecuteTime": {
     "end_time": "2023-04-07T11:28:54.396891Z",
     "start_time": "2023-04-07T11:28:54.061413Z"
    }
   },
   "outputs": [
    {
     "data": {
      "image/png": "[encoded data removed]",
      "text/plain": [
       "<Figure size 600x400 with 1 Axes>"
      ]
     },
     "metadata": {},
     "output_type": "display_data"
    }
   ],
   "source": [
    "plt.figure(figsize=(6, 4))\n",
    "plt.hist(data.loc[data[\"target\"] == 0, \"T3\"], bins=15, alpha=0.5)\n",
    "plt.hist(data.loc[data[\"target\"] == 1, \"T3\"], bins=15, alpha=0.5, color=\"red\")\n",
    "plt.hist(data.loc[data[\"target\"] == 2, \"T3\"], bins=15, alpha=0.5, color=\"orange\")\n",
    "plt.yscale(\"log\")\n",
    "plt.xlabel(\"T3\")\n",
    "plt.show()"
   ]
  },
  {
   "cell_type": "code",
   "execution_count": 19,
   "id": "2bb8dad9",
   "metadata": {
    "ExecuteTime": {
     "end_time": "2023-04-07T11:28:56.228269Z",
     "start_time": "2023-04-07T11:28:55.920201Z"
    }
   },
   "outputs": [
    {
     "data": {
      "image/png": "[encoded data removed]",
      "text/plain": [
       "<Figure size 600x400 with 1 Axes>"
      ]
     },
     "metadata": {},
     "output_type": "display_data"
    }
   ],
   "source": [
    "plt.figure(figsize=(6, 4))\n",
    "plt.hist(data.loc[data[\"target\"] == 0, \"TT4\"], bins=15, alpha=0.5)\n",
    "plt.hist(data.loc[data[\"target\"] == 1, \"TT4\"], bins=15, alpha=0.5, color=\"red\")\n",
    "plt.hist(data.loc[data[\"target\"] == 2, \"TT4\"], bins=15, alpha=0.5, color=\"orange\")\n",
    "plt.yscale(\"log\")\n",
    "plt.xlabel(\"TT4\")\n",
    "plt.show()"
   ]
  },
  {
   "cell_type": "code",
   "execution_count": 20,
   "id": "98dc75b0",
   "metadata": {
    "ExecuteTime": {
     "end_time": "2023-04-07T11:28:58.235940Z",
     "start_time": "2023-04-07T11:28:57.911189Z"
    }
   },
   "outputs": [
    {
     "data": {
      "image/png": "[encoded data removed]",
      "text/plain": [
       "<Figure size 600x400 with 1 Axes>"
      ]
     },
     "metadata": {},
     "output_type": "display_data"
    }
   ],
   "source": [
    "plt.figure(figsize=(6, 4))\n",
    "plt.hist(data.loc[data[\"target\"] == 0, \"T4U\"], bins=15, alpha=0.5)\n",
    "plt.hist(data.loc[data[\"target\"] == 1, \"T4U\"], bins=15, alpha=0.5, color=\"red\")\n",
    "plt.hist(data.loc[data[\"target\"] == 2, \"T4U\"], bins=15, alpha=0.5, color=\"orange\")\n",
    "plt.yscale(\"log\")\n",
    "plt.xlabel(\"T4U\")\n",
    "plt.show()"
   ]
  },
  {
   "cell_type": "code",
   "execution_count": 21,
   "id": "dbe34d26",
   "metadata": {
    "ExecuteTime": {
     "end_time": "2023-04-07T11:28:59.968133Z",
     "start_time": "2023-04-07T11:28:59.644054Z"
    }
   },
   "outputs": [
    {
     "data": {
      "image/png": "[encoded data removed]",
      "text/plain": [
       "<Figure size 600x400 with 1 Axes>"
      ]
     },
     "metadata": {},
     "output_type": "display_data"
    }
   ],
   "source": [
    "plt.figure(figsize=(6, 4))\n",
    "plt.hist(data.loc[data[\"target\"] == 0, \"FTI\"], bins=15, alpha=0.5)\n",
    "plt.hist(data.loc[data[\"target\"] == 1, \"FTI\"], bins=15, alpha=0.5, color=\"red\")\n",
    "plt.hist(data.loc[data[\"target\"] == 2, \"FTI\"], bins=15, alpha=0.5, color=\"orange\")\n",
    "plt.yscale(\"log\")\n",
    "plt.xlabel(\"FTI\")\n",
    "plt.show()"
   ]
  },
  {
   "cell_type": "markdown",
   "id": "9cd928b3",
   "metadata": {},
   "source": [
    "# Outliers detection"
   ]
  },
  {
   "cell_type": "code",
   "execution_count": 22,
   "id": "1c5f9baa",
   "metadata": {
    "ExecuteTime": {
     "end_time": "2023-04-07T11:29:03.162452Z",
     "start_time": "2023-04-07T11:29:03.144922Z"
    }
   },
   "outputs": [
    {
     "data": {
      "text/plain": [
       "0    6767\n",
       "1     359\n",
       "2     233\n",
       "Name: target, dtype: int64"
      ]
     },
     "execution_count": 22,
     "metadata": {},
     "output_type": "execute_result"
    }
   ],
   "source": [
    "data[\"target\"].value_counts()"
   ]
  },
  {
   "cell_type": "code",
   "execution_count": 23,
   "id": "2f177c0e",
   "metadata": {
    "ExecuteTime": {
     "end_time": "2023-04-07T11:29:04.339733Z",
     "start_time": "2023-04-07T11:29:04.319396Z"
    }
   },
   "outputs": [],
   "source": [
    "data_all = data[[\"age\", \"TSH\", \"T3\", \"TT4\", \"T4U\", \"FTI\", \"target\"]].copy()\n",
    "data_all.loc[data_all[\"target\"]!=0, \"target\"] = 1\n",
    "\n",
    "x_train = data_all[[\"age\", \"TSH\", \"T3\", \"TT4\", \"T4U\", \"FTI\"]].to_numpy().copy()\n",
    "labels_train = data_all[\"target\"].to_numpy().copy()"
   ]
  },
  {
   "cell_type": "code",
   "execution_count": 24,
   "id": "680f7033",
   "metadata": {
    "ExecuteTime": {
     "end_time": "2023-04-07T11:29:04.749110Z",
     "start_time": "2023-04-07T11:29:04.739965Z"
    }
   },
   "outputs": [
    {
     "data": {
      "text/plain": [
       "0.08044571273270824"
      ]
     },
     "execution_count": 24,
     "metadata": {},
     "output_type": "execute_result"
    }
   ],
   "source": [
    "labels_train.sum() / labels_train.shape[0]"
   ]
  },
  {
   "cell_type": "code",
   "execution_count": 25,
   "id": "029b4eb7",
   "metadata": {
    "ExecuteTime": {
     "end_time": "2023-04-07T11:30:26.400168Z",
     "start_time": "2023-04-07T11:29:09.503153Z"
    }
   },
   "outputs": [
    {
     "name": "stdout",
     "output_type": "stream",
     "text": [
      "871 592\n",
      "0.9999999997698863\n",
      "[[6305  462]\n",
      " [ 183  409]]\n",
      "precision: 0.4695752009184845\n",
      "recall: 0.6908783783783784\n",
      "accuracy: 0.9123522217692621\n"
     ]
    },
    {
     "data": {
      "text/plain": [
       "(0.0005175568507791623,\n",
       " 0.0005175568507791623,\n",
       " 0.0005175568507791623,\n",
       " 0.0005175568508283778)"
      ]
     },
     "execution_count": 25,
     "metadata": {},
     "output_type": "execute_result"
    }
   ],
   "source": [
    "outliers_detector = KDEOutliersDetection().fit(x_train, r=0.08)\n",
    "labels_pred = outliers_detector.predict(x_train)\n",
    "\n",
    "bandwidth = outliers_detector.kde.bandwidth\n",
    "scores = outliers_detector.kde.pdf(x_train)\n",
    "\n",
    "print(labels_pred.sum(), labels_train.sum())\n",
    "\n",
    "metric = pi_kf(x_train, labels_pred, bandwidth=bandwidth)\n",
    "print(metric)\n",
    "\n",
    "res = confusion_matrix(labels_train, labels_pred)\n",
    "print(res)\n",
    "\n",
    "print(f\"precision: {res[1, 1] / res[:, 1].sum()}\")\n",
    "print(f\"recall: {res[1, 1] / res[1, :].sum()}\")\n",
    "print(f\"accuracy: {np.diag(res).sum() / res.sum()}\")\n",
    "\n",
    "np.quantile(scores, 0.01), np.quantile(scores, 0.05), np.quantile(scores, 0.1), np.quantile(scores, 0.2)"
   ]
  },
  {
   "cell_type": "code",
   "execution_count": 26,
   "id": "34e34c0d",
   "metadata": {
    "ExecuteTime": {
     "end_time": "2023-04-07T11:30:48.748337Z",
     "start_time": "2023-04-07T11:30:26.401563Z"
    }
   },
   "outputs": [
    {
     "name": "stdout",
     "output_type": "stream",
     "text": [
      "3352 592\n",
      "0.999847190238533\n",
      "[[3981 2786]\n",
      " [  26  566]]\n",
      "precision: 0.16885441527446302\n",
      "recall: 0.956081081081081\n",
      "accuracy: 0.6178828645196358\n"
     ]
    },
    {
     "data": {
      "text/plain": [
       "(0.033123638449866384,\n",
       " 0.033123638449866384,\n",
       " 0.033123638449866384,\n",
       " 0.033123638449866384)"
      ]
     },
     "execution_count": 26,
     "metadata": {},
     "output_type": "execute_result"
    }
   ],
   "source": [
    "outliers_detector = KDEOutliersDetection().fit(x_train, bandwidth=bandwidth*0.5, r=0.08)\n",
    "labels_pred = outliers_detector.predict(x_train)\n",
    "scores = outliers_detector.kde.pdf(x_train)\n",
    "\n",
    "print(labels_pred.sum(), labels_train.sum())\n",
    "\n",
    "metric = pi_kf(x_train, labels_pred, bandwidth=bandwidth*0.5)\n",
    "print(metric)\n",
    "\n",
    "res = confusion_matrix(labels_train, labels_pred)\n",
    "print(res)\n",
    "\n",
    "print(f\"precision: {res[1, 1] / res[:, 1].sum()}\")\n",
    "print(f\"recall: {res[1, 1] / res[1, :].sum()}\")\n",
    "print(f\"accuracy: {np.diag(res).sum() / res.sum()}\")\n",
    "\n",
    "np.quantile(scores, 0.01), np.quantile(scores, 0.05), np.quantile(scores, 0.1), np.quantile(scores, 0.2)"
   ]
  },
  {
   "cell_type": "code",
   "execution_count": 27,
   "id": "fc243fc8",
   "metadata": {
    "ExecuteTime": {
     "end_time": "2023-04-07T11:31:03.196451Z",
     "start_time": "2023-04-07T11:30:48.749880Z"
    }
   },
   "outputs": [
    {
     "name": "stdout",
     "output_type": "stream",
     "text": [
      "589 592\n",
      "0.9996766522497701\n",
      "[[6510  257]\n",
      " [ 260  332]]\n",
      "precision: 0.5636672325976231\n",
      "recall: 0.5608108108108109\n",
      "accuracy: 0.929745889387145\n"
     ]
    },
    {
     "data": {
      "text/plain": [
       "(8.08682579342441e-06,\n",
       " 8.086825795521953e-06,\n",
       " 8.086990962962372e-06,\n",
       " 8.127641053203375e-06)"
      ]
     },
     "execution_count": 27,
     "metadata": {},
     "output_type": "execute_result"
    }
   ],
   "source": [
    "outliers_detector = KDEOutliersDetection().fit(x_train, bandwidth=bandwidth*2, r=0.08)\n",
    "labels_pred = outliers_detector.predict(x_train)\n",
    "scores = outliers_detector.kde.pdf(x_train)\n",
    "\n",
    "print(labels_pred.sum(), labels_train.sum())\n",
    "\n",
    "metric = pi_kf(x_train, labels_pred, bandwidth=bandwidth*2)\n",
    "print(metric)\n",
    "\n",
    "res = confusion_matrix(labels_train, labels_pred)\n",
    "print(res)\n",
    "\n",
    "print(f\"precision: {res[1, 1] / res[:, 1].sum()}\")\n",
    "print(f\"recall: {res[1, 1] / res[1, :].sum()}\")\n",
    "print(f\"accuracy: {np.diag(res).sum() / res.sum()}\")\n",
    "\n",
    "np.quantile(scores, 0.01), np.quantile(scores, 0.05), np.quantile(scores, 0.1), np.quantile(scores, 0.2)"
   ]
  },
  {
   "cell_type": "code",
   "execution_count": 28,
   "id": "c54444e5",
   "metadata": {
    "ExecuteTime": {
     "end_time": "2023-04-07T11:31:16.769524Z",
     "start_time": "2023-04-07T11:31:03.198830Z"
    }
   },
   "outputs": [
    {
     "name": "stdout",
     "output_type": "stream",
     "text": [
      "589 592\n",
      "0.5384019552530712\n",
      "[[6510  257]\n",
      " [ 260  332]]\n",
      "precision: 0.5636672325976231\n",
      "recall: 0.5608108108108109\n",
      "accuracy: 0.929745889387145\n"
     ]
    },
    {
     "data": {
      "text/plain": [
       "(3.3123701172232027e-08,\n",
       " 3.4878160769702414e-08,\n",
       " 5.134491713114199e-08,\n",
       " 1.3663155249774445e-07)"
      ]
     },
     "execution_count": 28,
     "metadata": {},
     "output_type": "execute_result"
    }
   ],
   "source": [
    "outliers_detector = KDEOutliersDetection().fit(x_train, bandwidth=bandwidth*5, r=0.08)\n",
    "labels_pred = outliers_detector.predict(x_train)\n",
    "scores = outliers_detector.kde.pdf(x_train)\n",
    "\n",
    "print(labels_pred.sum(), labels_train.sum())\n",
    "\n",
    "metric = pi_kf(x_train, labels_pred, bandwidth=bandwidth*5)\n",
    "print(metric)\n",
    "\n",
    "res = confusion_matrix(labels_train, labels_pred)\n",
    "print(res)\n",
    "\n",
    "print(f\"precision: {res[1, 1] / res[:, 1].sum()}\")\n",
    "print(f\"recall: {res[1, 1] / res[1, :].sum()}\")\n",
    "print(f\"accuracy: {np.diag(res).sum() / res.sum()}\")\n",
    "\n",
    "np.quantile(scores, 0.01), np.quantile(scores, 0.05), np.quantile(scores, 0.1), np.quantile(scores, 0.2)"
   ]
  },
  {
   "cell_type": "code",
   "execution_count": 29,
   "id": "21eedf0c",
   "metadata": {
    "ExecuteTime": {
     "end_time": "2023-04-07T11:31:31.536049Z",
     "start_time": "2023-04-07T11:31:16.771342Z"
    }
   },
   "outputs": [
    {
     "name": "stdout",
     "output_type": "stream",
     "text": [
      "589 592\n",
      "0.11294604615169347\n",
      "[[6502  265]\n",
      " [ 268  324]]\n",
      "precision: 0.5500848896434635\n",
      "recall: 0.5472972972972973\n",
      "accuracy: 0.9275716809349096\n"
     ]
    },
    {
     "data": {
      "text/plain": [
       "(5.50777291179766e-10,\n",
       " 1.6360719035609508e-09,\n",
       " 9.99587950781627e-09,\n",
       " 3.760743640929293e-08)"
      ]
     },
     "execution_count": 29,
     "metadata": {},
     "output_type": "execute_result"
    }
   ],
   "source": [
    "outliers_detector = KDEOutliersDetection().fit(x_train, bandwidth=bandwidth*10, r=0.08)\n",
    "labels_pred = outliers_detector.predict(x_train)\n",
    "scores = outliers_detector.kde.pdf(x_train)\n",
    "\n",
    "print(labels_pred.sum(), labels_train.sum())\n",
    "\n",
    "metric = pi_kf(x_train, labels_pred, bandwidth=bandwidth*10)\n",
    "print(metric)\n",
    "\n",
    "res = confusion_matrix(labels_train, labels_pred)\n",
    "print(res)\n",
    "\n",
    "print(f\"precision: {res[1, 1] / res[:, 1].sum()}\")\n",
    "print(f\"recall: {res[1, 1] / res[1, :].sum()}\")\n",
    "print(f\"accuracy: {np.diag(res).sum() / res.sum()}\")\n",
    "\n",
    "np.quantile(scores, 0.01), np.quantile(scores, 0.05), np.quantile(scores, 0.1), np.quantile(scores, 0.2)"
   ]
  },
  {
   "cell_type": "code",
   "execution_count": 30,
   "id": "620bd8c4",
   "metadata": {
    "ExecuteTime": {
     "end_time": "2023-04-07T11:31:46.018867Z",
     "start_time": "2023-04-07T11:31:31.537936Z"
    }
   },
   "outputs": [
    {
     "name": "stdout",
     "output_type": "stream",
     "text": [
      "589 592\n",
      "0.13040637661093296\n",
      "[[6467  300]\n",
      " [ 303  289]]\n",
      "precision: 0.4906621392190153\n",
      "recall: 0.48817567567567566\n",
      "accuracy: 0.9180595189563799\n"
     ]
    },
    {
     "data": {
      "text/plain": [
       "(2.390825448497554e-11,\n",
       " 4.2306085712455836e-10,\n",
       " 2.9196276266419575e-09,\n",
       " 6.9752047580699115e-09)"
      ]
     },
     "execution_count": 30,
     "metadata": {},
     "output_type": "execute_result"
    }
   ],
   "source": [
    "outliers_detector = KDEOutliersDetection().fit(x_train, bandwidth=bandwidth*20, r=0.08)\n",
    "labels_pred = outliers_detector.predict(x_train)\n",
    "scores = outliers_detector.kde.pdf(x_train)\n",
    "\n",
    "print(labels_pred.sum(), labels_train.sum())\n",
    "\n",
    "metric = pi_kf(x_train, labels_pred, bandwidth=bandwidth*20)\n",
    "print(metric)\n",
    "\n",
    "res = confusion_matrix(labels_train, labels_pred)\n",
    "print(res)\n",
    "\n",
    "print(f\"precision: {res[1, 1] / res[:, 1].sum()}\")\n",
    "print(f\"recall: {res[1, 1] / res[1, :].sum()}\")\n",
    "print(f\"accuracy: {np.diag(res).sum() / res.sum()}\")\n",
    "\n",
    "np.quantile(scores, 0.01), np.quantile(scores, 0.05), np.quantile(scores, 0.1), np.quantile(scores, 0.2)"
   ]
  },
  {
   "cell_type": "code",
   "execution_count": 31,
   "id": "05f0e1ea",
   "metadata": {
    "ExecuteTime": {
     "end_time": "2023-04-07T11:32:00.320410Z",
     "start_time": "2023-04-07T11:31:46.020792Z"
    }
   },
   "outputs": [
    {
     "name": "stdout",
     "output_type": "stream",
     "text": [
      "589 592\n",
      "0.38505109947720034\n",
      "[[6448  319]\n",
      " [ 322  270]]\n",
      "precision: 0.45840407470288624\n",
      "recall: 0.4560810810810811\n",
      "accuracy: 0.912895773882321\n"
     ]
    },
    {
     "data": {
      "text/plain": [
       "(7.793225024968781e-13,\n",
       " 6.766955881599698e-11,\n",
       " 1.1608669257504937e-10,\n",
       " 1.4505653054400354e-10)"
      ]
     },
     "execution_count": 31,
     "metadata": {},
     "output_type": "execute_result"
    }
   ],
   "source": [
    "outliers_detector = KDEOutliersDetection().fit(x_train, bandwidth=bandwidth*50, r=0.08)\n",
    "labels_pred = outliers_detector.predict(x_train)\n",
    "scores = outliers_detector.kde.pdf(x_train)\n",
    "\n",
    "print(labels_pred.sum(), labels_train.sum())\n",
    "\n",
    "metric = pi_kf(x_train, labels_pred, bandwidth=bandwidth*50)\n",
    "print(metric)\n",
    "\n",
    "res = confusion_matrix(labels_train, labels_pred)\n",
    "print(res)\n",
    "\n",
    "print(f\"precision: {res[1, 1] / res[:, 1].sum()}\")\n",
    "print(f\"recall: {res[1, 1] / res[1, :].sum()}\")\n",
    "print(f\"accuracy: {np.diag(res).sum() / res.sum()}\")\n",
    "\n",
    "np.quantile(scores, 0.01), np.quantile(scores, 0.05), np.quantile(scores, 0.1), np.quantile(scores, 0.2)"
   ]
  },
  {
   "cell_type": "code",
   "execution_count": null,
   "id": "f5ec7630",
   "metadata": {},
   "outputs": [],
   "source": []
  },
  {
   "cell_type": "code",
   "execution_count": null,
   "id": "660d6cf8",
   "metadata": {},
   "outputs": [],
   "source": []
  },
  {
   "cell_type": "code",
   "execution_count": null,
   "id": "a34fdc2a",
   "metadata": {},
   "outputs": [],
   "source": []
  },
  {
   "cell_type": "code",
   "execution_count": 32,
   "id": "dab902f4",
   "metadata": {
    "ExecuteTime": {
     "end_time": "2023-04-07T11:32:13.538029Z",
     "start_time": "2023-04-07T11:32:00.322425Z"
    }
   },
   "outputs": [
    {
     "name": "stdout",
     "output_type": "stream",
     "text": [
      "871 592\n",
      "0.9999999997698863\n",
      "[[6305  462]\n",
      " [ 183  409]]\n",
      "precision: 0.4695752009184845\n",
      "recall: 0.6908783783783784\n",
      "accuracy: 0.9123522217692621\n"
     ]
    }
   ],
   "source": [
    "outliers_detector = KDEOutliersDetection().fit(x_train, bandwidth=bandwidth, r=0.01)\n",
    "labels_pred = outliers_detector.predict(x_train)\n",
    "\n",
    "print(labels_pred.sum(), labels_train.sum())\n",
    "\n",
    "metric = pi_kf(x_train, labels_pred, bandwidth=bandwidth)\n",
    "print(metric)\n",
    "\n",
    "res = confusion_matrix(labels_train, labels_pred)\n",
    "print(res)\n",
    "\n",
    "print(f\"precision: {res[1, 1] / res[:, 1].sum()}\")\n",
    "print(f\"recall: {res[1, 1] / res[1, :].sum()}\")\n",
    "print(f\"accuracy: {np.diag(res).sum() / res.sum()}\")"
   ]
  },
  {
   "cell_type": "code",
   "execution_count": 33,
   "id": "bf9452fa",
   "metadata": {
    "ExecuteTime": {
     "end_time": "2023-04-07T11:32:27.360792Z",
     "start_time": "2023-04-07T11:32:13.539453Z"
    }
   },
   "outputs": [
    {
     "name": "stdout",
     "output_type": "stream",
     "text": [
      "871 592\n",
      "0.9999999997698863\n",
      "[[6305  462]\n",
      " [ 183  409]]\n",
      "precision: 0.4695752009184845\n",
      "recall: 0.6908783783783784\n",
      "accuracy: 0.9123522217692621\n"
     ]
    }
   ],
   "source": [
    "outliers_detector = KDEOutliersDetection().fit(x_train, bandwidth=bandwidth, r=0.1)\n",
    "labels_pred = outliers_detector.predict(x_train)\n",
    "\n",
    "print(labels_pred.sum(), labels_train.sum())\n",
    "\n",
    "metric = pi_kf(x_train, labels_pred, bandwidth=bandwidth)\n",
    "print(metric)\n",
    "\n",
    "res = confusion_matrix(labels_train, labels_pred)\n",
    "print(res)\n",
    "\n",
    "print(f\"precision: {res[1, 1] / res[:, 1].sum()}\")\n",
    "print(f\"recall: {res[1, 1] / res[1, :].sum()}\")\n",
    "print(f\"accuracy: {np.diag(res).sum() / res.sum()}\")"
   ]
  },
  {
   "cell_type": "code",
   "execution_count": 34,
   "id": "eee69225",
   "metadata": {
    "ExecuteTime": {
     "end_time": "2023-04-07T11:32:40.222074Z",
     "start_time": "2023-04-07T11:32:27.363231Z"
    }
   },
   "outputs": [
    {
     "name": "stdout",
     "output_type": "stream",
     "text": [
      "1104 592\n",
      "0.9999999816992781\n",
      "[[6126  641]\n",
      " [ 129  463]]\n",
      "precision: 0.41938405797101447\n",
      "recall: 0.7820945945945946\n",
      "accuracy: 0.8953662182361734\n"
     ]
    }
   ],
   "source": [
    "outliers_detector = KDEOutliersDetection().fit(x_train, bandwidth=bandwidth, r=0.15)\n",
    "labels_pred = outliers_detector.predict(x_train)\n",
    "\n",
    "print(labels_pred.sum(), labels_train.sum())\n",
    "\n",
    "metric = pi_kf(x_train, labels_pred, bandwidth=bandwidth)\n",
    "print(metric)\n",
    "\n",
    "res = confusion_matrix(labels_train, labels_pred)\n",
    "print(res)\n",
    "\n",
    "print(f\"precision: {res[1, 1] / res[:, 1].sum()}\")\n",
    "print(f\"recall: {res[1, 1] / res[1, :].sum()}\")\n",
    "print(f\"accuracy: {np.diag(res).sum() / res.sum()}\")"
   ]
  },
  {
   "cell_type": "code",
   "execution_count": 35,
   "id": "fb77406c",
   "metadata": {
    "ExecuteTime": {
     "end_time": "2023-04-07T11:32:53.275281Z",
     "start_time": "2023-04-07T11:32:40.223849Z"
    }
   },
   "outputs": [
    {
     "name": "stdout",
     "output_type": "stream",
     "text": [
      "1472 592\n",
      "0.9999975526255425\n",
      "[[5792  975]\n",
      " [  95  497]]\n",
      "precision: 0.3376358695652174\n",
      "recall: 0.839527027027027\n",
      "accuracy: 0.8545998097567604\n"
     ]
    }
   ],
   "source": [
    "outliers_detector = KDEOutliersDetection().fit(x_train, bandwidth=bandwidth, r=0.2)\n",
    "labels_pred = outliers_detector.predict(x_train)\n",
    "\n",
    "print(labels_pred.sum(), labels_train.sum())\n",
    "\n",
    "metric = pi_kf(x_train, labels_pred, bandwidth=bandwidth)\n",
    "print(metric)\n",
    "\n",
    "res = confusion_matrix(labels_train, labels_pred)\n",
    "print(res)\n",
    "\n",
    "print(f\"precision: {res[1, 1] / res[:, 1].sum()}\")\n",
    "print(f\"recall: {res[1, 1] / res[1, :].sum()}\")\n",
    "print(f\"accuracy: {np.diag(res).sum() / res.sum()}\")"
   ]
  },
  {
   "cell_type": "code",
   "execution_count": null,
   "id": "3610fb3d",
   "metadata": {},
   "outputs": [],
   "source": []
  },
  {
   "cell_type": "code",
   "execution_count": null,
   "id": "608d6613",
   "metadata": {},
   "outputs": [],
   "source": []
  },
  {
   "cell_type": "code",
   "execution_count": null,
   "id": "8c0a8b3c",
   "metadata": {},
   "outputs": [],
   "source": []
  },
  {
   "cell_type": "code",
   "execution_count": null,
   "id": "14e0deb6",
   "metadata": {},
   "outputs": [],
   "source": []
  },
  {
   "cell_type": "code",
   "execution_count": null,
   "id": "a4e9e699",
   "metadata": {},
   "outputs": [],
   "source": []
  }
 ],
 "metadata": {
  "kernelspec": {
   "display_name": "Python 3 (ipykernel)",
   "language": "python",
   "name": "python3"
  },
  "language_info": {
   "codemirror_mode": {
    "name": "ipython",
    "version": 3
   },
   "file_extension": ".py",
   "mimetype": "text/x-python",
   "name": "python",
   "nbconvert_exporter": "python",
   "pygments_lexer": "ipython3",
   "version": "3.9.12"
  },
  "toc": {
   "base_numbering": 1,
   "nav_menu": {},
   "number_sections": true,
   "sideBar": true,
   "skip_h1_title": false,
   "title_cell": "Table of Contents",
   "title_sidebar": "Contents",
   "toc_cell": false,
   "toc_position": {},
   "toc_section_display": true,
   "toc_window_display": false
  }
 },
 "nbformat": 4,
 "nbformat_minor": 5
}
