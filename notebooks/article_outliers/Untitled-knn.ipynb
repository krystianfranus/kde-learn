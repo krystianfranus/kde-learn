{
 "cells": [
  {
   "cell_type": "code",
   "execution_count": 22,
   "id": "13c399e3",
   "metadata": {
    "ExecuteTime": {
     "end_time": "2023-04-20T22:08:39.837059Z",
     "start_time": "2023-04-20T22:08:39.776331Z"
    }
   },
   "outputs": [],
   "source": [
    "import pandas as pd\n",
    "import matplotlib.pyplot as plt\n",
    "import numpy as np\n",
    "from sklearn.metrics import confusion_matrix\n",
    "from kdelearn.kde_tasks import KDEOutliersDetection\n",
    "from kdelearn.metrics import pi_kf\n",
    "from kdelearn.bandwidth_selection import direct_plugin\n",
    "from sklearn.neighbors import NearestNeighbors"
   ]
  },
  {
   "cell_type": "code",
   "execution_count": 2,
   "id": "1e269535",
   "metadata": {
    "ExecuteTime": {
     "end_time": "2023-04-20T22:05:18.153979Z",
     "start_time": "2023-04-20T22:05:18.120897Z"
    }
   },
   "outputs": [],
   "source": [
    "data = pd.read_csv(\"/home/krystian/Downloads/archive/thyroidDF.csv\")"
   ]
  },
  {
   "cell_type": "code",
   "execution_count": 3,
   "id": "848da83c",
   "metadata": {
    "ExecuteTime": {
     "end_time": "2023-04-20T22:05:18.631242Z",
     "start_time": "2023-04-20T22:05:18.607392Z"
    }
   },
   "outputs": [
    {
     "data": {
      "text/plain": [
       "(9172, 31)"
      ]
     },
     "execution_count": 3,
     "metadata": {},
     "output_type": "execute_result"
    }
   ],
   "source": [
    "data.shape"
   ]
  },
  {
   "cell_type": "code",
   "execution_count": 4,
   "id": "3c660127",
   "metadata": {
    "ExecuteTime": {
     "end_time": "2023-04-20T22:05:18.766361Z",
     "start_time": "2023-04-20T22:05:18.762311Z"
    }
   },
   "outputs": [
    {
     "data": {
      "text/plain": [
       "Index(['age', 'sex', 'on_thyroxine', 'query_on_thyroxine',\n",
       "       'on_antithyroid_meds', 'sick', 'pregnant', 'thyroid_surgery',\n",
       "       'I131_treatment', 'query_hypothyroid', 'query_hyperthyroid', 'lithium',\n",
       "       'goitre', 'tumor', 'hypopituitary', 'psych', 'TSH_measured', 'TSH',\n",
       "       'T3_measured', 'T3', 'TT4_measured', 'TT4', 'T4U_measured', 'T4U',\n",
       "       'FTI_measured', 'FTI', 'TBG_measured', 'TBG', 'referral_source',\n",
       "       'target', 'patient_id'],\n",
       "      dtype='object')"
      ]
     },
     "execution_count": 4,
     "metadata": {},
     "output_type": "execute_result"
    }
   ],
   "source": [
    "data.columns"
   ]
  },
  {
   "cell_type": "code",
   "execution_count": 5,
   "id": "beca672c",
   "metadata": {
    "ExecuteTime": {
     "end_time": "2023-04-20T22:05:19.167150Z",
     "start_time": "2023-04-20T22:05:19.143442Z"
    }
   },
   "outputs": [
    {
     "data": {
      "text/html": [
       "<div>\n",
       "<style scoped>\n",
       "    .dataframe tbody tr th:only-of-type {\n",
       "        vertical-align: middle;\n",
       "    }\n",
       "\n",
       "    .dataframe tbody tr th {\n",
       "        vertical-align: top;\n",
       "    }\n",
       "\n",
       "    .dataframe thead th {\n",
       "        text-align: right;\n",
       "    }\n",
       "</style>\n",
       "<table border=\"1\" class=\"dataframe\">\n",
       "  <thead>\n",
       "    <tr style=\"text-align: right;\">\n",
       "      <th></th>\n",
       "      <th>age</th>\n",
       "      <th>sex</th>\n",
       "      <th>on_thyroxine</th>\n",
       "      <th>query_on_thyroxine</th>\n",
       "      <th>on_antithyroid_meds</th>\n",
       "      <th>sick</th>\n",
       "      <th>pregnant</th>\n",
       "      <th>thyroid_surgery</th>\n",
       "      <th>I131_treatment</th>\n",
       "      <th>query_hypothyroid</th>\n",
       "      <th>...</th>\n",
       "      <th>TT4</th>\n",
       "      <th>T4U_measured</th>\n",
       "      <th>T4U</th>\n",
       "      <th>FTI_measured</th>\n",
       "      <th>FTI</th>\n",
       "      <th>TBG_measured</th>\n",
       "      <th>TBG</th>\n",
       "      <th>referral_source</th>\n",
       "      <th>target</th>\n",
       "      <th>patient_id</th>\n",
       "    </tr>\n",
       "  </thead>\n",
       "  <tbody>\n",
       "    <tr>\n",
       "      <th>0</th>\n",
       "      <td>29</td>\n",
       "      <td>F</td>\n",
       "      <td>f</td>\n",
       "      <td>f</td>\n",
       "      <td>f</td>\n",
       "      <td>f</td>\n",
       "      <td>f</td>\n",
       "      <td>f</td>\n",
       "      <td>f</td>\n",
       "      <td>t</td>\n",
       "      <td>...</td>\n",
       "      <td>NaN</td>\n",
       "      <td>f</td>\n",
       "      <td>NaN</td>\n",
       "      <td>f</td>\n",
       "      <td>NaN</td>\n",
       "      <td>f</td>\n",
       "      <td>NaN</td>\n",
       "      <td>other</td>\n",
       "      <td>-</td>\n",
       "      <td>840801013</td>\n",
       "    </tr>\n",
       "    <tr>\n",
       "      <th>1</th>\n",
       "      <td>29</td>\n",
       "      <td>F</td>\n",
       "      <td>f</td>\n",
       "      <td>f</td>\n",
       "      <td>f</td>\n",
       "      <td>f</td>\n",
       "      <td>f</td>\n",
       "      <td>f</td>\n",
       "      <td>f</td>\n",
       "      <td>f</td>\n",
       "      <td>...</td>\n",
       "      <td>128.0</td>\n",
       "      <td>f</td>\n",
       "      <td>NaN</td>\n",
       "      <td>f</td>\n",
       "      <td>NaN</td>\n",
       "      <td>f</td>\n",
       "      <td>NaN</td>\n",
       "      <td>other</td>\n",
       "      <td>-</td>\n",
       "      <td>840801014</td>\n",
       "    </tr>\n",
       "    <tr>\n",
       "      <th>2</th>\n",
       "      <td>41</td>\n",
       "      <td>F</td>\n",
       "      <td>f</td>\n",
       "      <td>f</td>\n",
       "      <td>f</td>\n",
       "      <td>f</td>\n",
       "      <td>f</td>\n",
       "      <td>f</td>\n",
       "      <td>f</td>\n",
       "      <td>f</td>\n",
       "      <td>...</td>\n",
       "      <td>NaN</td>\n",
       "      <td>f</td>\n",
       "      <td>NaN</td>\n",
       "      <td>f</td>\n",
       "      <td>NaN</td>\n",
       "      <td>t</td>\n",
       "      <td>11.0</td>\n",
       "      <td>other</td>\n",
       "      <td>-</td>\n",
       "      <td>840801042</td>\n",
       "    </tr>\n",
       "    <tr>\n",
       "      <th>3</th>\n",
       "      <td>36</td>\n",
       "      <td>F</td>\n",
       "      <td>f</td>\n",
       "      <td>f</td>\n",
       "      <td>f</td>\n",
       "      <td>f</td>\n",
       "      <td>f</td>\n",
       "      <td>f</td>\n",
       "      <td>f</td>\n",
       "      <td>f</td>\n",
       "      <td>...</td>\n",
       "      <td>NaN</td>\n",
       "      <td>f</td>\n",
       "      <td>NaN</td>\n",
       "      <td>f</td>\n",
       "      <td>NaN</td>\n",
       "      <td>t</td>\n",
       "      <td>26.0</td>\n",
       "      <td>other</td>\n",
       "      <td>-</td>\n",
       "      <td>840803046</td>\n",
       "    </tr>\n",
       "    <tr>\n",
       "      <th>4</th>\n",
       "      <td>32</td>\n",
       "      <td>F</td>\n",
       "      <td>f</td>\n",
       "      <td>f</td>\n",
       "      <td>f</td>\n",
       "      <td>f</td>\n",
       "      <td>f</td>\n",
       "      <td>f</td>\n",
       "      <td>f</td>\n",
       "      <td>f</td>\n",
       "      <td>...</td>\n",
       "      <td>NaN</td>\n",
       "      <td>f</td>\n",
       "      <td>NaN</td>\n",
       "      <td>f</td>\n",
       "      <td>NaN</td>\n",
       "      <td>t</td>\n",
       "      <td>36.0</td>\n",
       "      <td>other</td>\n",
       "      <td>S</td>\n",
       "      <td>840803047</td>\n",
       "    </tr>\n",
       "  </tbody>\n",
       "</table>\n",
       "<p>5 rows × 31 columns</p>\n",
       "</div>"
      ],
      "text/plain": [
       "   age sex on_thyroxine query_on_thyroxine on_antithyroid_meds sick pregnant  \\\n",
       "0   29   F            f                  f                   f    f        f   \n",
       "1   29   F            f                  f                   f    f        f   \n",
       "2   41   F            f                  f                   f    f        f   \n",
       "3   36   F            f                  f                   f    f        f   \n",
       "4   32   F            f                  f                   f    f        f   \n",
       "\n",
       "  thyroid_surgery I131_treatment query_hypothyroid  ...    TT4 T4U_measured  \\\n",
       "0               f              f                 t  ...    NaN            f   \n",
       "1               f              f                 f  ...  128.0            f   \n",
       "2               f              f                 f  ...    NaN            f   \n",
       "3               f              f                 f  ...    NaN            f   \n",
       "4               f              f                 f  ...    NaN            f   \n",
       "\n",
       "  T4U FTI_measured FTI TBG_measured   TBG  referral_source target  patient_id  \n",
       "0 NaN            f NaN            f   NaN            other      -   840801013  \n",
       "1 NaN            f NaN            f   NaN            other      -   840801014  \n",
       "2 NaN            f NaN            t  11.0            other      -   840801042  \n",
       "3 NaN            f NaN            t  26.0            other      -   840803046  \n",
       "4 NaN            f NaN            t  36.0            other      S   840803047  \n",
       "\n",
       "[5 rows x 31 columns]"
      ]
     },
     "execution_count": 5,
     "metadata": {},
     "output_type": "execute_result"
    }
   ],
   "source": [
    "data.head()"
   ]
  },
  {
   "cell_type": "code",
   "execution_count": 6,
   "id": "0e3b8cd3",
   "metadata": {
    "ExecuteTime": {
     "end_time": "2023-04-20T22:05:19.660777Z",
     "start_time": "2023-04-20T22:05:19.638554Z"
    }
   },
   "outputs": [
    {
     "data": {
      "text/plain": [
       "-      6771\n",
       "K       436\n",
       "G       359\n",
       "I       346\n",
       "F       233\n",
       "R       196\n",
       "A       147\n",
       "L       115\n",
       "M       111\n",
       "N       110\n",
       "S        85\n",
       "GK       49\n",
       "AK       46\n",
       "J        30\n",
       "B        21\n",
       "MK       16\n",
       "Q        14\n",
       "O        14\n",
       "C|I      12\n",
       "KJ       11\n",
       "GI       10\n",
       "H|K       8\n",
       "D         8\n",
       "FK        6\n",
       "C         6\n",
       "P         5\n",
       "MI        2\n",
       "LJ        1\n",
       "GKJ       1\n",
       "OI        1\n",
       "D|R       1\n",
       "E         1\n",
       "Name: target, dtype: int64"
      ]
     },
     "execution_count": 6,
     "metadata": {},
     "output_type": "execute_result"
    }
   ],
   "source": [
    "data[\"target\"].value_counts()"
   ]
  },
  {
   "cell_type": "code",
   "execution_count": 7,
   "id": "6b3ed109",
   "metadata": {
    "ExecuteTime": {
     "end_time": "2023-04-20T22:05:20.039903Z",
     "start_time": "2023-04-20T22:05:20.033921Z"
    }
   },
   "outputs": [],
   "source": [
    "# \thypothyroid conditions:\n",
    "\n",
    "# \t\tE\thypothyroid\n",
    "# \t\tF\tprimary hypothyroid\n",
    "# \t\tG\tcompensated hypothyroid\n",
    "# \t\tH\tsecondary hypothyroid"
   ]
  },
  {
   "cell_type": "code",
   "execution_count": 8,
   "id": "b39bbbc6",
   "metadata": {
    "ExecuteTime": {
     "end_time": "2023-04-20T22:05:20.783955Z",
     "start_time": "2023-04-20T22:05:20.777545Z"
    }
   },
   "outputs": [
    {
     "data": {
      "text/plain": [
       "(0, 842, 2604, 442, 809, 802, 8823)"
      ]
     },
     "execution_count": 8,
     "metadata": {},
     "output_type": "execute_result"
    }
   ],
   "source": [
    "data[\"age\"].isna().sum(), data[\"TSH\"].isna().sum(), data[\"T3\"].isna().sum(), data[\"TT4\"].isna().sum(), data[\"T4U\"].isna().sum(), data[\"FTI\"].isna().sum(), data[\"TBG\"].isna().sum()"
   ]
  },
  {
   "cell_type": "code",
   "execution_count": 9,
   "id": "73dc46b0",
   "metadata": {
    "ExecuteTime": {
     "end_time": "2023-04-20T22:05:20.993551Z",
     "start_time": "2023-04-20T22:05:20.976592Z"
    }
   },
   "outputs": [
    {
     "data": {
      "text/plain": [
       "(7359, 31)"
      ]
     },
     "execution_count": 9,
     "metadata": {},
     "output_type": "execute_result"
    }
   ],
   "source": [
    "data = data[(data[\"age\"] > 0) & (data[\"age\"] < 101)]\n",
    "data = data[data[\"target\"].isin([\"-\", \"G\", \"F\"])]\n",
    "data.loc[data[\"target\"]==\"-\", \"target\"] = 0\n",
    "data.loc[data[\"target\"]==\"G\", \"target\"] = 1\n",
    "data.loc[data[\"target\"]==\"F\", \"target\"] = 2\n",
    "data[\"target\"] = data[\"target\"].astype(int)\n",
    "data = data.reset_index(drop=True)\n",
    "\n",
    "data.shape"
   ]
  },
  {
   "cell_type": "code",
   "execution_count": 10,
   "id": "5493f4df",
   "metadata": {
    "ExecuteTime": {
     "end_time": "2023-04-20T22:05:21.215498Z",
     "start_time": "2023-04-20T22:05:21.209950Z"
    }
   },
   "outputs": [],
   "source": [
    "data = data[[\"age\", \"TSH\", \"T3\", \"TT4\", \"T4U\", \"FTI\", \"target\"]].dropna()"
   ]
  },
  {
   "cell_type": "code",
   "execution_count": 11,
   "id": "0430bc38",
   "metadata": {
    "ExecuteTime": {
     "end_time": "2023-04-20T22:05:21.619068Z",
     "start_time": "2023-04-20T22:05:21.611475Z"
    }
   },
   "outputs": [
    {
     "data": {
      "text/plain": [
       "(4683, 7)"
      ]
     },
     "execution_count": 11,
     "metadata": {},
     "output_type": "execute_result"
    }
   ],
   "source": [
    "data.shape"
   ]
  },
  {
   "cell_type": "code",
   "execution_count": 12,
   "id": "32e4b2b8",
   "metadata": {
    "ExecuteTime": {
     "end_time": "2023-04-20T22:05:22.421082Z",
     "start_time": "2023-04-20T22:05:22.416537Z"
    }
   },
   "outputs": [
    {
     "data": {
      "text/plain": [
       "0    4293\n",
       "1     221\n",
       "2     169\n",
       "Name: target, dtype: int64"
      ]
     },
     "execution_count": 12,
     "metadata": {},
     "output_type": "execute_result"
    }
   ],
   "source": [
    "data[\"target\"].value_counts()"
   ]
  },
  {
   "cell_type": "markdown",
   "id": "dc161a53",
   "metadata": {},
   "source": [
    "# EDA 1d"
   ]
  },
  {
   "cell_type": "markdown",
   "id": "0c809138",
   "metadata": {},
   "source": [
    "## age"
   ]
  },
  {
   "cell_type": "code",
   "execution_count": 13,
   "id": "0a3d9cdd",
   "metadata": {
    "ExecuteTime": {
     "end_time": "2023-04-20T22:05:23.434668Z",
     "start_time": "2023-04-20T22:05:23.060712Z"
    }
   },
   "outputs": [
    {
     "data": {
      "image/png": "[encoded data removed]",
      "text/plain": [
       "<Figure size 500x300 with 1 Axes>"
      ]
     },
     "metadata": {},
     "output_type": "display_data"
    }
   ],
   "source": [
    "plt.figure(figsize=(5, 3))\n",
    "plt.hist(data.loc[data[\"target\"] == 0, \"age\"], bins=15, alpha=0.5)\n",
    "plt.hist(data.loc[data[\"target\"] == 1, \"age\"], bins=15, alpha=0.5, color=\"red\")\n",
    "plt.hist(data.loc[data[\"target\"] == 2, \"age\"], bins=15, alpha=0.5, color=\"orange\")\n",
    "plt.yscale(\"log\")\n",
    "plt.xlabel(\"age\")\n",
    "plt.show()"
   ]
  },
  {
   "cell_type": "markdown",
   "id": "656ff9de",
   "metadata": {},
   "source": [
    "## TSH"
   ]
  },
  {
   "cell_type": "code",
   "execution_count": 14,
   "id": "d5c9fa5a",
   "metadata": {
    "ExecuteTime": {
     "end_time": "2023-04-20T22:05:23.732805Z",
     "start_time": "2023-04-20T22:05:23.436227Z"
    }
   },
   "outputs": [
    {
     "data": {
      "image/png": "[encoded data removed]",
      "text/plain": [
       "<Figure size 500x300 with 1 Axes>"
      ]
     },
     "metadata": {},
     "output_type": "display_data"
    }
   ],
   "source": [
    "plt.figure(figsize=(5, 3))\n",
    "plt.hist(data.loc[data[\"target\"] == 0, \"TSH\"], bins=15, alpha=0.5)\n",
    "plt.hist(data.loc[data[\"target\"] == 1, \"TSH\"], bins=15, alpha=0.5, color=\"red\")\n",
    "plt.hist(data.loc[data[\"target\"] == 2, \"TSH\"], bins=15, alpha=0.5, color=\"orange\")\n",
    "plt.yscale(\"log\")\n",
    "plt.xlabel(\"TSH\")\n",
    "plt.show()"
   ]
  },
  {
   "cell_type": "markdown",
   "id": "43664aac",
   "metadata": {},
   "source": [
    "## T3"
   ]
  },
  {
   "cell_type": "code",
   "execution_count": 15,
   "id": "9efc17b5",
   "metadata": {
    "ExecuteTime": {
     "end_time": "2023-04-20T22:05:24.069818Z",
     "start_time": "2023-04-20T22:05:23.734584Z"
    }
   },
   "outputs": [
    {
     "data": {
      "image/png": "[encoded data removed]",
      "text/plain": [
       "<Figure size 500x300 with 1 Axes>"
      ]
     },
     "metadata": {},
     "output_type": "display_data"
    }
   ],
   "source": [
    "plt.figure(figsize=(5, 3))\n",
    "plt.hist(data.loc[data[\"target\"] == 0, \"T3\"], bins=15, alpha=0.5)\n",
    "plt.hist(data.loc[data[\"target\"] == 1, \"T3\"], bins=15, alpha=0.5, color=\"red\")\n",
    "plt.hist(data.loc[data[\"target\"] == 2, \"T3\"], bins=15, alpha=0.5, color=\"orange\")\n",
    "plt.yscale(\"log\")\n",
    "plt.xlabel(\"T3\")\n",
    "plt.show()"
   ]
  },
  {
   "cell_type": "markdown",
   "id": "22f5437b",
   "metadata": {},
   "source": [
    "## TT4"
   ]
  },
  {
   "cell_type": "code",
   "execution_count": 16,
   "id": "2bb8dad9",
   "metadata": {
    "ExecuteTime": {
     "end_time": "2023-04-20T22:05:24.334159Z",
     "start_time": "2023-04-20T22:05:24.071447Z"
    }
   },
   "outputs": [
    {
     "data": {
      "image/png": "[encoded data removed]",
      "text/plain": [
       "<Figure size 500x300 with 1 Axes>"
      ]
     },
     "metadata": {},
     "output_type": "display_data"
    }
   ],
   "source": [
    "plt.figure(figsize=(5, 3))\n",
    "plt.hist(data.loc[data[\"target\"] == 0, \"TT4\"], bins=15, alpha=0.5)\n",
    "plt.hist(data.loc[data[\"target\"] == 1, \"TT4\"], bins=15, alpha=0.5, color=\"red\")\n",
    "plt.hist(data.loc[data[\"target\"] == 2, \"TT4\"], bins=15, alpha=0.5, color=\"orange\")\n",
    "plt.yscale(\"log\")\n",
    "plt.xlabel(\"TT4\")\n",
    "plt.show()"
   ]
  },
  {
   "cell_type": "markdown",
   "id": "95ee7b44",
   "metadata": {},
   "source": [
    "## T4U"
   ]
  },
  {
   "cell_type": "code",
   "execution_count": 17,
   "id": "98dc75b0",
   "metadata": {
    "ExecuteTime": {
     "end_time": "2023-04-20T22:05:24.650798Z",
     "start_time": "2023-04-20T22:05:24.336118Z"
    }
   },
   "outputs": [
    {
     "data": {
      "image/png": "[encoded data removed]",
      "text/plain": [
       "<Figure size 500x300 with 1 Axes>"
      ]
     },
     "metadata": {},
     "output_type": "display_data"
    }
   ],
   "source": [
    "plt.figure(figsize=(5, 3))\n",
    "plt.hist(data.loc[data[\"target\"] == 0, \"T4U\"], bins=15, alpha=0.5)\n",
    "plt.hist(data.loc[data[\"target\"] == 1, \"T4U\"], bins=15, alpha=0.5, color=\"red\")\n",
    "plt.hist(data.loc[data[\"target\"] == 2, \"T4U\"], bins=15, alpha=0.5, color=\"orange\")\n",
    "plt.yscale(\"log\")\n",
    "plt.xlabel(\"T4U\")\n",
    "plt.show()"
   ]
  },
  {
   "cell_type": "markdown",
   "id": "3fc0372a",
   "metadata": {},
   "source": [
    "## FTI"
   ]
  },
  {
   "cell_type": "code",
   "execution_count": 18,
   "id": "dbe34d26",
   "metadata": {
    "ExecuteTime": {
     "end_time": "2023-04-20T22:05:24.936901Z",
     "start_time": "2023-04-20T22:05:24.652426Z"
    }
   },
   "outputs": [
    {
     "data": {
      "image/png": "[encoded data removed]",
      "text/plain": [
       "<Figure size 500x300 with 1 Axes>"
      ]
     },
     "metadata": {},
     "output_type": "display_data"
    }
   ],
   "source": [
    "plt.figure(figsize=(5, 3))\n",
    "plt.hist(data.loc[data[\"target\"] == 0, \"FTI\"], bins=15, alpha=0.5)\n",
    "plt.hist(data.loc[data[\"target\"] == 1, \"FTI\"], bins=15, alpha=0.5, color=\"red\")\n",
    "plt.hist(data.loc[data[\"target\"] == 2, \"FTI\"], bins=15, alpha=0.5, color=\"orange\")\n",
    "plt.yscale(\"log\")\n",
    "plt.xlabel(\"FTI\")\n",
    "plt.show()"
   ]
  },
  {
   "cell_type": "markdown",
   "id": "7efacd2f",
   "metadata": {},
   "source": [
    "\\newpage"
   ]
  },
  {
   "cell_type": "markdown",
   "id": "9cd928b3",
   "metadata": {},
   "source": [
    "# Outliers detection"
   ]
  },
  {
   "cell_type": "code",
   "execution_count": 19,
   "id": "2f177c0e",
   "metadata": {
    "ExecuteTime": {
     "end_time": "2023-04-20T22:06:16.607050Z",
     "start_time": "2023-04-20T22:06:16.586659Z"
    }
   },
   "outputs": [],
   "source": [
    "data_all = data[[\"age\", \"TSH\", \"T3\", \"TT4\", \"T4U\", \"FTI\", \"target\"]].copy()\n",
    "data_all.loc[data_all[\"target\"]!=0, \"target\"] = 1\n",
    "\n",
    "x_train = data_all[[\"age\", \"TSH\", \"T3\", \"TT4\", \"T4U\", \"FTI\"]].to_numpy().copy()\n",
    "labels_train = data_all[\"target\"].to_numpy().copy()"
   ]
  },
  {
   "cell_type": "code",
   "execution_count": 20,
   "id": "9a5c5451",
   "metadata": {
    "ExecuteTime": {
     "end_time": "2023-04-20T22:06:40.093497Z",
     "start_time": "2023-04-20T22:06:16.768345Z"
    }
   },
   "outputs": [],
   "source": [
    "bandwidth = direct_plugin(x_train)"
   ]
  },
  {
   "cell_type": "markdown",
   "id": "67246e6d",
   "metadata": {},
   "source": [
    "## Siatka po k (przy r=0.083)\n",
    "[5, 10, 20, 50, 100, 200, 500, 1000]"
   ]
  },
  {
   "cell_type": "code",
   "execution_count": 32,
   "id": "22293d93",
   "metadata": {
    "ExecuteTime": {
     "end_time": "2023-04-20T22:14:18.029626Z",
     "start_time": "2023-04-20T22:14:03.442867Z"
    }
   },
   "outputs": [
    {
     "name": "stdout",
     "output_type": "stream",
     "text": [
      "k: 5\n",
      "Wskaznik jakosci: 1.0019809883222528\n",
      "[[4117  176]\n",
      " [ 177  213]]\n",
      "precision: 0.5475578406169666\n",
      "recall: 0.5461538461538461\n",
      "accuracy: 0.9246209694640188\n",
      "------------------------------\n",
      "k: 10\n",
      "Wskaznik jakosci: 1.0019501583904613\n",
      "[[4118  175]\n",
      " [ 176  214]]\n",
      "precision: 0.5501285347043702\n",
      "recall: 0.5487179487179488\n",
      "accuracy: 0.9250480461242793\n",
      "------------------------------\n",
      "k: 20\n",
      "Wskaznik jakosci: 1.0019266475937942\n",
      "[[4110  183]\n",
      " [ 184  206]]\n",
      "precision: 0.5295629820051414\n",
      "recall: 0.5282051282051282\n",
      "accuracy: 0.9216314328421952\n",
      "------------------------------\n",
      "k: 50\n",
      "Wskaznik jakosci: 1.002139693254627\n",
      "[[4098  195]\n",
      " [ 196  194]]\n",
      "precision: 0.4987146529562982\n",
      "recall: 0.49743589743589745\n",
      "accuracy: 0.9165065129190689\n",
      "------------------------------\n",
      "k: 100\n",
      "Wskaznik jakosci: 1.0021934938424137\n",
      "[[4094  199]\n",
      " [ 200  190]]\n",
      "precision: 0.4884318766066838\n",
      "recall: 0.48717948717948717\n",
      "accuracy: 0.9147982062780269\n",
      "------------------------------\n",
      "k: 200\n",
      "Wskaznik jakosci: 1.0031056072320297\n",
      "[[4087  206]\n",
      " [ 207  183]]\n",
      "precision: 0.4704370179948586\n",
      "recall: 0.46923076923076923\n",
      "accuracy: 0.9118086696562033\n",
      "------------------------------\n",
      "k: 500\n",
      "Wskaznik jakosci: 1.0066841441933165\n",
      "[[4083  210]\n",
      " [ 211  179]]\n",
      "precision: 0.4601542416452442\n",
      "recall: 0.45897435897435895\n",
      "accuracy: 0.9101003630151612\n",
      "------------------------------\n",
      "k: 1000\n",
      "Wskaznik jakosci: 1.0088211340792421\n",
      "[[4077  216]\n",
      " [ 217  173]]\n",
      "precision: 0.44473007712082263\n",
      "recall: 0.44358974358974357\n",
      "accuracy: 0.9075379030535982\n",
      "------------------------------\n"
     ]
    }
   ],
   "source": [
    "k_grid = np.array([5, 10, 20, 50, 100, 200, 500, 1000])\n",
    "metrics = []\n",
    "\n",
    "for k in k_grid:\n",
    "    print(f\"k: {k}\")\n",
    "    nbrs = NearestNeighbors(n_neighbors=k+1, algorithm='brute').fit(x_train)\n",
    "    distances, indices = nbrs.kneighbors(x_train)\n",
    "    dist_k = np.max(distances, axis=1)\n",
    "    r = 0.083\n",
    "    threshold = np.quantile(dist_k, 1 - r)\n",
    "    labels_pred = np.where(dist_k >= threshold, 1 ,0)\n",
    "    metric = pi_kf(x_train, labels_pred, bandwidth=bandwidth)\n",
    "    metrics.append(metric)\n",
    "    print(f\"Wskaznik jakosci: {metric}\")\n",
    "\n",
    "    res = confusion_matrix(labels_train, labels_pred)\n",
    "    print(res)\n",
    "\n",
    "    print(f\"precision: {res[1, 1] / res[:, 1].sum()}\")\n",
    "    print(f\"recall: {res[1, 1] / res[1, :].sum()}\")\n",
    "    print(f\"accuracy: {np.diag(res).sum() / res.sum()}\")\n",
    "\n",
    "    print(\"-\"*30)"
   ]
  },
  {
   "cell_type": "code",
   "execution_count": 33,
   "id": "50a15ec7",
   "metadata": {
    "ExecuteTime": {
     "end_time": "2023-04-20T22:14:18.156082Z",
     "start_time": "2023-04-20T22:14:18.031407Z"
    }
   },
   "outputs": [
    {
     "data": {
      "image/png": "[encoded data removed]",
      "text/plain": [
       "<Figure size 600x400 with 1 Axes>"
      ]
     },
     "metadata": {},
     "output_type": "display_data"
    }
   ],
   "source": [
    "plt.figure(figsize=(6, 4))\n",
    "\n",
    "plt.plot(k_grid, metrics, \"-o\")\n",
    "\n",
    "plt.xlabel(\"k\")\n",
    "plt.ylabel(\"metric\")\n",
    "plt.grid(linestyle=\"--\")\n",
    "plt.show()"
   ]
  },
  {
   "cell_type": "markdown",
   "id": "ca678662",
   "metadata": {},
   "source": [
    "\\newpage"
   ]
  },
  {
   "cell_type": "markdown",
   "id": "53350278",
   "metadata": {},
   "source": [
    "## Siatka po r (przy k=10)\n",
    "\n",
    "Siatka od 0.01 do 0.5 z krokiem 0.01"
   ]
  },
  {
   "cell_type": "code",
   "execution_count": 35,
   "id": "34f3d735",
   "metadata": {
    "ExecuteTime": {
     "end_time": "2023-04-20T22:16:40.621776Z",
     "start_time": "2023-04-20T22:15:30.051204Z"
    },
    "scrolled": false
   },
   "outputs": [
    {
     "name": "stdout",
     "output_type": "stream",
     "text": [
      "r: 0.01\n",
      "Wskaznik jakosci: 1.0000000317386704\n",
      "[[4273   20]\n",
      " [ 363   27]]\n",
      "precision: 0.574468085106383\n",
      "recall: 0.06923076923076923\n",
      "accuracy: 0.9182148195601111\n",
      "------------------------------\n",
      "r: 0.02\n",
      "Wskaznik jakosci: 1.000011730019369\n",
      "[[4255   38]\n",
      " [ 334   56]]\n",
      "precision: 0.5957446808510638\n",
      "recall: 0.14358974358974358\n",
      "accuracy: 0.9205637411915438\n",
      "------------------------------\n",
      "r: 0.03\n",
      "Wskaznik jakosci: 1.0001764554877703\n",
      "[[4242   51]\n",
      " [ 299   91]]\n",
      "precision: 0.6408450704225352\n",
      "recall: 0.23333333333333334\n",
      "accuracy: 0.9252615844544095\n",
      "------------------------------\n",
      "r: 0.04\n",
      "Wskaznik jakosci: 1.0004215022296923\n",
      "[[4225   68]\n",
      " [ 270  120]]\n",
      "precision: 0.6382978723404256\n",
      "recall: 0.3076923076923077\n",
      "accuracy: 0.9278240444159727\n",
      "------------------------------\n",
      "r: 0.05\n",
      "Wskaznik jakosci: 1.0005503588804356\n",
      "[[4208   85]\n",
      " [ 240  150]]\n",
      "precision: 0.6382978723404256\n",
      "recall: 0.38461538461538464\n",
      "accuracy: 0.930600042707666\n",
      "------------------------------\n",
      "r: 0.06\n",
      "Wskaznik jakosci: 1.000764794341005\n",
      "[[4183  110]\n",
      " [ 219  171]]\n",
      "precision: 0.608540925266904\n",
      "recall: 0.43846153846153846\n",
      "accuracy: 0.929745889387145\n",
      "------------------------------\n",
      "r: 0.07\n",
      "Wskaznik jakosci: 1.000729847136091\n",
      "[[4157  136]\n",
      " [ 198  192]]\n",
      "precision: 0.5853658536585366\n",
      "recall: 0.49230769230769234\n",
      "accuracy: 0.9286781977364937\n",
      "------------------------------\n",
      "r: 0.08\n",
      "Wskaznik jakosci: 1.002023127686208\n",
      "[[4125  168]\n",
      " [ 183  207]]\n",
      "precision: 0.552\n",
      "recall: 0.5307692307692308\n",
      "accuracy: 0.9250480461242793\n",
      "------------------------------\n",
      "r: 0.09\n",
      "Wskaznik jakosci: 1.0025404219887872\n",
      "[[4092  201]\n",
      " [ 169  221]]\n",
      "precision: 0.523696682464455\n",
      "recall: 0.5666666666666667\n",
      "accuracy: 0.9209908178518044\n",
      "------------------------------\n",
      "r: 0.10\n",
      "Wskaznik jakosci: 1.0024666390534571\n",
      "[[4052  241]\n",
      " [ 162  228]]\n",
      "precision: 0.4861407249466951\n",
      "recall: 0.5846153846153846\n",
      "accuracy: 0.9139440529575059\n",
      "------------------------------\n",
      "r: 0.11\n",
      "Wskaznik jakosci: 1.0028867818426361\n",
      "[[4011  282]\n",
      " [ 156  234]]\n",
      "precision: 0.45348837209302323\n",
      "recall: 0.6\n",
      "accuracy: 0.9064702114029468\n",
      "------------------------------\n",
      "r: 0.12\n",
      "Wskaznik jakosci: 1.002566051624773\n",
      "[[3977  316]\n",
      " [ 144  246]]\n",
      "precision: 0.4377224199288256\n",
      "recall: 0.6307692307692307\n",
      "accuracy: 0.9017723681400811\n",
      "------------------------------\n",
      "r: 0.13\n",
      "Wskaznik jakosci: 1.0024997079171662\n",
      "[[3940  353]\n",
      " [ 134  256]]\n",
      "precision: 0.42036124794745483\n",
      "recall: 0.6564102564102564\n",
      "accuracy: 0.8960068332265642\n",
      "------------------------------\n",
      "r: 0.14\n",
      "Wskaznik jakosci: 1.002233861810771\n",
      "[[3906  387]\n",
      " [ 121  269]]\n",
      "precision: 0.4100609756097561\n",
      "recall: 0.6897435897435897\n",
      "accuracy: 0.8915225282938287\n",
      "------------------------------\n",
      "r: 0.15\n",
      "Wskaznik jakosci: 1.0024911745218046\n",
      "[[3867  426]\n",
      " [ 113  277]]\n",
      "precision: 0.3940256045519203\n",
      "recall: 0.7102564102564103\n",
      "accuracy: 0.8849028400597907\n",
      "------------------------------\n",
      "r: 0.16\n",
      "Wskaznik jakosci: 1.002960299463838\n",
      "[[3824  469]\n",
      " [ 109  281]]\n",
      "precision: 0.37466666666666665\n",
      "recall: 0.7205128205128205\n",
      "accuracy: 0.8765748451847106\n",
      "------------------------------\n",
      "r: 0.17\n",
      "Wskaznik jakosci: 1.002011005272841\n",
      "[[3782  511]\n",
      " [ 105  285]]\n",
      "precision: 0.35804020100502515\n",
      "recall: 0.7307692307692307\n",
      "accuracy: 0.8684603886397608\n",
      "------------------------------\n",
      "r: 0.18\n",
      "Wskaznik jakosci: 1.0016309831330845\n",
      "[[3738  555]\n",
      " [ 102  288]]\n",
      "precision: 0.3416370106761566\n",
      "recall: 0.7384615384615385\n",
      "accuracy: 0.8597053171044202\n",
      "------------------------------\n",
      "r: 0.19\n",
      "Wskaznik jakosci: 1.0019592243561286\n",
      "[[3699  594]\n",
      " [  94  296]]\n",
      "precision: 0.3325842696629214\n",
      "recall: 0.7589743589743589\n",
      "accuracy: 0.8530856288703822\n",
      "------------------------------\n",
      "r: 0.20\n",
      "Wskaznik jakosci: 1.0013878935339209\n",
      "[[3659  634]\n",
      " [  87  303]]\n",
      "precision: 0.3233724653148346\n",
      "recall: 0.7769230769230769\n",
      "accuracy: 0.8460388639760837\n",
      "------------------------------\n",
      "r: 0.21\n",
      "Wskaznik jakosci: 0.9999740378964299\n",
      "[[3618  675]\n",
      " [  81  309]]\n",
      "precision: 0.31402439024390244\n",
      "recall: 0.7923076923076923\n",
      "accuracy: 0.8385650224215246\n",
      "------------------------------\n",
      "r: 0.22\n",
      "Wskaznik jakosci: 0.9981280772466634\n",
      "[[3576  717]\n",
      " [  76  314]]\n",
      "precision: 0.30455868089233756\n",
      "recall: 0.8051282051282052\n",
      "accuracy: 0.8306641042067051\n",
      "------------------------------\n",
      "r: 0.23\n",
      "Wskaznik jakosci: 0.9977337325139549\n",
      "[[3533  760]\n",
      " [  73  317]]\n",
      "precision: 0.2943361188486537\n",
      "recall: 0.8128205128205128\n",
      "accuracy: 0.8221225710014948\n",
      "------------------------------\n",
      "r: 0.24\n",
      "Wskaznik jakosci: 0.9957221381201542\n",
      "[[3491  802]\n",
      " [  68  322]]\n",
      "precision: 0.28647686832740216\n",
      "recall: 0.8256410256410256\n",
      "accuracy: 0.8142216527866752\n",
      "------------------------------\n",
      "r: 0.25\n",
      "Wskaznik jakosci: 0.9920516033070541\n",
      "[[3449  844]\n",
      " [  63  327]]\n",
      "precision: 0.27924850555081127\n",
      "recall: 0.8384615384615385\n",
      "accuracy: 0.8063207345718556\n",
      "------------------------------\n",
      "r: 0.26\n",
      "Wskaznik jakosci: 0.9895106686966917\n",
      "[[3403  890]\n",
      " [  62  328]]\n",
      "precision: 0.26929392446633826\n",
      "recall: 0.841025641025641\n",
      "accuracy: 0.796711509715994\n",
      "------------------------------\n",
      "r: 0.27\n",
      "Wskaznik jakosci: 0.9869898400152161\n",
      "[[3359  934]\n",
      " [  59  331]]\n",
      "precision: 0.2616600790513834\n",
      "recall: 0.8487179487179487\n",
      "accuracy: 0.7879564381806534\n",
      "------------------------------\n",
      "r: 0.28\n",
      "Wskaznik jakosci: 0.9835879176665903\n",
      "[[3320  973]\n",
      " [  52  338]]\n",
      "precision: 0.2578184591914569\n",
      "recall: 0.8666666666666667\n",
      "accuracy: 0.7811232116164851\n",
      "------------------------------\n",
      "r: 0.29\n",
      "Wskaznik jakosci: 0.9797405582362758\n",
      "[[3276 1017]\n",
      " [  49  341]]\n",
      "precision: 0.2511045655375552\n",
      "recall: 0.8743589743589744\n",
      "accuracy: 0.7723681400811445\n",
      "------------------------------\n",
      "r: 0.30\n",
      "Wskaznik jakosci: 0.97583903385819\n",
      "[[3235 1058]\n",
      " [  43  347]]\n",
      "precision: 0.24697508896797152\n",
      "recall: 0.8897435897435897\n",
      "accuracy: 0.7648942985265855\n",
      "------------------------------\n",
      "r: 0.31\n",
      "Wskaznik jakosci: 0.9708011333165263\n",
      "[[3192 1101]\n",
      " [  39  351]]\n",
      "precision: 0.24173553719008264\n",
      "recall: 0.9\n",
      "accuracy: 0.7565663036515055\n",
      "------------------------------\n",
      "r: 0.32\n",
      "Wskaznik jakosci: 0.9646459211831244\n",
      "[[3147 1146]\n",
      " [  37  353]]\n",
      "precision: 0.23549032688458973\n",
      "recall: 0.9051282051282051\n",
      "accuracy: 0.7473841554559043\n",
      "------------------------------\n",
      "r: 0.33\n",
      "Wskaznik jakosci: 0.958228765777042\n",
      "[[3104 1189]\n",
      " [  33  357]]\n",
      "precision: 0.23091849935316947\n",
      "recall: 0.9153846153846154\n",
      "accuracy: 0.7390561605808242\n",
      "------------------------------\n",
      "r: 0.34\n",
      "Wskaznik jakosci: 0.9528881885423217\n",
      "[[3062 1231]\n",
      " [  29  361]]\n",
      "precision: 0.22675879396984924\n",
      "recall: 0.9256410256410257\n",
      "accuracy: 0.7309417040358744\n",
      "------------------------------\n",
      "r: 0.35\n",
      "Wskaznik jakosci: 0.9455170403646819\n",
      "[[3017 1276]\n",
      " [  27  363]]\n",
      "precision: 0.2214765100671141\n",
      "recall: 0.9307692307692308\n",
      "accuracy: 0.7217595558402733\n",
      "------------------------------\n",
      "r: 0.36\n",
      "Wskaznik jakosci: 0.9373811824263097\n",
      "[[2974 1319]\n",
      " [  23  367]]\n",
      "precision: 0.21767497034400948\n",
      "recall: 0.941025641025641\n",
      "accuracy: 0.7134315609651932\n",
      "------------------------------\n",
      "r: 0.37\n",
      "Wskaznik jakosci: 0.9300495489418941\n",
      "[[2930 1363]\n",
      " [  20  370]]\n",
      "precision: 0.21350259665320254\n",
      "recall: 0.9487179487179487\n",
      "accuracy: 0.7046764894298526\n",
      "------------------------------\n",
      "r: 0.38\n",
      "Wskaznik jakosci: 0.923064488163002\n",
      "[[2886 1407]\n",
      " [  17  373]]\n",
      "precision: 0.2095505617977528\n",
      "recall: 0.9564102564102565\n",
      "accuracy: 0.6959214178945121\n",
      "------------------------------\n",
      "r: 0.39\n",
      "Wskaznik jakosci: 0.9162312175918125\n",
      "[[2841 1452]\n",
      " [  16  374]]\n",
      "precision: 0.20481927710843373\n",
      "recall: 0.958974358974359\n",
      "accuracy: 0.6865257313687807\n",
      "------------------------------\n",
      "r: 0.40\n",
      "Wskaznik jakosci: 0.9075228091068902\n",
      "[[2794 1499]\n",
      " [  16  374]]\n",
      "precision: 0.199679658302189\n",
      "recall: 0.958974358974359\n",
      "accuracy: 0.6764894298526586\n",
      "------------------------------\n",
      "r: 0.41\n",
      "Wskaznik jakosci: 0.8991989665395059\n",
      "[[2748 1545]\n",
      " [  15  375]]\n",
      "precision: 0.1953125\n",
      "recall: 0.9615384615384616\n",
      "accuracy: 0.6668802049967969\n",
      "------------------------------\n",
      "r: 0.42\n",
      "Wskaznik jakosci: 0.8897920358640502\n",
      "[[2701 1592]\n",
      " [  15  375]]\n",
      "precision: 0.19064565327910524\n",
      "recall: 0.9615384615384616\n",
      "accuracy: 0.6568439034806748\n",
      "------------------------------\n",
      "r: 0.43\n",
      "Wskaznik jakosci: 0.8796675316826322\n",
      "[[2654 1639]\n",
      " [  15  375]]\n",
      "precision: 0.1861966236345581\n",
      "recall: 0.9615384615384616\n",
      "accuracy: 0.6468076019645527\n",
      "------------------------------\n",
      "r: 0.44\n",
      "Wskaznik jakosci: 0.8687199454731049\n",
      "[[2608 1685]\n",
      " [  14  376]]\n",
      "precision: 0.1824357108199903\n",
      "recall: 0.9641025641025641\n",
      "accuracy: 0.637198377108691\n",
      "------------------------------\n",
      "r: 0.45\n"
     ]
    },
    {
     "name": "stdout",
     "output_type": "stream",
     "text": [
      "Wskaznik jakosci: 0.8557542589036043\n",
      "[[2563 1730]\n",
      " [  13  377]]\n",
      "precision: 0.17892738490745136\n",
      "recall: 0.9666666666666667\n",
      "accuracy: 0.6278026905829597\n",
      "------------------------------\n",
      "r: 0.46\n",
      "Wskaznik jakosci: 0.8408792685146379\n",
      "[[2518 1775]\n",
      " [  11  379]]\n",
      "precision: 0.17595171773444754\n",
      "recall: 0.9717948717948718\n",
      "accuracy: 0.6186205423873585\n",
      "------------------------------\n",
      "r: 0.47\n",
      "Wskaznik jakosci: 0.8262081268028034\n",
      "[[2474 1819]\n",
      " [   8  382]]\n",
      "precision: 0.17355747387551113\n",
      "recall: 0.9794871794871794\n",
      "accuracy: 0.6098654708520179\n",
      "------------------------------\n",
      "r: 0.48\n",
      "Wskaznik jakosci: 0.8110719537402169\n",
      "[[2429 1864]\n",
      " [   6  384]]\n",
      "precision: 0.1708185053380783\n",
      "recall: 0.9846153846153847\n",
      "accuracy: 0.6006833226564168\n",
      "------------------------------\n",
      "r: 0.49\n",
      "Wskaznik jakosci: 0.7912798155133381\n",
      "[[2382 1911]\n",
      " [   6  384]]\n",
      "precision: 0.16732026143790849\n",
      "recall: 0.9846153846153847\n",
      "accuracy: 0.5906470211402947\n",
      "------------------------------\n",
      "r: 0.50\n",
      "Wskaznik jakosci: 0.765141334994419\n",
      "[[2335 1958]\n",
      " [   6  384]]\n",
      "precision: 0.16396242527754057\n",
      "recall: 0.9846153846153847\n",
      "accuracy: 0.5806107196241725\n",
      "------------------------------\n"
     ]
    }
   ],
   "source": [
    "r_grid = np.arange(0.01, 0.51, 0.01)\n",
    "metrics = []\n",
    "\n",
    "for r in r_grid:\n",
    "    print(f\"r: {r:.2f}\")\n",
    "    nbrs = NearestNeighbors(n_neighbors=11, algorithm='brute').fit(x_train)\n",
    "    distances, indices = nbrs.kneighbors(x_train)\n",
    "    dist_k = np.max(distances, axis=1)\n",
    "    threshold = np.quantile(dist_k, 1 - r)\n",
    "    labels_pred = np.where(dist_k >= threshold, 1 ,0)\n",
    "    metric = pi_kf(x_train, labels_pred, bandwidth=bandwidth)\n",
    "    metrics.append(metric)\n",
    "    print(f\"Wskaznik jakosci: {metric}\")\n",
    "\n",
    "    res = confusion_matrix(labels_train, labels_pred)\n",
    "    print(res)\n",
    "\n",
    "    print(f\"precision: {res[1, 1] / res[:, 1].sum()}\")\n",
    "    print(f\"recall: {res[1, 1] / res[1, :].sum()}\")\n",
    "    print(f\"accuracy: {np.diag(res).sum() / res.sum()}\")\n",
    "\n",
    "    print(\"-\"*30)"
   ]
  },
  {
   "cell_type": "code",
   "execution_count": 36,
   "id": "6ff865ad",
   "metadata": {
    "ExecuteTime": {
     "end_time": "2023-04-20T22:16:56.829045Z",
     "start_time": "2023-04-20T22:16:56.694150Z"
    }
   },
   "outputs": [
    {
     "data": {
      "image/png": "[encoded data removed]",
      "text/plain": [
       "<Figure size 600x400 with 1 Axes>"
      ]
     },
     "metadata": {},
     "output_type": "display_data"
    }
   ],
   "source": [
    "plt.figure(figsize=(6, 4))\n",
    "\n",
    "plt.plot(r_grid, metrics, \"-o\")\n",
    "\n",
    "plt.xlabel(\"r\")\n",
    "plt.ylabel(\"metric\")\n",
    "plt.grid(linestyle=\"--\")\n",
    "plt.show()"
   ]
  },
  {
   "cell_type": "markdown",
   "id": "0c631bec",
   "metadata": {},
   "source": [
    "\\newpage"
   ]
  },
  {
   "cell_type": "markdown",
   "id": "0e973775",
   "metadata": {},
   "source": [
    "## Siatka po k oraz r"
   ]
  },
  {
   "cell_type": "code",
   "execution_count": 37,
   "id": "2dfd1cc9",
   "metadata": {
    "ExecuteTime": {
     "end_time": "2023-04-20T22:32:02.089853Z",
     "start_time": "2023-04-20T22:18:58.523310Z"
    }
   },
   "outputs": [
    {
     "name": "stdout",
     "output_type": "stream",
     "text": [
      "Najlepsze k: 5.00 oraz r 0.50\n",
      "Przy wskaźniku jakości: 0.761907\n"
     ]
    }
   ],
   "source": [
    "best_metric = np.inf\n",
    "for k in k_grid:\n",
    "    for r in r_grid:\n",
    "        nbrs = NearestNeighbors(n_neighbors=k, algorithm='brute').fit(x_train)\n",
    "        distances, indices = nbrs.kneighbors(x_train)\n",
    "        dist_k = np.max(distances, axis=1)\n",
    "        threshold = np.quantile(dist_k, 1 - r)\n",
    "        labels_pred = np.where(dist_k >= threshold, 1 ,0)\n",
    "        metric = pi_kf(x_train, labels_pred, bandwidth=bandwidth)\n",
    "    \n",
    "        if metric < best_metric:\n",
    "            best_k = k\n",
    "            best_r = r\n",
    "            best_metric = metric\n",
    "\n",
    "print(f\"Najlepsze k: {best_k:.2f} oraz r {best_r:.2f}\")\n",
    "print(f\"Przy wskaźniku jakości: {best_metric:.6f}\")"
   ]
  },
  {
   "cell_type": "code",
   "execution_count": 38,
   "id": "6cac56b9",
   "metadata": {
    "ExecuteTime": {
     "end_time": "2023-04-20T22:32:02.153314Z",
     "start_time": "2023-04-20T22:32:02.092044Z"
    }
   },
   "outputs": [
    {
     "name": "stdout",
     "output_type": "stream",
     "text": [
      "[[2332 1961]\n",
      " [   9  381]]\n",
      "precision: 0.16268146883005977\n",
      "recall: 0.9769230769230769\n",
      "accuracy: 0.579329489643391\n"
     ]
    }
   ],
   "source": [
    "nbrs = NearestNeighbors(n_neighbors=best_k, algorithm='brute').fit(x_train)\n",
    "distances, indices = nbrs.kneighbors(x_train)\n",
    "dist_k = np.max(distances, axis=1)\n",
    "threshold = np.quantile(dist_k, 1 - best_r)\n",
    "labels_pred = np.where(dist_k >= threshold, 1 ,0)\n",
    "res = confusion_matrix(labels_train, labels_pred)\n",
    "print(res)\n",
    "\n",
    "print(f\"precision: {res[1, 1] / res[:, 1].sum()}\")\n",
    "print(f\"recall: {res[1, 1] / res[1, :].sum()}\")\n",
    "print(f\"accuracy: {np.diag(res).sum() / res.sum()}\")"
   ]
  },
  {
   "cell_type": "code",
   "execution_count": null,
   "id": "bcbbb746",
   "metadata": {},
   "outputs": [],
   "source": []
  },
  {
   "cell_type": "code",
   "execution_count": null,
   "id": "8a867bf9",
   "metadata": {},
   "outputs": [],
   "source": []
  }
 ],
 "metadata": {
  "kernelspec": {
   "display_name": "Python 3 (ipykernel)",
   "language": "python",
   "name": "python3"
  },
  "language_info": {
   "codemirror_mode": {
    "name": "ipython",
    "version": 3
   },
   "file_extension": ".py",
   "mimetype": "text/x-python",
   "name": "python",
   "nbconvert_exporter": "python",
   "pygments_lexer": "ipython3",
   "version": "3.9.12"
  },
  "toc": {
   "base_numbering": 1,
   "nav_menu": {},
   "number_sections": true,
   "sideBar": true,
   "skip_h1_title": false,
   "title_cell": "Table of Contents",
   "title_sidebar": "Contents",
   "toc_cell": false,
   "toc_position": {
    "height": "calc(100% - 180px)",
    "left": "10px",
    "top": "150px",
    "width": "345.594px"
   },
   "toc_section_display": true,
   "toc_window_display": true
  }
 },
 "nbformat": 4,
 "nbformat_minor": 5
}
