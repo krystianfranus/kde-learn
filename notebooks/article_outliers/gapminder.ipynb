{
 "cells": [
  {
   "cell_type": "markdown",
   "id": "9685e53c",
   "metadata": {},
   "source": [
    "Zmienne:\n",
    "\n",
    "- babies per woman (total fertility rate) - The number of children that would be born to each woman with prevailing age-specific fertility rates\n",
    "- CO2 emissions per person - carbon dioxide emissions from the burning of fossil fuels (metric tonnes of CO2 per person)\n",
    "- child mortality - Death of childer under five years of age per 1000 live births\n",
    "- income - Gross domestic product per person adjusted for differences in purchasing power\n",
    "- life expectancy (life span) - the number of years a newborn infant would live if prevailing patterns of mortality at the time of its birth were to stay the same thoroughout its life.\n",
    "- population - number of inhabitants\n",
    "- HIV - total number of persons in all ages that are estimated to be infected by HIV, oncluding those without symptoms, those sick from AIDS and those healthy due to treatment of the HIV infection"
   ]
  },
  {
   "cell_type": "code",
   "execution_count": 1,
   "id": "4373a096",
   "metadata": {
    "ExecuteTime": {
     "end_time": "2023-05-21T19:35:55.245198Z",
     "start_time": "2023-05-21T19:35:54.714957Z"
    }
   },
   "outputs": [],
   "source": [
    "import pandas as pd\n",
    "import numpy as np\n",
    "import matplotlib.pyplot as plt\n",
    "\n",
    "from kdelearn.kde import KDE\n",
    "from kdelearn.kde_tasks import KDEOutliersDetection\n",
    "from kdelearn.bandwidth_selection import direct_plugin"
   ]
  },
  {
   "cell_type": "code",
   "execution_count": 2,
   "id": "1594cbcf",
   "metadata": {
    "ExecuteTime": {
     "end_time": "2023-05-21T19:35:55.250609Z",
     "start_time": "2023-05-21T19:35:55.247345Z"
    }
   },
   "outputs": [],
   "source": [
    "# kraje europejskie - https://pl.wikipedia.org/wiki/Państwa_Europy\n",
    "# brakuje: Andora, Liechtenstein, Monako, San Marino, Watykan\n",
    "# celowo nieuwzględnione: Turkey, Kazakhstan\n",
    "\n",
    "Europe = ['Albania', 'Austria', 'Belgium', 'Belarus', 'Bosnia and Herzegovina', 'Bulgaria', 'Croatia',\n",
    "          'Montenegro', 'Czech Republic', 'Denmark', 'Estonia',\n",
    "          'Finland', 'France', 'Greece', 'Spain', 'Netherlands',\n",
    "          'Ireland', 'Iceland', 'Lithuania',\n",
    "          'Luxembourg', 'Latvia', 'North Macedonia', 'Malta',\n",
    "          'Moldova', 'Germany', 'Norway', 'Poland', 'Portugal',\n",
    "          'Russia', 'Romania', 'Serbia', 'Slovak Republic',\n",
    "          'Slovenia', 'Switzerland', 'Sweden', 'Ukraine',\n",
    "          'Hungary', 'United Kingdom', 'Italy']"
   ]
  },
  {
   "cell_type": "markdown",
   "id": "aac7de9b",
   "metadata": {},
   "source": [
    "Wybrane kraje europejskie:\n",
    "\n",
    "['Albania', 'Austria', 'Belgium', 'Belarus', 'Bosnia and Herzegovina', 'Bulgaria', 'Croatia', 'Montenegro', 'Czech Republic', 'Denmark', 'Estonia', 'Finland', 'France', 'Greece', 'Spain', 'Netherlands', 'Ireland', 'Iceland', 'Lithuania', 'Luxembourg', 'Latvia', 'Macedonia, FYR', 'Malta', 'Moldova', 'Germany', 'Norway', 'Poland', 'Portugal', 'Russia', 'Romania', 'Serbia', 'Slovak Republic', 'Slovenia', 'Switzerland', 'Sweden', 'Ukraine', 'Hungary', 'United Kingdom', 'Italy']"
   ]
  },
  {
   "cell_type": "markdown",
   "id": "f302df30",
   "metadata": {},
   "source": [
    "\\newpage"
   ]
  },
  {
   "cell_type": "markdown",
   "id": "16b03785",
   "metadata": {},
   "source": [
    "# EDA"
   ]
  },
  {
   "cell_type": "markdown",
   "id": "6de6b3f8",
   "metadata": {},
   "source": [
    "## Babies per woman\n",
    "\n",
    "okres: 1800 - 2100"
   ]
  },
  {
   "cell_type": "code",
   "execution_count": 3,
   "id": "6567ab17",
   "metadata": {
    "ExecuteTime": {
     "end_time": "2023-05-21T19:35:55.398861Z",
     "start_time": "2023-05-21T19:35:55.363677Z"
    }
   },
   "outputs": [
    {
     "data": {
      "text/html": [
       "<div>\n",
       "<style scoped>\n",
       "    .dataframe tbody tr th:only-of-type {\n",
       "        vertical-align: middle;\n",
       "    }\n",
       "\n",
       "    .dataframe tbody tr th {\n",
       "        vertical-align: top;\n",
       "    }\n",
       "\n",
       "    .dataframe thead th {\n",
       "        text-align: right;\n",
       "    }\n",
       "</style>\n",
       "<table border=\"1\" class=\"dataframe\">\n",
       "  <thead>\n",
       "    <tr style=\"text-align: right;\">\n",
       "      <th></th>\n",
       "      <th>country</th>\n",
       "      <th>year</th>\n",
       "      <th>fertility</th>\n",
       "    </tr>\n",
       "  </thead>\n",
       "  <tbody>\n",
       "    <tr>\n",
       "      <th>0</th>\n",
       "      <td>Albania</td>\n",
       "      <td>1800</td>\n",
       "      <td>4.60</td>\n",
       "    </tr>\n",
       "    <tr>\n",
       "      <th>1</th>\n",
       "      <td>Austria</td>\n",
       "      <td>1800</td>\n",
       "      <td>5.10</td>\n",
       "    </tr>\n",
       "    <tr>\n",
       "      <th>2</th>\n",
       "      <td>Belgium</td>\n",
       "      <td>1800</td>\n",
       "      <td>4.85</td>\n",
       "    </tr>\n",
       "    <tr>\n",
       "      <th>3</th>\n",
       "      <td>Bulgaria</td>\n",
       "      <td>1800</td>\n",
       "      <td>5.16</td>\n",
       "    </tr>\n",
       "    <tr>\n",
       "      <th>4</th>\n",
       "      <td>Bosnia and Herzegovina</td>\n",
       "      <td>1800</td>\n",
       "      <td>5.91</td>\n",
       "    </tr>\n",
       "    <tr>\n",
       "      <th>...</th>\n",
       "      <td>...</td>\n",
       "      <td>...</td>\n",
       "      <td>...</td>\n",
       "    </tr>\n",
       "    <tr>\n",
       "      <th>11734</th>\n",
       "      <td>Serbia</td>\n",
       "      <td>2100</td>\n",
       "      <td>1.80</td>\n",
       "    </tr>\n",
       "    <tr>\n",
       "      <th>11735</th>\n",
       "      <td>Slovak Republic</td>\n",
       "      <td>2100</td>\n",
       "      <td>1.79</td>\n",
       "    </tr>\n",
       "    <tr>\n",
       "      <th>11736</th>\n",
       "      <td>Slovenia</td>\n",
       "      <td>2100</td>\n",
       "      <td>1.85</td>\n",
       "    </tr>\n",
       "    <tr>\n",
       "      <th>11737</th>\n",
       "      <td>Sweden</td>\n",
       "      <td>2100</td>\n",
       "      <td>1.93</td>\n",
       "    </tr>\n",
       "    <tr>\n",
       "      <th>11738</th>\n",
       "      <td>Ukraine</td>\n",
       "      <td>2100</td>\n",
       "      <td>1.83</td>\n",
       "    </tr>\n",
       "  </tbody>\n",
       "</table>\n",
       "<p>11739 rows × 3 columns</p>\n",
       "</div>"
      ],
      "text/plain": [
       "                      country  year  fertility\n",
       "0                     Albania  1800       4.60\n",
       "1                     Austria  1800       5.10\n",
       "2                     Belgium  1800       4.85\n",
       "3                    Bulgaria  1800       5.16\n",
       "4      Bosnia and Herzegovina  1800       5.91\n",
       "...                       ...   ...        ...\n",
       "11734                  Serbia  2100       1.80\n",
       "11735         Slovak Republic  2100       1.79\n",
       "11736                Slovenia  2100       1.85\n",
       "11737                  Sweden  2100       1.93\n",
       "11738                 Ukraine  2100       1.83\n",
       "\n",
       "[11739 rows x 3 columns]"
      ]
     },
     "execution_count": 3,
     "metadata": {},
     "output_type": "execute_result"
    }
   ],
   "source": [
    "df1 = pd.read_csv(\"../../data/gapminder/children_per_woman_total_fertility.csv\")\n",
    "\n",
    "df1 = df1.melt(id_vars=\"country\", var_name=\"year\", value_name=\"fertility\")\n",
    "\n",
    "df1 = df1[df1['country'].isin(Europe)].reset_index(drop=True)\n",
    "df1"
   ]
  },
  {
   "cell_type": "code",
   "execution_count": 4,
   "id": "8f6fd7c4",
   "metadata": {
    "ExecuteTime": {
     "end_time": "2023-05-21T19:35:55.410431Z",
     "start_time": "2023-05-21T19:35:55.403868Z"
    }
   },
   "outputs": [
    {
     "data": {
      "text/plain": [
       "(11739, 3)"
      ]
     },
     "execution_count": 4,
     "metadata": {},
     "output_type": "execute_result"
    }
   ],
   "source": [
    "df1.dropna().shape"
   ]
  },
  {
   "cell_type": "code",
   "execution_count": 5,
   "id": "a5bbda54",
   "metadata": {
    "ExecuteTime": {
     "end_time": "2023-05-21T19:35:55.627022Z",
     "start_time": "2023-05-21T19:35:55.433626Z"
    }
   },
   "outputs": [
    {
     "data": {
      "image/png": "[encoded data removed]",
      "text/plain": [
       "<Figure size 500x300 with 1 Axes>"
      ]
     },
     "metadata": {},
     "output_type": "display_data"
    }
   ],
   "source": [
    "plt.figure(figsize=(5, 3))\n",
    "\n",
    "plt.hist(df1[\"fertility\"], bins=20)\n",
    "\n",
    "plt.xlabel(\"fertility\")\n",
    "plt.show()"
   ]
  },
  {
   "cell_type": "markdown",
   "id": "a8470765",
   "metadata": {},
   "source": [
    "\\newpage"
   ]
  },
  {
   "cell_type": "markdown",
   "id": "47592ba9",
   "metadata": {},
   "source": [
    "## CO2 emissions per person\n",
    "\n",
    "okres: 1960 - 2018"
   ]
  },
  {
   "cell_type": "code",
   "execution_count": 6,
   "id": "d6a1396a",
   "metadata": {
    "ExecuteTime": {
     "end_time": "2023-05-21T19:35:55.655539Z",
     "start_time": "2023-05-21T19:35:55.629128Z"
    }
   },
   "outputs": [
    {
     "data": {
      "text/html": [
       "<div>\n",
       "<style scoped>\n",
       "    .dataframe tbody tr th:only-of-type {\n",
       "        vertical-align: middle;\n",
       "    }\n",
       "\n",
       "    .dataframe tbody tr th {\n",
       "        vertical-align: top;\n",
       "    }\n",
       "\n",
       "    .dataframe thead th {\n",
       "        text-align: right;\n",
       "    }\n",
       "</style>\n",
       "<table border=\"1\" class=\"dataframe\">\n",
       "  <thead>\n",
       "    <tr style=\"text-align: right;\">\n",
       "      <th></th>\n",
       "      <th>country</th>\n",
       "      <th>year</th>\n",
       "      <th>co2_emission</th>\n",
       "    </tr>\n",
       "  </thead>\n",
       "  <tbody>\n",
       "    <tr>\n",
       "      <th>0</th>\n",
       "      <td>Albania</td>\n",
       "      <td>1961</td>\n",
       "      <td>1.35</td>\n",
       "    </tr>\n",
       "    <tr>\n",
       "      <th>1</th>\n",
       "      <td>Austria</td>\n",
       "      <td>1961</td>\n",
       "      <td>4.48</td>\n",
       "    </tr>\n",
       "    <tr>\n",
       "      <th>2</th>\n",
       "      <td>Belgium</td>\n",
       "      <td>1961</td>\n",
       "      <td>10.1</td>\n",
       "    </tr>\n",
       "    <tr>\n",
       "      <th>3</th>\n",
       "      <td>Bulgaria</td>\n",
       "      <td>1961</td>\n",
       "      <td>3.26</td>\n",
       "    </tr>\n",
       "    <tr>\n",
       "      <th>4</th>\n",
       "      <td>Bosnia and Herzegovina</td>\n",
       "      <td>1961</td>\n",
       "      <td>1.67</td>\n",
       "    </tr>\n",
       "    <tr>\n",
       "      <th>...</th>\n",
       "      <td>...</td>\n",
       "      <td>...</td>\n",
       "      <td>...</td>\n",
       "    </tr>\n",
       "    <tr>\n",
       "      <th>2257</th>\n",
       "      <td>Serbia</td>\n",
       "      <td>2018</td>\n",
       "      <td>5.17</td>\n",
       "    </tr>\n",
       "    <tr>\n",
       "      <th>2258</th>\n",
       "      <td>Slovak Republic</td>\n",
       "      <td>2018</td>\n",
       "      <td>6.61</td>\n",
       "    </tr>\n",
       "    <tr>\n",
       "      <th>2259</th>\n",
       "      <td>Slovenia</td>\n",
       "      <td>2018</td>\n",
       "      <td>6.95</td>\n",
       "    </tr>\n",
       "    <tr>\n",
       "      <th>2260</th>\n",
       "      <td>Sweden</td>\n",
       "      <td>2018</td>\n",
       "      <td>4.12</td>\n",
       "    </tr>\n",
       "    <tr>\n",
       "      <th>2261</th>\n",
       "      <td>Ukraine</td>\n",
       "      <td>2018</td>\n",
       "      <td>5.09</td>\n",
       "    </tr>\n",
       "  </tbody>\n",
       "</table>\n",
       "<p>2262 rows × 3 columns</p>\n",
       "</div>"
      ],
      "text/plain": [
       "                     country  year co2_emission\n",
       "0                    Albania  1961         1.35\n",
       "1                    Austria  1961         4.48\n",
       "2                    Belgium  1961         10.1\n",
       "3                   Bulgaria  1961         3.26\n",
       "4     Bosnia and Herzegovina  1961         1.67\n",
       "...                      ...   ...          ...\n",
       "2257                  Serbia  2018         5.17\n",
       "2258         Slovak Republic  2018         6.61\n",
       "2259                Slovenia  2018         6.95\n",
       "2260                  Sweden  2018         4.12\n",
       "2261                 Ukraine  2018         5.09\n",
       "\n",
       "[2262 rows x 3 columns]"
      ]
     },
     "execution_count": 6,
     "metadata": {},
     "output_type": "execute_result"
    }
   ],
   "source": [
    "df2 = pd.read_csv(\"../../data/gapminder/co2_emissions_tonnes_per_person.csv\")\n",
    "\n",
    "df2 = df2.melt(id_vars=\"country\", var_name=\"year\", value_name=\"co2_emission\")\n",
    "\n",
    "df2[\"year\"] = df2[\"year\"].astype(int)\n",
    "df2 = df2[(df2[\"country\"].isin(Europe)) & (df2[\"year\"] >= 1961)].reset_index(drop=True)\n",
    "df2"
   ]
  },
  {
   "cell_type": "code",
   "execution_count": 7,
   "id": "d20c5746",
   "metadata": {
    "ExecuteTime": {
     "end_time": "2023-05-21T19:35:55.661171Z",
     "start_time": "2023-05-21T19:35:55.657162Z"
    }
   },
   "outputs": [
    {
     "data": {
      "text/plain": [
       "2262"
      ]
     },
     "execution_count": 7,
     "metadata": {},
     "output_type": "execute_result"
    }
   ],
   "source": [
    "(2018 - 1961 + 1) * len(Europe)"
   ]
  },
  {
   "cell_type": "code",
   "execution_count": 8,
   "id": "013b8074",
   "metadata": {
    "ExecuteTime": {
     "end_time": "2023-05-21T19:35:55.667943Z",
     "start_time": "2023-05-21T19:35:55.663421Z"
    }
   },
   "outputs": [
    {
     "data": {
      "text/plain": [
       "(2262, 3)"
      ]
     },
     "execution_count": 8,
     "metadata": {},
     "output_type": "execute_result"
    }
   ],
   "source": [
    "df2.dropna().shape"
   ]
  },
  {
   "cell_type": "code",
   "execution_count": 9,
   "id": "21a06a4c",
   "metadata": {
    "ExecuteTime": {
     "end_time": "2023-05-21T19:35:56.233393Z",
     "start_time": "2023-05-21T19:35:56.100950Z"
    }
   },
   "outputs": [
    {
     "data": {
      "image/png": "[encoded data removed]",
      "text/plain": [
       "<Figure size 500x300 with 1 Axes>"
      ]
     },
     "metadata": {},
     "output_type": "display_data"
    }
   ],
   "source": [
    "plt.figure(figsize=(5, 3))\n",
    "\n",
    "plt.hist(df2[\"co2_emission\"], bins=20)\n",
    "\n",
    "plt.xlabel(\"co2_emission\")\n",
    "plt.show()"
   ]
  },
  {
   "cell_type": "markdown",
   "id": "f5c2cd02",
   "metadata": {},
   "source": [
    "\\newpage"
   ]
  },
  {
   "cell_type": "markdown",
   "id": "f58781cc",
   "metadata": {},
   "source": [
    "## Child mortality\n",
    "\n",
    "okres: 1800 - 2100"
   ]
  },
  {
   "cell_type": "code",
   "execution_count": 10,
   "id": "95490497",
   "metadata": {
    "ExecuteTime": {
     "end_time": "2023-05-21T19:35:56.824648Z",
     "start_time": "2023-05-21T19:35:56.771109Z"
    }
   },
   "outputs": [
    {
     "data": {
      "text/html": [
       "<div>\n",
       "<style scoped>\n",
       "    .dataframe tbody tr th:only-of-type {\n",
       "        vertical-align: middle;\n",
       "    }\n",
       "\n",
       "    .dataframe tbody tr th {\n",
       "        vertical-align: top;\n",
       "    }\n",
       "\n",
       "    .dataframe thead th {\n",
       "        text-align: right;\n",
       "    }\n",
       "</style>\n",
       "<table border=\"1\" class=\"dataframe\">\n",
       "  <thead>\n",
       "    <tr style=\"text-align: right;\">\n",
       "      <th></th>\n",
       "      <th>country</th>\n",
       "      <th>year</th>\n",
       "      <th>child_mortality</th>\n",
       "    </tr>\n",
       "  </thead>\n",
       "  <tbody>\n",
       "    <tr>\n",
       "      <th>0</th>\n",
       "      <td>Albania</td>\n",
       "      <td>1800</td>\n",
       "      <td>375.00</td>\n",
       "    </tr>\n",
       "    <tr>\n",
       "      <th>1</th>\n",
       "      <td>Austria</td>\n",
       "      <td>1800</td>\n",
       "      <td>387.00</td>\n",
       "    </tr>\n",
       "    <tr>\n",
       "      <th>2</th>\n",
       "      <td>Belgium</td>\n",
       "      <td>1800</td>\n",
       "      <td>322.00</td>\n",
       "    </tr>\n",
       "    <tr>\n",
       "      <th>3</th>\n",
       "      <td>Bulgaria</td>\n",
       "      <td>1800</td>\n",
       "      <td>370.00</td>\n",
       "    </tr>\n",
       "    <tr>\n",
       "      <th>4</th>\n",
       "      <td>Bosnia and Herzegovina</td>\n",
       "      <td>1800</td>\n",
       "      <td>379.00</td>\n",
       "    </tr>\n",
       "    <tr>\n",
       "      <th>...</th>\n",
       "      <td>...</td>\n",
       "      <td>...</td>\n",
       "      <td>...</td>\n",
       "    </tr>\n",
       "    <tr>\n",
       "      <th>11734</th>\n",
       "      <td>Serbia</td>\n",
       "      <td>2100</td>\n",
       "      <td>1.04</td>\n",
       "    </tr>\n",
       "    <tr>\n",
       "      <th>11735</th>\n",
       "      <td>Slovak Republic</td>\n",
       "      <td>2100</td>\n",
       "      <td>1.56</td>\n",
       "    </tr>\n",
       "    <tr>\n",
       "      <th>11736</th>\n",
       "      <td>Slovenia</td>\n",
       "      <td>2100</td>\n",
       "      <td>0.39</td>\n",
       "    </tr>\n",
       "    <tr>\n",
       "      <th>11737</th>\n",
       "      <td>Sweden</td>\n",
       "      <td>2100</td>\n",
       "      <td>0.40</td>\n",
       "    </tr>\n",
       "    <tr>\n",
       "      <th>11738</th>\n",
       "      <td>Ukraine</td>\n",
       "      <td>2100</td>\n",
       "      <td>1.48</td>\n",
       "    </tr>\n",
       "  </tbody>\n",
       "</table>\n",
       "<p>11739 rows × 3 columns</p>\n",
       "</div>"
      ],
      "text/plain": [
       "                      country  year  child_mortality\n",
       "0                     Albania  1800           375.00\n",
       "1                     Austria  1800           387.00\n",
       "2                     Belgium  1800           322.00\n",
       "3                    Bulgaria  1800           370.00\n",
       "4      Bosnia and Herzegovina  1800           379.00\n",
       "...                       ...   ...              ...\n",
       "11734                  Serbia  2100             1.04\n",
       "11735         Slovak Republic  2100             1.56\n",
       "11736                Slovenia  2100             0.39\n",
       "11737                  Sweden  2100             0.40\n",
       "11738                 Ukraine  2100             1.48\n",
       "\n",
       "[11739 rows x 3 columns]"
      ]
     },
     "execution_count": 10,
     "metadata": {},
     "output_type": "execute_result"
    }
   ],
   "source": [
    "df3 = pd.read_csv(\"../../data/gapminder/child_mortality_0_5_year_olds_dying_per_1000_born.csv\")\n",
    "\n",
    "df3 = df3.melt(id_vars=\"country\", var_name=\"year\", value_name=\"child_mortality\")\n",
    "\n",
    "df3[\"year\"] = df3[\"year\"].astype(int)\n",
    "df3 = df3[(df3[\"country\"].isin(Europe))].reset_index(drop=True)\n",
    "df3"
   ]
  },
  {
   "cell_type": "code",
   "execution_count": 11,
   "id": "da13ce94",
   "metadata": {
    "ExecuteTime": {
     "end_time": "2023-05-21T19:35:59.586554Z",
     "start_time": "2023-05-21T19:35:59.574692Z"
    }
   },
   "outputs": [
    {
     "data": {
      "text/plain": [
       "11739"
      ]
     },
     "execution_count": 11,
     "metadata": {},
     "output_type": "execute_result"
    }
   ],
   "source": [
    "(2100 - 1800 + 1) * len(Europe)"
   ]
  },
  {
   "cell_type": "code",
   "execution_count": 12,
   "id": "149716bb",
   "metadata": {
    "ExecuteTime": {
     "end_time": "2023-05-21T19:35:59.772520Z",
     "start_time": "2023-05-21T19:35:59.758779Z"
    }
   },
   "outputs": [
    {
     "data": {
      "text/plain": [
       "(11739, 3)"
      ]
     },
     "execution_count": 12,
     "metadata": {},
     "output_type": "execute_result"
    }
   ],
   "source": [
    "df3.dropna().shape"
   ]
  },
  {
   "cell_type": "code",
   "execution_count": 13,
   "id": "d9a01083",
   "metadata": {
    "ExecuteTime": {
     "end_time": "2023-05-21T19:36:00.074534Z",
     "start_time": "2023-05-21T19:35:59.930174Z"
    }
   },
   "outputs": [
    {
     "data": {
      "image/png": "[encoded data removed]",
      "text/plain": [
       "<Figure size 500x300 with 1 Axes>"
      ]
     },
     "metadata": {},
     "output_type": "display_data"
    }
   ],
   "source": [
    "plt.figure(figsize=(5, 3))\n",
    "\n",
    "plt.hist(df3[\"child_mortality\"], bins=20)\n",
    "\n",
    "plt.xlabel(\"child_mortality\")\n",
    "plt.show()"
   ]
  },
  {
   "cell_type": "markdown",
   "id": "adbacaf5",
   "metadata": {},
   "source": [
    "\\newpage"
   ]
  },
  {
   "cell_type": "markdown",
   "id": "20b0992c",
   "metadata": {},
   "source": [
    "## Income\n",
    "\n",
    "okres: 1800 - 2100"
   ]
  },
  {
   "cell_type": "code",
   "execution_count": 14,
   "id": "5bec78b6",
   "metadata": {
    "ExecuteTime": {
     "end_time": "2023-05-21T19:36:00.606040Z",
     "start_time": "2023-05-21T19:36:00.500490Z"
    }
   },
   "outputs": [
    {
     "data": {
      "text/html": [
       "<div>\n",
       "<style scoped>\n",
       "    .dataframe tbody tr th:only-of-type {\n",
       "        vertical-align: middle;\n",
       "    }\n",
       "\n",
       "    .dataframe tbody tr th {\n",
       "        vertical-align: top;\n",
       "    }\n",
       "\n",
       "    .dataframe thead th {\n",
       "        text-align: right;\n",
       "    }\n",
       "</style>\n",
       "<table border=\"1\" class=\"dataframe\">\n",
       "  <thead>\n",
       "    <tr style=\"text-align: right;\">\n",
       "      <th></th>\n",
       "      <th>country</th>\n",
       "      <th>year</th>\n",
       "      <th>income</th>\n",
       "    </tr>\n",
       "  </thead>\n",
       "  <tbody>\n",
       "    <tr>\n",
       "      <th>0</th>\n",
       "      <td>Albania</td>\n",
       "      <td>1800</td>\n",
       "      <td>569.0</td>\n",
       "    </tr>\n",
       "    <tr>\n",
       "      <th>1</th>\n",
       "      <td>Austria</td>\n",
       "      <td>1800</td>\n",
       "      <td>2360.0</td>\n",
       "    </tr>\n",
       "    <tr>\n",
       "      <th>2</th>\n",
       "      <td>Belgium</td>\n",
       "      <td>1800</td>\n",
       "      <td>3220.0</td>\n",
       "    </tr>\n",
       "    <tr>\n",
       "      <th>3</th>\n",
       "      <td>Bulgaria</td>\n",
       "      <td>1800</td>\n",
       "      <td>1380.0</td>\n",
       "    </tr>\n",
       "    <tr>\n",
       "      <th>4</th>\n",
       "      <td>Bosnia and Herzegovina</td>\n",
       "      <td>1800</td>\n",
       "      <td>1200.0</td>\n",
       "    </tr>\n",
       "    <tr>\n",
       "      <th>...</th>\n",
       "      <td>...</td>\n",
       "      <td>...</td>\n",
       "      <td>...</td>\n",
       "    </tr>\n",
       "    <tr>\n",
       "      <th>11734</th>\n",
       "      <td>Serbia</td>\n",
       "      <td>2100</td>\n",
       "      <td>37800.0</td>\n",
       "    </tr>\n",
       "    <tr>\n",
       "      <th>11735</th>\n",
       "      <td>Slovak Republic</td>\n",
       "      <td>2100</td>\n",
       "      <td>68900.0</td>\n",
       "    </tr>\n",
       "    <tr>\n",
       "      <th>11736</th>\n",
       "      <td>Slovenia</td>\n",
       "      <td>2100</td>\n",
       "      <td>77800.0</td>\n",
       "    </tr>\n",
       "    <tr>\n",
       "      <th>11737</th>\n",
       "      <td>Sweden</td>\n",
       "      <td>2100</td>\n",
       "      <td>76500.0</td>\n",
       "    </tr>\n",
       "    <tr>\n",
       "      <th>11738</th>\n",
       "      <td>Ukraine</td>\n",
       "      <td>2100</td>\n",
       "      <td>27500.0</td>\n",
       "    </tr>\n",
       "  </tbody>\n",
       "</table>\n",
       "<p>11739 rows × 3 columns</p>\n",
       "</div>"
      ],
      "text/plain": [
       "                      country  year   income\n",
       "0                     Albania  1800    569.0\n",
       "1                     Austria  1800   2360.0\n",
       "2                     Belgium  1800   3220.0\n",
       "3                    Bulgaria  1800   1380.0\n",
       "4      Bosnia and Herzegovina  1800   1200.0\n",
       "...                       ...   ...      ...\n",
       "11734                  Serbia  2100  37800.0\n",
       "11735         Slovak Republic  2100  68900.0\n",
       "11736                Slovenia  2100  77800.0\n",
       "11737                  Sweden  2100  76500.0\n",
       "11738                 Ukraine  2100  27500.0\n",
       "\n",
       "[11739 rows x 3 columns]"
      ]
     },
     "execution_count": 14,
     "metadata": {},
     "output_type": "execute_result"
    }
   ],
   "source": [
    "df4 = pd.read_csv(\"../../data/gapminder/gdp_pcap.csv\")\n",
    "\n",
    "df4 = df4.melt(id_vars=\"country\", var_name=\"year\", value_name=\"income\")\n",
    "\n",
    "df4[\"year\"] = df4[\"year\"].astype(int)\n",
    "\n",
    "cond = df4[\"income\"].str[-1] == \"k\"\n",
    "df4.loc[cond, \"income\"] = df4.loc[cond, \"income\"].str[:-1]\n",
    "df4[\"income\"] = df4[\"income\"].astype(\"float64\")\n",
    "df4.loc[cond, \"income\"] = df4.loc[cond, \"income\"] * 1000\n",
    "\n",
    "df4 = df4[(df4[\"country\"].isin(Europe))].reset_index(drop=True)\n",
    "df4"
   ]
  },
  {
   "cell_type": "code",
   "execution_count": 15,
   "id": "9be5c435",
   "metadata": {
    "ExecuteTime": {
     "end_time": "2023-05-21T19:36:01.258809Z",
     "start_time": "2023-05-21T19:36:01.246939Z"
    }
   },
   "outputs": [
    {
     "data": {
      "text/plain": [
       "11739"
      ]
     },
     "execution_count": 15,
     "metadata": {},
     "output_type": "execute_result"
    }
   ],
   "source": [
    "(2100 - 1800 + 1) * len(Europe)"
   ]
  },
  {
   "cell_type": "code",
   "execution_count": 16,
   "id": "1ce41b66",
   "metadata": {
    "ExecuteTime": {
     "end_time": "2023-05-21T19:36:01.737528Z",
     "start_time": "2023-05-21T19:36:01.730917Z"
    }
   },
   "outputs": [
    {
     "data": {
      "text/plain": [
       "(11739, 3)"
      ]
     },
     "execution_count": 16,
     "metadata": {},
     "output_type": "execute_result"
    }
   ],
   "source": [
    "df4.dropna().shape"
   ]
  },
  {
   "cell_type": "code",
   "execution_count": 17,
   "id": "c6849937",
   "metadata": {
    "ExecuteTime": {
     "end_time": "2023-05-21T19:36:02.692820Z",
     "start_time": "2023-05-21T19:36:02.561445Z"
    }
   },
   "outputs": [
    {
     "data": {
      "image/png": "[encoded data removed]",
      "text/plain": [
       "<Figure size 500x300 with 1 Axes>"
      ]
     },
     "metadata": {},
     "output_type": "display_data"
    }
   ],
   "source": [
    "plt.figure(figsize=(5, 3))\n",
    "\n",
    "plt.hist(df4[\"income\"], bins=20)\n",
    "\n",
    "plt.xlabel(\"income [$]\")\n",
    "plt.show()"
   ]
  },
  {
   "cell_type": "markdown",
   "id": "96d122c9",
   "metadata": {},
   "source": [
    "\\newpage"
   ]
  },
  {
   "cell_type": "markdown",
   "id": "45c25ef9",
   "metadata": {},
   "source": [
    "## Life expectancy \n",
    "\n",
    "okres: 1800 - 2100"
   ]
  },
  {
   "cell_type": "code",
   "execution_count": 18,
   "id": "028936ac",
   "metadata": {
    "ExecuteTime": {
     "end_time": "2023-05-21T19:36:04.177769Z",
     "start_time": "2023-05-21T19:36:04.146447Z"
    }
   },
   "outputs": [
    {
     "data": {
      "text/html": [
       "<div>\n",
       "<style scoped>\n",
       "    .dataframe tbody tr th:only-of-type {\n",
       "        vertical-align: middle;\n",
       "    }\n",
       "\n",
       "    .dataframe tbody tr th {\n",
       "        vertical-align: top;\n",
       "    }\n",
       "\n",
       "    .dataframe thead th {\n",
       "        text-align: right;\n",
       "    }\n",
       "</style>\n",
       "<table border=\"1\" class=\"dataframe\">\n",
       "  <thead>\n",
       "    <tr style=\"text-align: right;\">\n",
       "      <th></th>\n",
       "      <th>country</th>\n",
       "      <th>year</th>\n",
       "      <th>lifespan</th>\n",
       "    </tr>\n",
       "  </thead>\n",
       "  <tbody>\n",
       "    <tr>\n",
       "      <th>0</th>\n",
       "      <td>Albania</td>\n",
       "      <td>1800</td>\n",
       "      <td>35.4</td>\n",
       "    </tr>\n",
       "    <tr>\n",
       "      <th>1</th>\n",
       "      <td>Austria</td>\n",
       "      <td>1800</td>\n",
       "      <td>34.4</td>\n",
       "    </tr>\n",
       "    <tr>\n",
       "      <th>2</th>\n",
       "      <td>Belgium</td>\n",
       "      <td>1800</td>\n",
       "      <td>40.0</td>\n",
       "    </tr>\n",
       "    <tr>\n",
       "      <th>3</th>\n",
       "      <td>Bulgaria</td>\n",
       "      <td>1800</td>\n",
       "      <td>35.8</td>\n",
       "    </tr>\n",
       "    <tr>\n",
       "      <th>4</th>\n",
       "      <td>Bosnia and Herzegovina</td>\n",
       "      <td>1800</td>\n",
       "      <td>35.1</td>\n",
       "    </tr>\n",
       "    <tr>\n",
       "      <th>...</th>\n",
       "      <td>...</td>\n",
       "      <td>...</td>\n",
       "      <td>...</td>\n",
       "    </tr>\n",
       "    <tr>\n",
       "      <th>11734</th>\n",
       "      <td>Serbia</td>\n",
       "      <td>2100</td>\n",
       "      <td>86.0</td>\n",
       "    </tr>\n",
       "    <tr>\n",
       "      <th>11735</th>\n",
       "      <td>Slovak Republic</td>\n",
       "      <td>2100</td>\n",
       "      <td>87.6</td>\n",
       "    </tr>\n",
       "    <tr>\n",
       "      <th>11736</th>\n",
       "      <td>Slovenia</td>\n",
       "      <td>2100</td>\n",
       "      <td>91.2</td>\n",
       "    </tr>\n",
       "    <tr>\n",
       "      <th>11737</th>\n",
       "      <td>Sweden</td>\n",
       "      <td>2100</td>\n",
       "      <td>92.1</td>\n",
       "    </tr>\n",
       "    <tr>\n",
       "      <th>11738</th>\n",
       "      <td>Ukraine</td>\n",
       "      <td>2100</td>\n",
       "      <td>85.1</td>\n",
       "    </tr>\n",
       "  </tbody>\n",
       "</table>\n",
       "<p>11739 rows × 3 columns</p>\n",
       "</div>"
      ],
      "text/plain": [
       "                      country  year  lifespan\n",
       "0                     Albania  1800      35.4\n",
       "1                     Austria  1800      34.4\n",
       "2                     Belgium  1800      40.0\n",
       "3                    Bulgaria  1800      35.8\n",
       "4      Bosnia and Herzegovina  1800      35.1\n",
       "...                       ...   ...       ...\n",
       "11734                  Serbia  2100      86.0\n",
       "11735         Slovak Republic  2100      87.6\n",
       "11736                Slovenia  2100      91.2\n",
       "11737                  Sweden  2100      92.1\n",
       "11738                 Ukraine  2100      85.1\n",
       "\n",
       "[11739 rows x 3 columns]"
      ]
     },
     "execution_count": 18,
     "metadata": {},
     "output_type": "execute_result"
    }
   ],
   "source": [
    "df5 = pd.read_csv(\"../../data/gapminder/lex.csv\")\n",
    "\n",
    "df5 = df5.melt(id_vars=\"country\", var_name=\"year\", value_name=\"lifespan\")\n",
    "\n",
    "df5[\"year\"] = df5[\"year\"].astype(int)\n",
    "\n",
    "df5 = df5[(df5[\"country\"].isin(Europe))].reset_index(drop=True)\n",
    "df5"
   ]
  },
  {
   "cell_type": "code",
   "execution_count": 19,
   "id": "81520971",
   "metadata": {
    "ExecuteTime": {
     "end_time": "2023-05-21T19:36:04.516130Z",
     "start_time": "2023-05-21T19:36:04.512659Z"
    }
   },
   "outputs": [
    {
     "data": {
      "text/plain": [
       "11739"
      ]
     },
     "execution_count": 19,
     "metadata": {},
     "output_type": "execute_result"
    }
   ],
   "source": [
    "(2100 - 1800 + 1) * len(Europe)"
   ]
  },
  {
   "cell_type": "code",
   "execution_count": 20,
   "id": "b4157dc8",
   "metadata": {
    "ExecuteTime": {
     "end_time": "2023-05-21T19:36:04.897313Z",
     "start_time": "2023-05-21T19:36:04.887246Z"
    }
   },
   "outputs": [
    {
     "data": {
      "text/plain": [
       "(11739, 3)"
      ]
     },
     "execution_count": 20,
     "metadata": {},
     "output_type": "execute_result"
    }
   ],
   "source": [
    "df5.dropna().shape"
   ]
  },
  {
   "cell_type": "code",
   "execution_count": 21,
   "id": "78d45870",
   "metadata": {
    "ExecuteTime": {
     "end_time": "2023-05-21T19:36:05.328144Z",
     "start_time": "2023-05-21T19:36:05.213866Z"
    }
   },
   "outputs": [
    {
     "data": {
      "image/png": "[encoded data removed]",
      "text/plain": [
       "<Figure size 500x300 with 1 Axes>"
      ]
     },
     "metadata": {},
     "output_type": "display_data"
    }
   ],
   "source": [
    "plt.figure(figsize=(5, 3))\n",
    "\n",
    "plt.hist(df5[\"lifespan\"], bins=20)\n",
    "\n",
    "plt.xlabel(\"lifespan\")\n",
    "plt.show()"
   ]
  },
  {
   "cell_type": "markdown",
   "id": "7ca8344e",
   "metadata": {},
   "source": [
    "\\newpage"
   ]
  },
  {
   "cell_type": "markdown",
   "id": "13f3a768",
   "metadata": {},
   "source": [
    "## Population\n",
    "\n",
    "okres: 1800 - 2100"
   ]
  },
  {
   "cell_type": "code",
   "execution_count": 22,
   "id": "3f65349f",
   "metadata": {
    "ExecuteTime": {
     "end_time": "2023-05-21T19:36:06.950732Z",
     "start_time": "2023-05-21T19:36:06.798607Z"
    }
   },
   "outputs": [
    {
     "data": {
      "text/html": [
       "<div>\n",
       "<style scoped>\n",
       "    .dataframe tbody tr th:only-of-type {\n",
       "        vertical-align: middle;\n",
       "    }\n",
       "\n",
       "    .dataframe tbody tr th {\n",
       "        vertical-align: top;\n",
       "    }\n",
       "\n",
       "    .dataframe thead th {\n",
       "        text-align: right;\n",
       "    }\n",
       "</style>\n",
       "<table border=\"1\" class=\"dataframe\">\n",
       "  <thead>\n",
       "    <tr style=\"text-align: right;\">\n",
       "      <th></th>\n",
       "      <th>country</th>\n",
       "      <th>year</th>\n",
       "      <th>population</th>\n",
       "    </tr>\n",
       "  </thead>\n",
       "  <tbody>\n",
       "    <tr>\n",
       "      <th>0</th>\n",
       "      <td>Albania</td>\n",
       "      <td>1800</td>\n",
       "      <td>400000.0</td>\n",
       "    </tr>\n",
       "    <tr>\n",
       "      <th>1</th>\n",
       "      <td>Austria</td>\n",
       "      <td>1800</td>\n",
       "      <td>3000000.0</td>\n",
       "    </tr>\n",
       "    <tr>\n",
       "      <th>2</th>\n",
       "      <td>Belgium</td>\n",
       "      <td>1800</td>\n",
       "      <td>3250000.0</td>\n",
       "    </tr>\n",
       "    <tr>\n",
       "      <th>3</th>\n",
       "      <td>Bulgaria</td>\n",
       "      <td>1800</td>\n",
       "      <td>2250000.0</td>\n",
       "    </tr>\n",
       "    <tr>\n",
       "      <th>4</th>\n",
       "      <td>Bosnia and Herzegovina</td>\n",
       "      <td>1800</td>\n",
       "      <td>852000.0</td>\n",
       "    </tr>\n",
       "    <tr>\n",
       "      <th>...</th>\n",
       "      <td>...</td>\n",
       "      <td>...</td>\n",
       "      <td>...</td>\n",
       "    </tr>\n",
       "    <tr>\n",
       "      <th>11734</th>\n",
       "      <td>Serbia</td>\n",
       "      <td>2100</td>\n",
       "      <td>3270000.0</td>\n",
       "    </tr>\n",
       "    <tr>\n",
       "      <th>11735</th>\n",
       "      <td>Slovak Republic</td>\n",
       "      <td>2100</td>\n",
       "      <td>3850000.0</td>\n",
       "    </tr>\n",
       "    <tr>\n",
       "      <th>11736</th>\n",
       "      <td>Slovenia</td>\n",
       "      <td>2100</td>\n",
       "      <td>1670000.0</td>\n",
       "    </tr>\n",
       "    <tr>\n",
       "      <th>11737</th>\n",
       "      <td>Sweden</td>\n",
       "      <td>2100</td>\n",
       "      <td>13200000.0</td>\n",
       "    </tr>\n",
       "    <tr>\n",
       "      <th>11738</th>\n",
       "      <td>Ukraine</td>\n",
       "      <td>2100</td>\n",
       "      <td>20400000.0</td>\n",
       "    </tr>\n",
       "  </tbody>\n",
       "</table>\n",
       "<p>11739 rows × 3 columns</p>\n",
       "</div>"
      ],
      "text/plain": [
       "                      country  year  population\n",
       "0                     Albania  1800    400000.0\n",
       "1                     Austria  1800   3000000.0\n",
       "2                     Belgium  1800   3250000.0\n",
       "3                    Bulgaria  1800   2250000.0\n",
       "4      Bosnia and Herzegovina  1800    852000.0\n",
       "...                       ...   ...         ...\n",
       "11734                  Serbia  2100   3270000.0\n",
       "11735         Slovak Republic  2100   3850000.0\n",
       "11736                Slovenia  2100   1670000.0\n",
       "11737                  Sweden  2100  13200000.0\n",
       "11738                 Ukraine  2100  20400000.0\n",
       "\n",
       "[11739 rows x 3 columns]"
      ]
     },
     "execution_count": 22,
     "metadata": {},
     "output_type": "execute_result"
    }
   ],
   "source": [
    "df6 = pd.read_csv(\"../../data/gapminder/pop.csv\")\n",
    "\n",
    "df6 = df6.melt(id_vars=\"country\", var_name=\"year\", value_name=\"population\")\n",
    "\n",
    "df6[\"year\"] = df6[\"year\"].astype(int)\n",
    "\n",
    "cond1 = df6[\"population\"].str[-1] == \"k\"\n",
    "df6.loc[cond1, \"population\"] = df6.loc[cond1, \"population\"].str[:-1]\n",
    "cond2 = df6[\"population\"].str[-1] == \"M\"\n",
    "df6.loc[cond2, \"population\"] = df6.loc[cond2, \"population\"].str[:-1]\n",
    "cond3 = df6[\"population\"].str[-1] == \"B\"\n",
    "df6.loc[cond3, \"population\"] = df6.loc[cond3, \"population\"].str[:-1]\n",
    "\n",
    "df6[\"population\"] = df6[\"population\"].astype(\"float64\")\n",
    "df6.loc[cond1, \"population\"] = df6.loc[cond1, \"population\"] * 10**3\n",
    "df6.loc[cond2, \"population\"] = df6.loc[cond2, \"population\"] * 10**6\n",
    "df6.loc[cond3, \"population\"] = df6.loc[cond3, \"population\"] * 10**9\n",
    "\n",
    "df6 = df6[(df6[\"country\"].isin(Europe))].reset_index(drop=True)\n",
    "df6"
   ]
  },
  {
   "cell_type": "code",
   "execution_count": 23,
   "id": "75976b16",
   "metadata": {
    "ExecuteTime": {
     "end_time": "2023-05-21T19:36:07.032551Z",
     "start_time": "2023-05-21T19:36:07.023110Z"
    }
   },
   "outputs": [
    {
     "data": {
      "text/plain": [
       "11739"
      ]
     },
     "execution_count": 23,
     "metadata": {},
     "output_type": "execute_result"
    }
   ],
   "source": [
    "(2100 - 1800 + 1) * len(Europe)"
   ]
  },
  {
   "cell_type": "code",
   "execution_count": 24,
   "id": "d9a7e105",
   "metadata": {
    "ExecuteTime": {
     "end_time": "2023-05-21T19:36:07.346861Z",
     "start_time": "2023-05-21T19:36:07.334587Z"
    }
   },
   "outputs": [
    {
     "data": {
      "text/plain": [
       "(11739, 3)"
      ]
     },
     "execution_count": 24,
     "metadata": {},
     "output_type": "execute_result"
    }
   ],
   "source": [
    "df6.dropna().shape"
   ]
  },
  {
   "cell_type": "code",
   "execution_count": 25,
   "id": "ed9a11ee",
   "metadata": {
    "ExecuteTime": {
     "end_time": "2023-05-21T19:36:07.675831Z",
     "start_time": "2023-05-21T19:36:07.523709Z"
    }
   },
   "outputs": [
    {
     "data": {
      "image/png": "[encoded data removed]",
      "text/plain": [
       "<Figure size 500x300 with 1 Axes>"
      ]
     },
     "metadata": {},
     "output_type": "display_data"
    }
   ],
   "source": [
    "plt.figure(figsize=(5, 3))\n",
    "\n",
    "plt.hist(df6[\"population\"], bins=20)\n",
    "\n",
    "plt.xlabel(\"population\")\n",
    "plt.show()"
   ]
  },
  {
   "cell_type": "markdown",
   "id": "23b27600",
   "metadata": {},
   "source": [
    "\\newpage"
   ]
  },
  {
   "cell_type": "markdown",
   "id": "a0e5f3ea",
   "metadata": {},
   "source": [
    "## HIV\n",
    "\n",
    "- okres: 1990 - 2011\n",
    "- 34 kraje"
   ]
  },
  {
   "cell_type": "code",
   "execution_count": 26,
   "id": "51537422",
   "metadata": {
    "ExecuteTime": {
     "end_time": "2023-05-21T19:36:08.278232Z",
     "start_time": "2023-05-21T19:36:08.228534Z"
    }
   },
   "outputs": [
    {
     "data": {
      "text/html": [
       "<div>\n",
       "<style scoped>\n",
       "    .dataframe tbody tr th:only-of-type {\n",
       "        vertical-align: middle;\n",
       "    }\n",
       "\n",
       "    .dataframe tbody tr th {\n",
       "        vertical-align: top;\n",
       "    }\n",
       "\n",
       "    .dataframe thead th {\n",
       "        text-align: right;\n",
       "    }\n",
       "</style>\n",
       "<table border=\"1\" class=\"dataframe\">\n",
       "  <thead>\n",
       "    <tr style=\"text-align: right;\">\n",
       "      <th></th>\n",
       "      <th>country</th>\n",
       "      <th>year</th>\n",
       "      <th>hiv</th>\n",
       "    </tr>\n",
       "  </thead>\n",
       "  <tbody>\n",
       "    <tr>\n",
       "      <th>0</th>\n",
       "      <td>Austria</td>\n",
       "      <td>1990</td>\n",
       "      <td>600.0</td>\n",
       "    </tr>\n",
       "    <tr>\n",
       "      <th>1</th>\n",
       "      <td>Belgium</td>\n",
       "      <td>1990</td>\n",
       "      <td>1400.0</td>\n",
       "    </tr>\n",
       "    <tr>\n",
       "      <th>2</th>\n",
       "      <td>Bulgaria</td>\n",
       "      <td>1990</td>\n",
       "      <td>350.0</td>\n",
       "    </tr>\n",
       "    <tr>\n",
       "      <th>3</th>\n",
       "      <td>Belarus</td>\n",
       "      <td>1990</td>\n",
       "      <td>60.0</td>\n",
       "    </tr>\n",
       "    <tr>\n",
       "      <th>4</th>\n",
       "      <td>Switzerland</td>\n",
       "      <td>1990</td>\n",
       "      <td>7900.0</td>\n",
       "    </tr>\n",
       "    <tr>\n",
       "      <th>...</th>\n",
       "      <td>...</td>\n",
       "      <td>...</td>\n",
       "      <td>...</td>\n",
       "    </tr>\n",
       "    <tr>\n",
       "      <th>743</th>\n",
       "      <td>Serbia</td>\n",
       "      <td>2011</td>\n",
       "      <td>3500.0</td>\n",
       "    </tr>\n",
       "    <tr>\n",
       "      <th>744</th>\n",
       "      <td>Slovak Republic</td>\n",
       "      <td>2011</td>\n",
       "      <td>350.0</td>\n",
       "    </tr>\n",
       "    <tr>\n",
       "      <th>745</th>\n",
       "      <td>Slovenia</td>\n",
       "      <td>2011</td>\n",
       "      <td>600.0</td>\n",
       "    </tr>\n",
       "    <tr>\n",
       "      <th>746</th>\n",
       "      <td>Sweden</td>\n",
       "      <td>2011</td>\n",
       "      <td>9100.0</td>\n",
       "    </tr>\n",
       "    <tr>\n",
       "      <th>747</th>\n",
       "      <td>Ukraine</td>\n",
       "      <td>2011</td>\n",
       "      <td>230000.0</td>\n",
       "    </tr>\n",
       "  </tbody>\n",
       "</table>\n",
       "<p>748 rows × 3 columns</p>\n",
       "</div>"
      ],
      "text/plain": [
       "             country  year       hiv\n",
       "0            Austria  1990     600.0\n",
       "1            Belgium  1990    1400.0\n",
       "2           Bulgaria  1990     350.0\n",
       "3            Belarus  1990      60.0\n",
       "4        Switzerland  1990    7900.0\n",
       "..               ...   ...       ...\n",
       "743           Serbia  2011    3500.0\n",
       "744  Slovak Republic  2011     350.0\n",
       "745         Slovenia  2011     600.0\n",
       "746           Sweden  2011    9100.0\n",
       "747          Ukraine  2011  230000.0\n",
       "\n",
       "[748 rows x 3 columns]"
      ]
     },
     "execution_count": 26,
     "metadata": {},
     "output_type": "execute_result"
    }
   ],
   "source": [
    "df7 = pd.read_csv(\"../../data/gapminder/people_living_with_hiv_number_all_ages.csv\")\n",
    "\n",
    "df7 = df7.melt(id_vars=\"country\", var_name=\"year\", value_name=\"hiv\")\n",
    "\n",
    "df7[\"year\"] = df7[\"year\"].astype(int)\n",
    "\n",
    "cond1 = df7[\"hiv\"].str[-1] == \"k\"\n",
    "df7.loc[cond1, \"hiv\"] = df7.loc[cond1, \"hiv\"].str[:-1]\n",
    "cond2 = df7[\"hiv\"].str[-1] == \"M\"\n",
    "df7.loc[cond2, \"hiv\"] = df7.loc[cond2, \"hiv\"].str[:-1]\n",
    "\n",
    "df7[\"hiv\"] = df7[\"hiv\"].astype(\"float64\")\n",
    "df7.loc[cond1, \"hiv\"] = df7.loc[cond1, \"hiv\"] * 10**3\n",
    "df7.loc[cond2, \"hiv\"] = df7.loc[cond2, \"hiv\"] * 10**6\n",
    "\n",
    "df7 = df7[(df7[\"country\"].isin(Europe)) & (df7[\"year\"] >= 1990)].reset_index(drop=True)\n",
    "df7"
   ]
  },
  {
   "cell_type": "code",
   "execution_count": 27,
   "id": "31cf24c1",
   "metadata": {
    "ExecuteTime": {
     "end_time": "2023-05-21T19:36:08.618186Z",
     "start_time": "2023-05-21T19:36:08.604749Z"
    }
   },
   "outputs": [
    {
     "data": {
      "text/plain": [
       "858"
      ]
     },
     "execution_count": 27,
     "metadata": {},
     "output_type": "execute_result"
    }
   ],
   "source": [
    "(2011 - 1990 + 1) * len(Europe)"
   ]
  },
  {
   "cell_type": "code",
   "execution_count": 28,
   "id": "20132115",
   "metadata": {
    "ExecuteTime": {
     "end_time": "2023-05-21T19:36:09.069639Z",
     "start_time": "2023-05-21T19:36:09.057174Z"
    }
   },
   "outputs": [
    {
     "data": {
      "text/plain": [
       "(748, 3)"
      ]
     },
     "execution_count": 28,
     "metadata": {},
     "output_type": "execute_result"
    }
   ],
   "source": [
    "df7.dropna().shape"
   ]
  },
  {
   "cell_type": "code",
   "execution_count": 29,
   "id": "7e9aca7d",
   "metadata": {
    "ExecuteTime": {
     "end_time": "2023-05-21T19:36:09.414546Z",
     "start_time": "2023-05-21T19:36:09.279684Z"
    }
   },
   "outputs": [
    {
     "data": {
      "image/png": "[encoded data removed]",
      "text/plain": [
       "<Figure size 500x300 with 1 Axes>"
      ]
     },
     "metadata": {},
     "output_type": "display_data"
    }
   ],
   "source": [
    "plt.figure(figsize=(5, 3))\n",
    "\n",
    "plt.hist(df7[\"hiv\"], bins=20)\n",
    "\n",
    "plt.xlabel(\"hiv\")\n",
    "plt.show()"
   ]
  },
  {
   "cell_type": "markdown",
   "id": "b5469d5e",
   "metadata": {},
   "source": [
    "\\newpage"
   ]
  },
  {
   "cell_type": "markdown",
   "id": "bc207ed8",
   "metadata": {},
   "source": [
    "# Outliers detection"
   ]
  },
  {
   "cell_type": "markdown",
   "id": "556f96d9",
   "metadata": {},
   "source": [
    "## 1d"
   ]
  },
  {
   "cell_type": "markdown",
   "id": "4a45dc33",
   "metadata": {},
   "source": [
    "### Babies per woman\n",
    "\n",
    "- okres 65 lat: 1950 - 2014"
   ]
  },
  {
   "cell_type": "code",
   "execution_count": 30,
   "id": "4ad94c8d",
   "metadata": {
    "ExecuteTime": {
     "end_time": "2023-05-21T19:36:24.424572Z",
     "start_time": "2023-05-21T19:36:24.386646Z"
    }
   },
   "outputs": [
    {
     "name": "stdout",
     "output_type": "stream",
     "text": [
      "Licznosc zbioru: 2535\n"
     ]
    }
   ],
   "source": [
    "tmp1 = pd.read_csv(\"../../data/gapminder/children_per_woman_total_fertility.csv\")\n",
    "\n",
    "tmp1 = tmp1.melt(id_vars=\"country\", var_name=\"year\", value_name=\"fertility\")\n",
    "\n",
    "tmp1[\"year\"] = tmp1[\"year\"].astype(int)\n",
    "\n",
    "tmp1 = tmp1[(tmp1[\"country\"].isin(Europe)) & (tmp1[\"year\"] >= 1950) & (tmp1[\"year\"] <= 2014)].reset_index(drop=True)\n",
    "\n",
    "\n",
    "x_train = tmp1[[\"fertility\"]].dropna().to_numpy()\n",
    "print(f\"Licznosc zbioru: {x_train.size}\")"
   ]
  },
  {
   "cell_type": "code",
   "execution_count": 31,
   "id": "5f86b14e",
   "metadata": {
    "ExecuteTime": {
     "end_time": "2023-05-21T19:38:15.259088Z",
     "start_time": "2023-05-21T19:36:24.551837Z"
    }
   },
   "outputs": [
    {
     "name": "stdout",
     "output_type": "stream",
     "text": [
      "Najlepszy mnożnik h: 5.000, r: 0.01, Wskaźnik: 0.220\n"
     ]
    },
    {
     "data": {
      "image/png": "[encoded data removed]",
      "text/plain": [
       "<Figure size 400x300 with 1 Axes>"
      ]
     },
     "metadata": {},
     "output_type": "display_data"
    }
   ],
   "source": [
    "bandwidth = direct_plugin(x_train, stage=2)\n",
    "\n",
    "metrics_list = []\n",
    "h_mul_list = []\n",
    "r_list = []\n",
    "for h_mul in np.arange(0.2, 5.2, 0.2):\n",
    "# for h_mul in np.array([0.9, 1.0, 1.1]):\n",
    "    h_mul = round(h_mul, 3)\n",
    "\n",
    "    for r in np.arange(0.01, 0.51, 0.01):\n",
    "#     for r in np.array([0.01, 0.05, 0.1]):\n",
    "        r = round(r, 3)\n",
    "\n",
    "        kde = KDE().fit(x_train, bandwidth=bandwidth * h_mul)\n",
    "        scores = kde.pdf(x_train)\n",
    "        threshold = np.quantile(scores, r)\n",
    "        labels_pred = np.where(scores <= threshold, 1, 0)\n",
    "\n",
    "        n_outliers = labels_pred.sum()\n",
    "        if n_outliers == 0:\n",
    "            continue\n",
    "\n",
    "        inliers = labels_pred == 0\n",
    "        outliers = labels_pred == 1\n",
    "        n_outliers = (outliers == 1).sum()\n",
    "        n_inliers = (outliers == 0).sum()\n",
    "        tmp = int(np.ceil(0.01 * (n_inliers + n_outliers)))\n",
    "        scores_out = np.sort(scores[outliers])[-tmp:]\n",
    "        scores_in = np.sort(scores[inliers])[:tmp]\n",
    "        metrics = np.sum(scores_out) / np.sum(scores_in)\n",
    "\n",
    "        metrics_list.append(metrics)\n",
    "        h_mul_list.append(h_mul)\n",
    "        r_list.append(r)\n",
    "\n",
    "# Find minima\n",
    "idx = np.argmin(metrics_list)\n",
    "print(f\"Najlepszy mnożnik h: {h_mul_list[idx]:.3f}, r: {r_list[idx]}, Wskaźnik: {metrics_list[idx]:.3f}\")\n",
    "\n",
    "#######\n",
    "outliers_detector = KDEOutliersDetection().fit(x_train, bandwidth=bandwidth*h_mul_list[idx], r=r_list[idx])\n",
    "labels_pred = outliers_detector.predict(x_train)\n",
    "\n",
    "plt.figure(figsize=(4, 3))\n",
    "plt.scatter(x_train[labels_pred==0, 0], x_train[labels_pred==0, 0] * 0, alpha=0.1)\n",
    "plt.scatter(x_train[labels_pred==1, 0], x_train[labels_pred==1, 0] * 0, alpha=0.1, c=\"red\")\n",
    "plt.xlabel(\"fertility\")\n",
    "plt.show()"
   ]
  },
  {
   "cell_type": "markdown",
   "id": "2e190faf",
   "metadata": {},
   "source": [
    "\\newpage"
   ]
  },
  {
   "cell_type": "markdown",
   "id": "760ba996",
   "metadata": {},
   "source": [
    "### Income\n",
    "\n",
    "- okres 100 lat: 1919 - 2019"
   ]
  },
  {
   "cell_type": "code",
   "execution_count": 32,
   "id": "21cfaea3",
   "metadata": {
    "ExecuteTime": {
     "end_time": "2023-05-21T19:38:15.361576Z",
     "start_time": "2023-05-21T19:38:15.261393Z"
    }
   },
   "outputs": [
    {
     "name": "stdout",
     "output_type": "stream",
     "text": [
      "Licznosc zbioru: 3939\n"
     ]
    }
   ],
   "source": [
    "tmp2 = pd.read_csv(\"../../data/gapminder/gdp_pcap.csv\")\n",
    "\n",
    "tmp2 = tmp2.melt(id_vars=\"country\", var_name=\"year\", value_name=\"income\")\n",
    "\n",
    "tmp2[\"year\"] = tmp2[\"year\"].astype(int)\n",
    "\n",
    "cond = tmp2[\"income\"].str[-1] == \"k\"\n",
    "tmp2.loc[cond, \"income\"] = tmp2.loc[cond, \"income\"].str[:-1]\n",
    "tmp2[\"income\"] = tmp2[\"income\"].astype(\"float64\")\n",
    "tmp2.loc[cond, \"income\"] = tmp2.loc[cond, \"income\"] * 1000\n",
    "\n",
    "tmp2 = tmp2[(tmp2[\"country\"].isin(Europe)) & (tmp2[\"year\"] >= 1919) & (tmp2[\"year\"] <= 2019)].reset_index(drop=True)\n",
    "\n",
    "\n",
    "x_train = tmp2[[\"income\"]].dropna().to_numpy()\n",
    "print(f\"Licznosc zbioru: {x_train.size}\")"
   ]
  },
  {
   "cell_type": "code",
   "execution_count": 33,
   "id": "950b0c04",
   "metadata": {
    "ExecuteTime": {
     "end_time": "2023-05-21T19:42:55.147224Z",
     "start_time": "2023-05-21T19:38:15.363294Z"
    }
   },
   "outputs": [
    {
     "name": "stdout",
     "output_type": "stream",
     "text": [
      "Najlepszy mnożnik h: 5.000, r: 0.01, Wskaźnik: 0.242\n"
     ]
    },
    {
     "data": {
      "image/png": "[encoded data removed]",
      "text/plain": [
       "<Figure size 400x300 with 1 Axes>"
      ]
     },
     "metadata": {},
     "output_type": "display_data"
    }
   ],
   "source": [
    "bandwidth = direct_plugin(x_train, stage=2)\n",
    "\n",
    "metrics_list = []\n",
    "h_mul_list = []\n",
    "r_list = []\n",
    "for h_mul in np.arange(0.2, 5.2, 0.2):\n",
    "# for h_mul in np.array([0.9, 1.0, 1.1]):\n",
    "    h_mul = round(h_mul, 3)\n",
    "\n",
    "    for r in np.arange(0.01, 0.51, 0.01):\n",
    "#     for r in np.array([0.01, 0.05, 0.1]):\n",
    "        r = round(r, 3)\n",
    "\n",
    "        kde = KDE().fit(x_train, bandwidth=bandwidth * h_mul)\n",
    "        scores = kde.pdf(x_train)\n",
    "        threshold = np.quantile(scores, r)\n",
    "        labels_pred = np.where(scores <= threshold, 1, 0)\n",
    "\n",
    "        n_outliers = labels_pred.sum()\n",
    "        if n_outliers == 0:\n",
    "            continue\n",
    "\n",
    "        inliers = labels_pred == 0\n",
    "        outliers = labels_pred == 1\n",
    "        n_outliers = (outliers == 1).sum()\n",
    "        n_inliers = (outliers == 0).sum()\n",
    "        tmp = int(np.ceil(0.01 * (n_inliers + n_outliers)))\n",
    "        scores_out = np.sort(scores[outliers])[-tmp:]\n",
    "        scores_in = np.sort(scores[inliers])[:tmp]\n",
    "        metrics = np.sum(scores_out) / np.sum(scores_in)\n",
    "\n",
    "        metrics_list.append(metrics)\n",
    "        h_mul_list.append(h_mul)\n",
    "        r_list.append(r)\n",
    "\n",
    "# Find minima\n",
    "idx = np.argmin(metrics_list)\n",
    "print(f\"Najlepszy mnożnik h: {h_mul_list[idx]:.3f}, r: {r_list[idx]}, Wskaźnik: {metrics_list[idx]:.3f}\")\n",
    "\n",
    "#######\n",
    "outliers_detector = KDEOutliersDetection().fit(x_train, bandwidth=bandwidth*h_mul_list[idx], r=r_list[idx])\n",
    "labels_pred = outliers_detector.predict(x_train)\n",
    "\n",
    "plt.figure(figsize=(4, 3))\n",
    "plt.scatter(x_train[labels_pred==0, 0], x_train[labels_pred==0, 0] * 0, alpha=0.1)\n",
    "plt.scatter(x_train[labels_pred==1, 0], x_train[labels_pred==1, 0] * 0, alpha=0.1, c=\"red\")\n",
    "plt.xlabel(\"income\")\n",
    "plt.show()"
   ]
  },
  {
   "cell_type": "markdown",
   "id": "52a36c40",
   "metadata": {},
   "source": [
    "\\newpage"
   ]
  },
  {
   "cell_type": "markdown",
   "id": "2c606d07",
   "metadata": {},
   "source": [
    "### Population\n",
    "\n",
    "- okres 100 lat: 1919 - 2019"
   ]
  },
  {
   "cell_type": "code",
   "execution_count": 34,
   "id": "c0ece42e",
   "metadata": {
    "ExecuteTime": {
     "end_time": "2023-05-21T19:42:55.302708Z",
     "start_time": "2023-05-21T19:42:55.149741Z"
    }
   },
   "outputs": [
    {
     "name": "stdout",
     "output_type": "stream",
     "text": [
      "Licznosc zbioru: 3939\n"
     ]
    }
   ],
   "source": [
    "tmp3 = pd.read_csv(\"../../data/gapminder/pop.csv\")\n",
    "\n",
    "tmp3 = tmp3.melt(id_vars=\"country\", var_name=\"year\", value_name=\"population\")\n",
    "\n",
    "tmp3[\"year\"] = tmp3[\"year\"].astype(int)\n",
    "\n",
    "cond1 = tmp3[\"population\"].str[-1] == \"k\"\n",
    "tmp3.loc[cond1, \"population\"] = tmp3.loc[cond1, \"population\"].str[:-1]\n",
    "cond2 = tmp3[\"population\"].str[-1] == \"M\"\n",
    "tmp3.loc[cond2, \"population\"] = tmp3.loc[cond2, \"population\"].str[:-1]\n",
    "cond3 = tmp3[\"population\"].str[-1] == \"B\"\n",
    "tmp3.loc[cond3, \"population\"] = tmp3.loc[cond3, \"population\"].str[:-1]\n",
    "\n",
    "tmp3[\"population\"] = tmp3[\"population\"].astype(\"float64\")\n",
    "tmp3.loc[cond1, \"population\"] = tmp3.loc[cond1, \"population\"] * 10**3\n",
    "tmp3.loc[cond2, \"population\"] = tmp3.loc[cond2, \"population\"] * 10**6\n",
    "tmp3.loc[cond3, \"population\"] = tmp3.loc[cond3, \"population\"] * 10**9\n",
    "\n",
    "tmp3 = tmp3[(tmp3[\"country\"].isin(Europe)) & (tmp3[\"year\"] >= 1919) & (tmp3[\"year\"] <= 2019)].reset_index(drop=True)\n",
    "\n",
    "\n",
    "x_train = tmp3[[\"population\"]].dropna().to_numpy()\n",
    "print(f\"Licznosc zbioru: {x_train.size}\")"
   ]
  },
  {
   "cell_type": "code",
   "execution_count": 35,
   "id": "80848f63",
   "metadata": {
    "ExecuteTime": {
     "end_time": "2023-05-21T19:49:02.614716Z",
     "start_time": "2023-05-21T19:42:55.304972Z"
    }
   },
   "outputs": [
    {
     "name": "stdout",
     "output_type": "stream",
     "text": [
      "Najlepszy mnożnik h: 1.800, r: 0.24, Wskaźnik: 0.309\n"
     ]
    },
    {
     "data": {
      "image/png": "[encoded data removed]",
      "text/plain": [
       "<Figure size 400x300 with 1 Axes>"
      ]
     },
     "metadata": {},
     "output_type": "display_data"
    }
   ],
   "source": [
    "bandwidth = direct_plugin(x_train, stage=2)\n",
    "\n",
    "metrics_list = []\n",
    "h_mul_list = []\n",
    "r_list = []\n",
    "for h_mul in np.arange(0.2, 5.2, 0.2):\n",
    "# for h_mul in np.array([0.9, 1.0, 1.1]):\n",
    "    h_mul = round(h_mul, 3)\n",
    "\n",
    "    for r in np.arange(0.01, 0.51, 0.01):\n",
    "#     for r in np.array([0.01, 0.05, 0.1]):\n",
    "        r = round(r, 3)\n",
    "\n",
    "        kde = KDE().fit(x_train, bandwidth=bandwidth * h_mul)\n",
    "        scores = kde.pdf(x_train)\n",
    "        threshold = np.quantile(scores, r)\n",
    "        labels_pred = np.where(scores <= threshold, 1, 0)\n",
    "\n",
    "        n_outliers = labels_pred.sum()\n",
    "        if n_outliers == 0:\n",
    "            continue\n",
    "\n",
    "        inliers = labels_pred == 0\n",
    "        outliers = labels_pred == 1\n",
    "        n_outliers = (outliers == 1).sum()\n",
    "        n_inliers = (outliers == 0).sum()\n",
    "        tmp = int(np.ceil(0.01 * (n_inliers + n_outliers)))\n",
    "        scores_out = np.sort(scores[outliers])[-tmp:]\n",
    "        scores_in = np.sort(scores[inliers])[:tmp]\n",
    "        metrics = np.sum(scores_out) / np.sum(scores_in)\n",
    "\n",
    "        metrics_list.append(metrics)\n",
    "        h_mul_list.append(h_mul)\n",
    "        r_list.append(r)\n",
    "\n",
    "# Find minima\n",
    "idx = np.argmin(metrics_list)\n",
    "print(f\"Najlepszy mnożnik h: {h_mul_list[idx]:.3f}, r: {r_list[idx]}, Wskaźnik: {metrics_list[idx]:.3f}\")\n",
    "\n",
    "#######\n",
    "outliers_detector = KDEOutliersDetection().fit(x_train, bandwidth=bandwidth*h_mul_list[idx], r=r_list[idx])\n",
    "labels_pred = outliers_detector.predict(x_train)\n",
    "\n",
    "plt.figure(figsize=(4, 3))\n",
    "plt.scatter(x_train[labels_pred==0, 0], x_train[labels_pred==0, 0] * 0, alpha=0.1)\n",
    "plt.scatter(x_train[labels_pred==1, 0], x_train[labels_pred==1, 0] * 0, alpha=0.1, c=\"red\")\n",
    "plt.xlabel(\"population\")\n",
    "plt.show()"
   ]
  },
  {
   "cell_type": "markdown",
   "id": "d89277c7",
   "metadata": {},
   "source": [
    "\\newpage"
   ]
  },
  {
   "cell_type": "markdown",
   "id": "06c6b07b",
   "metadata": {},
   "source": [
    "### HIV / Population\n",
    "\n",
    "- liczba ludzi z hiv w danym kraju podzielona przez licznosc populacji danego kraju\n",
    "- okres 22 lat: 1990 - 2011\n",
    "- 34 kraje"
   ]
  },
  {
   "cell_type": "code",
   "execution_count": 36,
   "id": "e81461f9",
   "metadata": {
    "ExecuteTime": {
     "end_time": "2023-05-21T19:49:02.649422Z",
     "start_time": "2023-05-21T19:49:02.616695Z"
    }
   },
   "outputs": [
    {
     "name": "stdout",
     "output_type": "stream",
     "text": [
      "Licznosc zbioru: 748\n"
     ]
    }
   ],
   "source": [
    "tmp4 = pd.read_csv(\"../../data/gapminder/people_living_with_hiv_number_all_ages.csv\")\n",
    "\n",
    "tmp4 = tmp4.melt(id_vars=\"country\", var_name=\"year\", value_name=\"hiv\")\n",
    "\n",
    "tmp4[\"year\"] = tmp4[\"year\"].astype(int)\n",
    "\n",
    "cond1 = tmp4[\"hiv\"].str[-1] == \"k\"\n",
    "tmp4.loc[cond1, \"hiv\"] = tmp4.loc[cond1, \"hiv\"].str[:-1]\n",
    "cond2 = tmp4[\"hiv\"].str[-1] == \"M\"\n",
    "tmp4.loc[cond2, \"hiv\"] = tmp4.loc[cond2, \"hiv\"].str[:-1]\n",
    "\n",
    "tmp4[\"hiv\"] = tmp4[\"hiv\"].astype(\"float64\")\n",
    "tmp4.loc[cond1, \"hiv\"] = tmp4.loc[cond1, \"hiv\"] * 10**3\n",
    "tmp4.loc[cond2, \"hiv\"] = tmp4.loc[cond2, \"hiv\"] * 10**6\n",
    "\n",
    "tmp4 = tmp4[(tmp4[\"country\"].isin(Europe)) & (tmp4[\"year\"] >= 1990)].reset_index(drop=True)\n",
    "\n",
    "\n",
    "tmp43 = tmp4.merge(tmp3, \"inner\", [\"country\", \"year\"])\n",
    "\n",
    "\n",
    "x_train = (tmp43[\"hiv\"] / tmp43[\"population\"]).to_numpy()[:, None]\n",
    "print(f\"Licznosc zbioru: {x_train.size}\")"
   ]
  },
  {
   "cell_type": "code",
   "execution_count": 37,
   "id": "fb30af42",
   "metadata": {
    "ExecuteTime": {
     "end_time": "2023-05-21T19:49:12.831300Z",
     "start_time": "2023-05-21T19:49:02.650802Z"
    }
   },
   "outputs": [
    {
     "name": "stdout",
     "output_type": "stream",
     "text": [
      "Najlepszy mnożnik h: 2.000, r: 0.03, Wskaźnik: 0.534\n"
     ]
    },
    {
     "data": {
      "image/png": "[encoded data removed]",
      "text/plain": [
       "<Figure size 400x300 with 1 Axes>"
      ]
     },
     "metadata": {},
     "output_type": "display_data"
    }
   ],
   "source": [
    "bandwidth = direct_plugin(x_train, stage=2)\n",
    "\n",
    "metrics_list = []\n",
    "h_mul_list = []\n",
    "r_list = []\n",
    "for h_mul in np.arange(0.2, 5.2, 0.2):\n",
    "# for h_mul in np.array([0.9, 1.0, 1.1]):\n",
    "    h_mul = round(h_mul, 3)\n",
    "\n",
    "    for r in np.arange(0.01, 0.51, 0.01):\n",
    "#     for r in np.array([0.01, 0.05, 0.1]):\n",
    "        r = round(r, 3)\n",
    "\n",
    "        kde = KDE().fit(x_train, bandwidth=bandwidth * h_mul)\n",
    "        scores = kde.pdf(x_train)\n",
    "        threshold = np.quantile(scores, r)\n",
    "        labels_pred = np.where(scores <= threshold, 1, 0)\n",
    "\n",
    "        n_outliers = labels_pred.sum()\n",
    "        if n_outliers == 0:\n",
    "            continue\n",
    "\n",
    "        inliers = labels_pred == 0\n",
    "        outliers = labels_pred == 1\n",
    "        n_outliers = (outliers == 1).sum()\n",
    "        n_inliers = (outliers == 0).sum()\n",
    "        tmp = int(np.ceil(0.01 * (n_inliers + n_outliers)))\n",
    "        scores_out = np.sort(scores[outliers])[-tmp:]\n",
    "        scores_in = np.sort(scores[inliers])[:tmp]\n",
    "        metrics = np.sum(scores_out) / np.sum(scores_in)\n",
    "\n",
    "        metrics_list.append(metrics)\n",
    "        h_mul_list.append(h_mul)\n",
    "        r_list.append(r)\n",
    "\n",
    "# Find minima\n",
    "idx = np.argmin(metrics_list)\n",
    "print(f\"Najlepszy mnożnik h: {h_mul_list[idx]:.3f}, r: {r_list[idx]}, Wskaźnik: {metrics_list[idx]:.3f}\")\n",
    "\n",
    "#######\n",
    "outliers_detector = KDEOutliersDetection().fit(x_train, bandwidth=bandwidth*h_mul_list[idx], r=r_list[idx])\n",
    "labels_pred = outliers_detector.predict(x_train)\n",
    "\n",
    "plt.figure(figsize=(4, 3))\n",
    "plt.scatter(x_train[labels_pred==0, 0], x_train[labels_pred==0, 0] * 0, alpha=0.1)\n",
    "plt.scatter(x_train[labels_pred==1, 0], x_train[labels_pred==1, 0] * 0, alpha=0.1, c=\"red\")\n",
    "plt.xlabel(\"hiv / population\")\n",
    "plt.show()"
   ]
  },
  {
   "cell_type": "markdown",
   "id": "6ac95d4c",
   "metadata": {},
   "source": [
    "\\newpage"
   ]
  },
  {
   "cell_type": "markdown",
   "id": "4d0add3b",
   "metadata": {},
   "source": [
    "## 2d"
   ]
  },
  {
   "cell_type": "markdown",
   "id": "dfc6f528",
   "metadata": {},
   "source": [
    "### Babies per woman, income"
   ]
  },
  {
   "cell_type": "code",
   "execution_count": 38,
   "id": "61f7ae3b",
   "metadata": {
    "ExecuteTime": {
     "end_time": "2023-05-21T19:49:12.842649Z",
     "start_time": "2023-05-21T19:49:12.832980Z"
    }
   },
   "outputs": [
    {
     "name": "stdout",
     "output_type": "stream",
     "text": [
      "Licznosc zbioru: 2535\n"
     ]
    }
   ],
   "source": [
    "tmp12 = tmp1.merge(tmp2, \"inner\", [\"country\", \"year\"])\n",
    "\n",
    "x_train = tmp12[[\"fertility\", \"income\"]].dropna().to_numpy()\n",
    "print(f\"Licznosc zbioru: {x_train.shape[0]}\")"
   ]
  },
  {
   "cell_type": "code",
   "execution_count": 39,
   "id": "54d94574",
   "metadata": {
    "ExecuteTime": {
     "end_time": "2023-05-21T19:53:18.276110Z",
     "start_time": "2023-05-21T19:49:12.845157Z"
    }
   },
   "outputs": [
    {
     "name": "stdout",
     "output_type": "stream",
     "text": [
      "Najlepszy mnożnik h: 5.000, r: 0.02, Wskaźnik: 0.366\n"
     ]
    },
    {
     "data": {
      "image/png": "[encoded data removed]",
      "text/plain": [
       "<Figure size 400x300 with 1 Axes>"
      ]
     },
     "metadata": {},
     "output_type": "display_data"
    }
   ],
   "source": [
    "bandwidth = direct_plugin(x_train, stage=2)\n",
    "\n",
    "metrics_list = []\n",
    "h_mul_list = []\n",
    "r_list = []\n",
    "for h_mul in np.arange(0.2, 5.2, 0.2):\n",
    "# for h_mul in np.array([0.9, 1.0, 1.1]):\n",
    "    h_mul = round(h_mul, 3)\n",
    "\n",
    "    for r in np.arange(0.01, 0.51, 0.01):\n",
    "#     for r in np.array([0.01, 0.05, 0.1]):\n",
    "        r = round(r, 3)\n",
    "\n",
    "        kde = KDE().fit(x_train, bandwidth=bandwidth * h_mul)\n",
    "        scores = kde.pdf(x_train)\n",
    "        threshold = np.quantile(scores, r)\n",
    "        labels_pred = np.where(scores <= threshold, 1, 0)\n",
    "\n",
    "        n_outliers = labels_pred.sum()\n",
    "        if n_outliers == 0:\n",
    "            continue\n",
    "\n",
    "        inliers = labels_pred == 0\n",
    "        outliers = labels_pred == 1\n",
    "        n_outliers = (outliers == 1).sum()\n",
    "        n_inliers = (outliers == 0).sum()\n",
    "        tmp = int(np.ceil(0.01 * (n_inliers + n_outliers)))\n",
    "        scores_out = np.sort(scores[outliers])[-tmp:]\n",
    "        scores_in = np.sort(scores[inliers])[:tmp]\n",
    "        metrics = np.sum(scores_out) / np.sum(scores_in)\n",
    "\n",
    "        metrics_list.append(metrics)\n",
    "        h_mul_list.append(h_mul)\n",
    "        r_list.append(r)\n",
    "\n",
    "# Find minima\n",
    "idx = np.argmin(metrics_list)\n",
    "print(f\"Najlepszy mnożnik h: {h_mul_list[idx]:.3f}, r: {r_list[idx]}, Wskaźnik: {metrics_list[idx]:.3f}\")\n",
    "\n",
    "#######\n",
    "outliers_detector = KDEOutliersDetection().fit(x_train, bandwidth=bandwidth*h_mul_list[idx], r=r_list[idx])\n",
    "labels_pred = outliers_detector.predict(x_train)\n",
    "\n",
    "plt.figure(figsize=(4, 3))\n",
    "plt.scatter(x_train[labels_pred==0, 0], x_train[labels_pred==0, 1], alpha=0.1)\n",
    "plt.scatter(x_train[labels_pred==1, 0], x_train[labels_pred==1, 1], alpha=0.3, c=\"red\")\n",
    "plt.xlabel(\"fertility\")\n",
    "plt.ylabel(\"income\")\n",
    "plt.show()"
   ]
  },
  {
   "cell_type": "markdown",
   "id": "f93c9c80",
   "metadata": {},
   "source": [
    "\\newpage"
   ]
  },
  {
   "cell_type": "markdown",
   "id": "3230b451",
   "metadata": {},
   "source": [
    "### Income, HIV / Population"
   ]
  },
  {
   "cell_type": "code",
   "execution_count": 40,
   "id": "353bfe43",
   "metadata": {
    "ExecuteTime": {
     "end_time": "2023-05-21T19:53:18.297125Z",
     "start_time": "2023-05-21T19:53:18.280889Z"
    }
   },
   "outputs": [
    {
     "name": "stdout",
     "output_type": "stream",
     "text": [
      "Licznosc zbioru: 748\n"
     ]
    }
   ],
   "source": [
    "tmp243 = tmp2.merge(tmp43, \"inner\", [\"country\", \"year\"])\n",
    "tmp243[\"hiv/pop\"] = tmp243[\"hiv\"] / tmp243[\"population\"]\n",
    "\n",
    "x_train = tmp243[[\"income\", \"hiv/pop\"]].dropna().to_numpy()\n",
    "print(f\"Licznosc zbioru: {x_train.shape[0]}\")"
   ]
  },
  {
   "cell_type": "code",
   "execution_count": 41,
   "id": "cba29071",
   "metadata": {
    "ExecuteTime": {
     "end_time": "2023-05-21T19:53:48.620873Z",
     "start_time": "2023-05-21T19:53:18.300510Z"
    }
   },
   "outputs": [
    {
     "name": "stdout",
     "output_type": "stream",
     "text": [
      "Najlepszy mnożnik h: 1.600, r: 0.01, Wskaźnik: 0.670\n"
     ]
    },
    {
     "data": {
      "image/png": "[encoded data removed]",
      "text/plain": [
       "<Figure size 400x300 with 1 Axes>"
      ]
     },
     "metadata": {},
     "output_type": "display_data"
    }
   ],
   "source": [
    "bandwidth = direct_plugin(x_train, stage=2)\n",
    "\n",
    "metrics_list = []\n",
    "h_mul_list = []\n",
    "r_list = []\n",
    "for h_mul in np.arange(0.2, 5.2, 0.2):\n",
    "# for h_mul in np.array([0.9, 1.0, 1.1]):\n",
    "    h_mul = round(h_mul, 3)\n",
    "\n",
    "    for r in np.arange(0.01, 0.51, 0.01):\n",
    "#     for r in np.array([0.01, 0.05, 0.1]):\n",
    "        r = round(r, 3)\n",
    "\n",
    "        kde = KDE().fit(x_train, bandwidth=bandwidth * h_mul)\n",
    "        scores = kde.pdf(x_train)\n",
    "        threshold = np.quantile(scores, r)\n",
    "        labels_pred = np.where(scores <= threshold, 1, 0)\n",
    "\n",
    "        n_outliers = labels_pred.sum()\n",
    "        if n_outliers == 0:\n",
    "            continue\n",
    "\n",
    "        inliers = labels_pred == 0\n",
    "        outliers = labels_pred == 1\n",
    "        n_outliers = (outliers == 1).sum()\n",
    "        n_inliers = (outliers == 0).sum()\n",
    "        tmp = int(np.ceil(0.01 * (n_inliers + n_outliers)))\n",
    "        scores_out = np.sort(scores[outliers])[-tmp:]\n",
    "        scores_in = np.sort(scores[inliers])[:tmp]\n",
    "        metrics = np.sum(scores_out) / np.sum(scores_in)\n",
    "\n",
    "        metrics_list.append(metrics)\n",
    "        h_mul_list.append(h_mul)\n",
    "        r_list.append(r)\n",
    "\n",
    "# Find minima\n",
    "idx = np.argmin(metrics_list)\n",
    "print(f\"Najlepszy mnożnik h: {h_mul_list[idx]:.3f}, r: {r_list[idx]}, Wskaźnik: {metrics_list[idx]:.3f}\")\n",
    "\n",
    "#######\n",
    "outliers_detector = KDEOutliersDetection().fit(x_train, bandwidth=bandwidth*h_mul_list[idx], r=r_list[idx])\n",
    "labels_pred = outliers_detector.predict(x_train)\n",
    "\n",
    "plt.figure(figsize=(4, 3))\n",
    "plt.scatter(x_train[labels_pred==0, 0], x_train[labels_pred==0, 1], alpha=0.1)\n",
    "plt.scatter(x_train[labels_pred==1, 0], x_train[labels_pred==1, 1], alpha=0.3, c=\"red\")\n",
    "plt.xlabel(\"income\")\n",
    "plt.ylabel(\"hiv / population\")\n",
    "plt.show()"
   ]
  },
  {
   "cell_type": "code",
   "execution_count": null,
   "id": "df0aec47",
   "metadata": {},
   "outputs": [],
   "source": []
  },
  {
   "cell_type": "code",
   "execution_count": null,
   "id": "65181e04",
   "metadata": {},
   "outputs": [],
   "source": []
  },
  {
   "cell_type": "code",
   "execution_count": null,
   "id": "4ed4bd64",
   "metadata": {},
   "outputs": [],
   "source": []
  }
 ],
 "metadata": {
  "kernelspec": {
   "display_name": "Python 3 (ipykernel)",
   "language": "python",
   "name": "python3"
  },
  "language_info": {
   "codemirror_mode": {
    "name": "ipython",
    "version": 3
   },
   "file_extension": ".py",
   "mimetype": "text/x-python",
   "name": "python",
   "nbconvert_exporter": "python",
   "pygments_lexer": "ipython3",
   "version": "3.9.12"
  },
  "toc": {
   "base_numbering": 1,
   "nav_menu": {},
   "number_sections": true,
   "sideBar": true,
   "skip_h1_title": false,
   "title_cell": "Table of Contents",
   "title_sidebar": "Contents",
   "toc_cell": false,
   "toc_position": {
    "height": "calc(100% - 180px)",
    "left": "10px",
    "top": "150px",
    "width": "339.594px"
   },
   "toc_section_display": true,
   "toc_window_display": true
  }
 },
 "nbformat": 4,
 "nbformat_minor": 5
}
