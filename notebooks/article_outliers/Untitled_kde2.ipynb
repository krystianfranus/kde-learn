{
 "cells": [
  {
   "cell_type": "markdown",
   "id": "2e1aabcf",
   "metadata": {},
   "source": [
    "Inna postać wskaźnika jakości (mail z 21.04.2023)"
   ]
  },
  {
   "cell_type": "code",
   "execution_count": 1,
   "id": "06912df0",
   "metadata": {
    "ExecuteTime": {
     "end_time": "2023-04-27T20:43:42.529556Z",
     "start_time": "2023-04-27T20:43:42.499680Z"
    }
   },
   "outputs": [],
   "source": [
    "%load_ext autoreload\n",
    "%autoreload 2"
   ]
  },
  {
   "cell_type": "code",
   "execution_count": 2,
   "id": "13c399e3",
   "metadata": {
    "ExecuteTime": {
     "end_time": "2023-04-27T20:43:43.977080Z",
     "start_time": "2023-04-27T20:43:42.531959Z"
    }
   },
   "outputs": [],
   "source": [
    "import pandas as pd\n",
    "import matplotlib.pyplot as plt\n",
    "import numpy as np\n",
    "from sklearn.metrics import confusion_matrix\n",
    "from kdelearn.kde_tasks import KDEOutliersDetection\n",
    "from kdelearn.metrics import pi_kf\n",
    "from kdelearn.bandwidth_selection import direct_plugin"
   ]
  },
  {
   "cell_type": "code",
   "execution_count": 3,
   "id": "1e269535",
   "metadata": {
    "ExecuteTime": {
     "end_time": "2023-04-27T20:43:44.023938Z",
     "start_time": "2023-04-27T20:43:43.978976Z"
    }
   },
   "outputs": [],
   "source": [
    "data = pd.read_csv(\"/home/krystian/Downloads/archive/thyroidDF.csv\")"
   ]
  },
  {
   "cell_type": "code",
   "execution_count": 4,
   "id": "848da83c",
   "metadata": {
    "ExecuteTime": {
     "end_time": "2023-04-27T20:43:44.047675Z",
     "start_time": "2023-04-27T20:43:44.027274Z"
    }
   },
   "outputs": [
    {
     "data": {
      "text/plain": [
       "(9172, 31)"
      ]
     },
     "execution_count": 4,
     "metadata": {},
     "output_type": "execute_result"
    }
   ],
   "source": [
    "data.shape"
   ]
  },
  {
   "cell_type": "code",
   "execution_count": 5,
   "id": "3c660127",
   "metadata": {
    "ExecuteTime": {
     "end_time": "2023-04-27T20:43:44.072868Z",
     "start_time": "2023-04-27T20:43:44.050127Z"
    }
   },
   "outputs": [
    {
     "data": {
      "text/plain": [
       "Index(['age', 'sex', 'on_thyroxine', 'query_on_thyroxine',\n",
       "       'on_antithyroid_meds', 'sick', 'pregnant', 'thyroid_surgery',\n",
       "       'I131_treatment', 'query_hypothyroid', 'query_hyperthyroid', 'lithium',\n",
       "       'goitre', 'tumor', 'hypopituitary', 'psych', 'TSH_measured', 'TSH',\n",
       "       'T3_measured', 'T3', 'TT4_measured', 'TT4', 'T4U_measured', 'T4U',\n",
       "       'FTI_measured', 'FTI', 'TBG_measured', 'TBG', 'referral_source',\n",
       "       'target', 'patient_id'],\n",
       "      dtype='object')"
      ]
     },
     "execution_count": 5,
     "metadata": {},
     "output_type": "execute_result"
    }
   ],
   "source": [
    "data.columns"
   ]
  },
  {
   "cell_type": "code",
   "execution_count": 6,
   "id": "beca672c",
   "metadata": {
    "ExecuteTime": {
     "end_time": "2023-04-27T20:43:44.109658Z",
     "start_time": "2023-04-27T20:43:44.074851Z"
    }
   },
   "outputs": [
    {
     "data": {
      "text/html": [
       "<div>\n",
       "<style scoped>\n",
       "    .dataframe tbody tr th:only-of-type {\n",
       "        vertical-align: middle;\n",
       "    }\n",
       "\n",
       "    .dataframe tbody tr th {\n",
       "        vertical-align: top;\n",
       "    }\n",
       "\n",
       "    .dataframe thead th {\n",
       "        text-align: right;\n",
       "    }\n",
       "</style>\n",
       "<table border=\"1\" class=\"dataframe\">\n",
       "  <thead>\n",
       "    <tr style=\"text-align: right;\">\n",
       "      <th></th>\n",
       "      <th>age</th>\n",
       "      <th>sex</th>\n",
       "      <th>on_thyroxine</th>\n",
       "      <th>query_on_thyroxine</th>\n",
       "      <th>on_antithyroid_meds</th>\n",
       "      <th>sick</th>\n",
       "      <th>pregnant</th>\n",
       "      <th>thyroid_surgery</th>\n",
       "      <th>I131_treatment</th>\n",
       "      <th>query_hypothyroid</th>\n",
       "      <th>...</th>\n",
       "      <th>TT4</th>\n",
       "      <th>T4U_measured</th>\n",
       "      <th>T4U</th>\n",
       "      <th>FTI_measured</th>\n",
       "      <th>FTI</th>\n",
       "      <th>TBG_measured</th>\n",
       "      <th>TBG</th>\n",
       "      <th>referral_source</th>\n",
       "      <th>target</th>\n",
       "      <th>patient_id</th>\n",
       "    </tr>\n",
       "  </thead>\n",
       "  <tbody>\n",
       "    <tr>\n",
       "      <th>0</th>\n",
       "      <td>29</td>\n",
       "      <td>F</td>\n",
       "      <td>f</td>\n",
       "      <td>f</td>\n",
       "      <td>f</td>\n",
       "      <td>f</td>\n",
       "      <td>f</td>\n",
       "      <td>f</td>\n",
       "      <td>f</td>\n",
       "      <td>t</td>\n",
       "      <td>...</td>\n",
       "      <td>NaN</td>\n",
       "      <td>f</td>\n",
       "      <td>NaN</td>\n",
       "      <td>f</td>\n",
       "      <td>NaN</td>\n",
       "      <td>f</td>\n",
       "      <td>NaN</td>\n",
       "      <td>other</td>\n",
       "      <td>-</td>\n",
       "      <td>840801013</td>\n",
       "    </tr>\n",
       "    <tr>\n",
       "      <th>1</th>\n",
       "      <td>29</td>\n",
       "      <td>F</td>\n",
       "      <td>f</td>\n",
       "      <td>f</td>\n",
       "      <td>f</td>\n",
       "      <td>f</td>\n",
       "      <td>f</td>\n",
       "      <td>f</td>\n",
       "      <td>f</td>\n",
       "      <td>f</td>\n",
       "      <td>...</td>\n",
       "      <td>128.0</td>\n",
       "      <td>f</td>\n",
       "      <td>NaN</td>\n",
       "      <td>f</td>\n",
       "      <td>NaN</td>\n",
       "      <td>f</td>\n",
       "      <td>NaN</td>\n",
       "      <td>other</td>\n",
       "      <td>-</td>\n",
       "      <td>840801014</td>\n",
       "    </tr>\n",
       "    <tr>\n",
       "      <th>2</th>\n",
       "      <td>41</td>\n",
       "      <td>F</td>\n",
       "      <td>f</td>\n",
       "      <td>f</td>\n",
       "      <td>f</td>\n",
       "      <td>f</td>\n",
       "      <td>f</td>\n",
       "      <td>f</td>\n",
       "      <td>f</td>\n",
       "      <td>f</td>\n",
       "      <td>...</td>\n",
       "      <td>NaN</td>\n",
       "      <td>f</td>\n",
       "      <td>NaN</td>\n",
       "      <td>f</td>\n",
       "      <td>NaN</td>\n",
       "      <td>t</td>\n",
       "      <td>11.0</td>\n",
       "      <td>other</td>\n",
       "      <td>-</td>\n",
       "      <td>840801042</td>\n",
       "    </tr>\n",
       "    <tr>\n",
       "      <th>3</th>\n",
       "      <td>36</td>\n",
       "      <td>F</td>\n",
       "      <td>f</td>\n",
       "      <td>f</td>\n",
       "      <td>f</td>\n",
       "      <td>f</td>\n",
       "      <td>f</td>\n",
       "      <td>f</td>\n",
       "      <td>f</td>\n",
       "      <td>f</td>\n",
       "      <td>...</td>\n",
       "      <td>NaN</td>\n",
       "      <td>f</td>\n",
       "      <td>NaN</td>\n",
       "      <td>f</td>\n",
       "      <td>NaN</td>\n",
       "      <td>t</td>\n",
       "      <td>26.0</td>\n",
       "      <td>other</td>\n",
       "      <td>-</td>\n",
       "      <td>840803046</td>\n",
       "    </tr>\n",
       "    <tr>\n",
       "      <th>4</th>\n",
       "      <td>32</td>\n",
       "      <td>F</td>\n",
       "      <td>f</td>\n",
       "      <td>f</td>\n",
       "      <td>f</td>\n",
       "      <td>f</td>\n",
       "      <td>f</td>\n",
       "      <td>f</td>\n",
       "      <td>f</td>\n",
       "      <td>f</td>\n",
       "      <td>...</td>\n",
       "      <td>NaN</td>\n",
       "      <td>f</td>\n",
       "      <td>NaN</td>\n",
       "      <td>f</td>\n",
       "      <td>NaN</td>\n",
       "      <td>t</td>\n",
       "      <td>36.0</td>\n",
       "      <td>other</td>\n",
       "      <td>S</td>\n",
       "      <td>840803047</td>\n",
       "    </tr>\n",
       "  </tbody>\n",
       "</table>\n",
       "<p>5 rows × 31 columns</p>\n",
       "</div>"
      ],
      "text/plain": [
       "   age sex on_thyroxine query_on_thyroxine on_antithyroid_meds sick pregnant  \\\n",
       "0   29   F            f                  f                   f    f        f   \n",
       "1   29   F            f                  f                   f    f        f   \n",
       "2   41   F            f                  f                   f    f        f   \n",
       "3   36   F            f                  f                   f    f        f   \n",
       "4   32   F            f                  f                   f    f        f   \n",
       "\n",
       "  thyroid_surgery I131_treatment query_hypothyroid  ...    TT4 T4U_measured  \\\n",
       "0               f              f                 t  ...    NaN            f   \n",
       "1               f              f                 f  ...  128.0            f   \n",
       "2               f              f                 f  ...    NaN            f   \n",
       "3               f              f                 f  ...    NaN            f   \n",
       "4               f              f                 f  ...    NaN            f   \n",
       "\n",
       "  T4U FTI_measured FTI TBG_measured   TBG  referral_source target  patient_id  \n",
       "0 NaN            f NaN            f   NaN            other      -   840801013  \n",
       "1 NaN            f NaN            f   NaN            other      -   840801014  \n",
       "2 NaN            f NaN            t  11.0            other      -   840801042  \n",
       "3 NaN            f NaN            t  26.0            other      -   840803046  \n",
       "4 NaN            f NaN            t  36.0            other      S   840803047  \n",
       "\n",
       "[5 rows x 31 columns]"
      ]
     },
     "execution_count": 6,
     "metadata": {},
     "output_type": "execute_result"
    }
   ],
   "source": [
    "data.head()"
   ]
  },
  {
   "cell_type": "code",
   "execution_count": 7,
   "id": "0e3b8cd3",
   "metadata": {
    "ExecuteTime": {
     "end_time": "2023-04-27T20:43:44.131464Z",
     "start_time": "2023-04-27T20:43:44.111291Z"
    }
   },
   "outputs": [
    {
     "data": {
      "text/plain": [
       "-      6771\n",
       "K       436\n",
       "G       359\n",
       "I       346\n",
       "F       233\n",
       "R       196\n",
       "A       147\n",
       "L       115\n",
       "M       111\n",
       "N       110\n",
       "S        85\n",
       "GK       49\n",
       "AK       46\n",
       "J        30\n",
       "B        21\n",
       "MK       16\n",
       "Q        14\n",
       "O        14\n",
       "C|I      12\n",
       "KJ       11\n",
       "GI       10\n",
       "H|K       8\n",
       "D         8\n",
       "FK        6\n",
       "C         6\n",
       "P         5\n",
       "MI        2\n",
       "LJ        1\n",
       "GKJ       1\n",
       "OI        1\n",
       "D|R       1\n",
       "E         1\n",
       "Name: target, dtype: int64"
      ]
     },
     "execution_count": 7,
     "metadata": {},
     "output_type": "execute_result"
    }
   ],
   "source": [
    "data[\"target\"].value_counts()"
   ]
  },
  {
   "cell_type": "code",
   "execution_count": 8,
   "id": "6b3ed109",
   "metadata": {
    "ExecuteTime": {
     "end_time": "2023-04-27T20:43:44.153677Z",
     "start_time": "2023-04-27T20:43:44.134976Z"
    }
   },
   "outputs": [],
   "source": [
    "# \thypothyroid conditions:\n",
    "\n",
    "# \t\tE\thypothyroid\n",
    "# \t\tF\tprimary hypothyroid\n",
    "# \t\tG\tcompensated hypothyroid\n",
    "# \t\tH\tsecondary hypothyroid"
   ]
  },
  {
   "cell_type": "code",
   "execution_count": 9,
   "id": "b39bbbc6",
   "metadata": {
    "ExecuteTime": {
     "end_time": "2023-04-27T20:43:44.180638Z",
     "start_time": "2023-04-27T20:43:44.155700Z"
    }
   },
   "outputs": [
    {
     "data": {
      "text/plain": [
       "(0, 842, 2604, 442, 809, 802, 8823)"
      ]
     },
     "execution_count": 9,
     "metadata": {},
     "output_type": "execute_result"
    }
   ],
   "source": [
    "data[\"age\"].isna().sum(), data[\"TSH\"].isna().sum(), data[\"T3\"].isna().sum(), data[\"TT4\"].isna().sum(), data[\"T4U\"].isna().sum(), data[\"FTI\"].isna().sum(), data[\"TBG\"].isna().sum()"
   ]
  },
  {
   "cell_type": "code",
   "execution_count": 10,
   "id": "73dc46b0",
   "metadata": {
    "ExecuteTime": {
     "end_time": "2023-04-27T20:43:44.213230Z",
     "start_time": "2023-04-27T20:43:44.184494Z"
    }
   },
   "outputs": [
    {
     "data": {
      "text/plain": [
       "(7359, 31)"
      ]
     },
     "execution_count": 10,
     "metadata": {},
     "output_type": "execute_result"
    }
   ],
   "source": [
    "data = data[(data[\"age\"] > 0) & (data[\"age\"] < 101)]\n",
    "data = data[data[\"target\"].isin([\"-\", \"G\", \"F\"])]\n",
    "data.loc[data[\"target\"]==\"-\", \"target\"] = 0\n",
    "data.loc[data[\"target\"]==\"G\", \"target\"] = 1\n",
    "data.loc[data[\"target\"]==\"F\", \"target\"] = 2\n",
    "data[\"target\"] = data[\"target\"].astype(int)\n",
    "data = data.reset_index(drop=True)\n",
    "\n",
    "data.shape"
   ]
  },
  {
   "cell_type": "code",
   "execution_count": 11,
   "id": "5493f4df",
   "metadata": {
    "ExecuteTime": {
     "end_time": "2023-04-27T20:43:44.236790Z",
     "start_time": "2023-04-27T20:43:44.214893Z"
    }
   },
   "outputs": [],
   "source": [
    "data = data[[\"age\", \"TSH\", \"T3\", \"TT4\", \"T4U\", \"FTI\", \"target\"]].dropna()"
   ]
  },
  {
   "cell_type": "code",
   "execution_count": 12,
   "id": "0430bc38",
   "metadata": {
    "ExecuteTime": {
     "end_time": "2023-04-27T20:43:44.260959Z",
     "start_time": "2023-04-27T20:43:44.238177Z"
    }
   },
   "outputs": [
    {
     "data": {
      "text/plain": [
       "(4683, 7)"
      ]
     },
     "execution_count": 12,
     "metadata": {},
     "output_type": "execute_result"
    }
   ],
   "source": [
    "data.shape"
   ]
  },
  {
   "cell_type": "code",
   "execution_count": 13,
   "id": "32e4b2b8",
   "metadata": {
    "ExecuteTime": {
     "end_time": "2023-04-27T20:43:44.284088Z",
     "start_time": "2023-04-27T20:43:44.263003Z"
    }
   },
   "outputs": [
    {
     "data": {
      "text/plain": [
       "0    4293\n",
       "1     221\n",
       "2     169\n",
       "Name: target, dtype: int64"
      ]
     },
     "execution_count": 13,
     "metadata": {},
     "output_type": "execute_result"
    }
   ],
   "source": [
    "data[\"target\"].value_counts()"
   ]
  },
  {
   "cell_type": "markdown",
   "id": "dc161a53",
   "metadata": {},
   "source": [
    "# EDA 1d"
   ]
  },
  {
   "cell_type": "markdown",
   "id": "0c809138",
   "metadata": {},
   "source": [
    "## age"
   ]
  },
  {
   "cell_type": "code",
   "execution_count": 14,
   "id": "0a3d9cdd",
   "metadata": {
    "ExecuteTime": {
     "end_time": "2023-04-27T20:43:44.709579Z",
     "start_time": "2023-04-27T20:43:44.285743Z"
    }
   },
   "outputs": [
    {
     "data": {
      "image/png": "[encoded data removed]",
      "text/plain": [
       "<Figure size 500x300 with 1 Axes>"
      ]
     },
     "metadata": {},
     "output_type": "display_data"
    }
   ],
   "source": [
    "plt.figure(figsize=(5, 3))\n",
    "plt.hist(data.loc[data[\"target\"] == 0, \"age\"], bins=15, alpha=0.5)\n",
    "plt.hist(data.loc[data[\"target\"] == 1, \"age\"], bins=15, alpha=0.5, color=\"red\")\n",
    "plt.hist(data.loc[data[\"target\"] == 2, \"age\"], bins=15, alpha=0.5, color=\"orange\")\n",
    "plt.yscale(\"log\")\n",
    "plt.xlabel(\"age\")\n",
    "plt.show()"
   ]
  },
  {
   "cell_type": "markdown",
   "id": "656ff9de",
   "metadata": {},
   "source": [
    "## TSH"
   ]
  },
  {
   "cell_type": "code",
   "execution_count": 15,
   "id": "d5c9fa5a",
   "metadata": {
    "ExecuteTime": {
     "end_time": "2023-04-27T20:43:45.060033Z",
     "start_time": "2023-04-27T20:43:44.711407Z"
    }
   },
   "outputs": [
    {
     "data": {
      "image/png": "[encoded data removed]",
      "text/plain": [
       "<Figure size 500x300 with 1 Axes>"
      ]
     },
     "metadata": {},
     "output_type": "display_data"
    }
   ],
   "source": [
    "plt.figure(figsize=(5, 3))\n",
    "plt.hist(data.loc[data[\"target\"] == 0, \"TSH\"], bins=15, alpha=0.5)\n",
    "plt.hist(data.loc[data[\"target\"] == 1, \"TSH\"], bins=15, alpha=0.5, color=\"red\")\n",
    "plt.hist(data.loc[data[\"target\"] == 2, \"TSH\"], bins=15, alpha=0.5, color=\"orange\")\n",
    "plt.yscale(\"log\")\n",
    "plt.xlabel(\"TSH\")\n",
    "plt.show()"
   ]
  },
  {
   "cell_type": "markdown",
   "id": "43664aac",
   "metadata": {},
   "source": [
    "## T3"
   ]
  },
  {
   "cell_type": "code",
   "execution_count": 16,
   "id": "9efc17b5",
   "metadata": {
    "ExecuteTime": {
     "end_time": "2023-04-27T20:43:45.593431Z",
     "start_time": "2023-04-27T20:43:45.061909Z"
    }
   },
   "outputs": [
    {
     "data": {
      "image/png": "[encoded data removed]",
      "text/plain": [
       "<Figure size 500x300 with 1 Axes>"
      ]
     },
     "metadata": {},
     "output_type": "display_data"
    }
   ],
   "source": [
    "plt.figure(figsize=(5, 3))\n",
    "plt.hist(data.loc[data[\"target\"] == 0, \"T3\"], bins=15, alpha=0.5)\n",
    "plt.hist(data.loc[data[\"target\"] == 1, \"T3\"], bins=15, alpha=0.5, color=\"red\")\n",
    "plt.hist(data.loc[data[\"target\"] == 2, \"T3\"], bins=15, alpha=0.5, color=\"orange\")\n",
    "plt.yscale(\"log\")\n",
    "plt.xlabel(\"T3\")\n",
    "plt.show()"
   ]
  },
  {
   "cell_type": "markdown",
   "id": "22f5437b",
   "metadata": {},
   "source": [
    "## TT4"
   ]
  },
  {
   "cell_type": "code",
   "execution_count": 17,
   "id": "2bb8dad9",
   "metadata": {
    "ExecuteTime": {
     "end_time": "2023-04-27T20:43:45.885410Z",
     "start_time": "2023-04-27T20:43:45.595348Z"
    }
   },
   "outputs": [
    {
     "data": {
      "image/png": "[encoded data removed]",
      "text/plain": [
       "<Figure size 500x300 with 1 Axes>"
      ]
     },
     "metadata": {},
     "output_type": "display_data"
    }
   ],
   "source": [
    "plt.figure(figsize=(5, 3))\n",
    "plt.hist(data.loc[data[\"target\"] == 0, \"TT4\"], bins=15, alpha=0.5)\n",
    "plt.hist(data.loc[data[\"target\"] == 1, \"TT4\"], bins=15, alpha=0.5, color=\"red\")\n",
    "plt.hist(data.loc[data[\"target\"] == 2, \"TT4\"], bins=15, alpha=0.5, color=\"orange\")\n",
    "plt.yscale(\"log\")\n",
    "plt.xlabel(\"TT4\")\n",
    "plt.show()"
   ]
  },
  {
   "cell_type": "markdown",
   "id": "95ee7b44",
   "metadata": {},
   "source": [
    "## T4U"
   ]
  },
  {
   "cell_type": "code",
   "execution_count": 18,
   "id": "98dc75b0",
   "metadata": {
    "ExecuteTime": {
     "end_time": "2023-04-27T20:43:46.214735Z",
     "start_time": "2023-04-27T20:43:45.887178Z"
    }
   },
   "outputs": [
    {
     "data": {
      "image/png": "[encoded data removed]",
      "text/plain": [
       "<Figure size 500x300 with 1 Axes>"
      ]
     },
     "metadata": {},
     "output_type": "display_data"
    }
   ],
   "source": [
    "plt.figure(figsize=(5, 3))\n",
    "plt.hist(data.loc[data[\"target\"] == 0, \"T4U\"], bins=15, alpha=0.5)\n",
    "plt.hist(data.loc[data[\"target\"] == 1, \"T4U\"], bins=15, alpha=0.5, color=\"red\")\n",
    "plt.hist(data.loc[data[\"target\"] == 2, \"T4U\"], bins=15, alpha=0.5, color=\"orange\")\n",
    "plt.yscale(\"log\")\n",
    "plt.xlabel(\"T4U\")\n",
    "plt.show()"
   ]
  },
  {
   "cell_type": "markdown",
   "id": "3fc0372a",
   "metadata": {},
   "source": [
    "## FTI"
   ]
  },
  {
   "cell_type": "code",
   "execution_count": 19,
   "id": "dbe34d26",
   "metadata": {
    "ExecuteTime": {
     "end_time": "2023-04-27T20:43:46.511025Z",
     "start_time": "2023-04-27T20:43:46.216185Z"
    }
   },
   "outputs": [
    {
     "data": {
      "image/png": "[encoded data removed]",
      "text/plain": [
       "<Figure size 500x300 with 1 Axes>"
      ]
     },
     "metadata": {},
     "output_type": "display_data"
    }
   ],
   "source": [
    "plt.figure(figsize=(5, 3))\n",
    "plt.hist(data.loc[data[\"target\"] == 0, \"FTI\"], bins=15, alpha=0.5)\n",
    "plt.hist(data.loc[data[\"target\"] == 1, \"FTI\"], bins=15, alpha=0.5, color=\"red\")\n",
    "plt.hist(data.loc[data[\"target\"] == 2, \"FTI\"], bins=15, alpha=0.5, color=\"orange\")\n",
    "plt.yscale(\"log\")\n",
    "plt.xlabel(\"FTI\")\n",
    "plt.show()"
   ]
  },
  {
   "cell_type": "markdown",
   "id": "7efacd2f",
   "metadata": {},
   "source": [
    "\\newpage"
   ]
  },
  {
   "cell_type": "markdown",
   "id": "9cd928b3",
   "metadata": {},
   "source": [
    "# Outliers detection"
   ]
  },
  {
   "cell_type": "code",
   "execution_count": 20,
   "id": "2f177c0e",
   "metadata": {
    "ExecuteTime": {
     "end_time": "2023-04-27T20:43:46.530109Z",
     "start_time": "2023-04-27T20:43:46.512444Z"
    }
   },
   "outputs": [],
   "source": [
    "data_all = data[[\"age\", \"TSH\", \"T3\", \"TT4\", \"T4U\", \"FTI\", \"target\"]].copy()\n",
    "data_all.loc[data_all[\"target\"]!=0, \"target\"] = 1\n",
    "\n",
    "x_train = data_all[[\"age\", \"TSH\", \"T3\", \"TT4\", \"T4U\", \"FTI\"]].to_numpy().copy()\n",
    "labels_train = data_all[\"target\"].to_numpy().copy()"
   ]
  },
  {
   "cell_type": "code",
   "execution_count": 21,
   "id": "9a5c5451",
   "metadata": {
    "ExecuteTime": {
     "end_time": "2023-04-27T20:44:12.361568Z",
     "start_time": "2023-04-27T20:43:46.531546Z"
    }
   },
   "outputs": [],
   "source": [
    "bandwidth = direct_plugin(x_train)"
   ]
  },
  {
   "cell_type": "markdown",
   "id": "67246e6d",
   "metadata": {},
   "source": [
    "## Siatka po mnożniku h (przy r=0.083)\n",
    "[0.5, 1, 2, 5, 10, 20, 50]"
   ]
  },
  {
   "cell_type": "code",
   "execution_count": 22,
   "id": "22293d93",
   "metadata": {
    "ExecuteTime": {
     "end_time": "2023-04-27T20:45:03.108796Z",
     "start_time": "2023-04-27T20:44:12.363807Z"
    }
   },
   "outputs": [
    {
     "name": "stdout",
     "output_type": "stream",
     "text": [
      "Mnożnik h: 0.5\n",
      "Wskaznik jakosci: 0.9999999999999999\n",
      "[[3924  369]\n",
      " [  72  318]]\n",
      "precision: 0.462882096069869\n",
      "recall: 0.8153846153846154\n",
      "accuracy: 0.905829596412556\n",
      "------------------------------\n",
      "Mnożnik h: 1.0\n",
      "Wskaznik jakosci: 0.9999998151882795\n",
      "[[4122  171]\n",
      " [ 172  218]]\n",
      "precision: 0.5604113110539846\n",
      "recall: 0.558974358974359\n",
      "accuracy: 0.9267563527653214\n",
      "------------------------------\n",
      "Mnożnik h: 2.0\n",
      "Wskaznik jakosci: 0.9858216427320965\n",
      "[[4129  164]\n",
      " [ 165  225]]\n",
      "precision: 0.5784061696658098\n",
      "recall: 0.5769230769230769\n",
      "accuracy: 0.929745889387145\n",
      "------------------------------\n",
      "Mnożnik h: 5.0\n",
      "Wskaznik jakosci: 0.6780198419653942\n",
      "[[4155  138]\n",
      " [ 139  251]]\n",
      "precision: 0.6452442159383034\n",
      "recall: 0.6435897435897436\n",
      "accuracy: 0.9408498825539184\n",
      "------------------------------\n",
      "Mnożnik h: 10.0\n",
      "Wskaznik jakosci: 0.7725574221943343\n",
      "[[4144  149]\n",
      " [ 150  240]]\n",
      "precision: 0.6169665809768637\n",
      "recall: 0.6153846153846154\n",
      "accuracy: 0.9361520392910527\n",
      "------------------------------\n",
      "Mnożnik h: 20.0\n",
      "Wskaznik jakosci: 0.9135029762348407\n",
      "[[4137  156]\n",
      " [ 157  233]]\n",
      "precision: 0.5989717223650386\n",
      "recall: 0.5974358974358974\n",
      "accuracy: 0.9331625026692292\n",
      "------------------------------\n",
      "Mnożnik h: 50.0\n",
      "Wskaznik jakosci: 0.9851016530109521\n",
      "[[4133  160]\n",
      " [ 161  229]]\n",
      "precision: 0.5886889460154242\n",
      "recall: 0.5871794871794872\n",
      "accuracy: 0.931454196028187\n",
      "------------------------------\n"
     ]
    }
   ],
   "source": [
    "h_mul_grid = np.array([0.5, 1, 2, 5, 10, 20, 50])\n",
    "metrics = []\n",
    "\n",
    "for h_mul in h_mul_grid:\n",
    "    print(f\"Mnożnik h: {h_mul}\")\n",
    "    outliers_detector = KDEOutliersDetection().fit(x_train, bandwidth=bandwidth*h_mul, r=0.083)\n",
    "    labels_pred = outliers_detector.predict(x_train)\n",
    "    \n",
    "    metric = pi_kf(x_train, labels_pred, bandwidth=bandwidth*h_mul)\n",
    "    metrics.append(metric)\n",
    "    print(f\"Wskaznik jakosci: {metric}\")\n",
    "\n",
    "    res = confusion_matrix(labels_train, labels_pred)\n",
    "    print(res)\n",
    "\n",
    "    print(f\"precision: {res[1, 1] / res[:, 1].sum()}\")\n",
    "    print(f\"recall: {res[1, 1] / res[1, :].sum()}\")\n",
    "    print(f\"accuracy: {np.diag(res).sum() / res.sum()}\")\n",
    "\n",
    "    print(\"-\"*30)"
   ]
  },
  {
   "cell_type": "code",
   "execution_count": 23,
   "id": "50a15ec7",
   "metadata": {
    "ExecuteTime": {
     "end_time": "2023-04-27T20:45:03.321125Z",
     "start_time": "2023-04-27T20:45:03.111431Z"
    }
   },
   "outputs": [
    {
     "data": {
      "image/png": "[encoded data removed]",
      "text/plain": [
       "<Figure size 600x400 with 1 Axes>"
      ]
     },
     "metadata": {},
     "output_type": "display_data"
    }
   ],
   "source": [
    "plt.figure(figsize=(6, 4))\n",
    "\n",
    "plt.plot(h_mul_grid, metrics, \"-o\")\n",
    "\n",
    "plt.xlabel(\"h_mul\")\n",
    "plt.ylabel(\"metric\")\n",
    "plt.grid(linestyle=\"--\")\n",
    "plt.show()"
   ]
  },
  {
   "cell_type": "markdown",
   "id": "ca678662",
   "metadata": {},
   "source": [
    "\\newpage"
   ]
  },
  {
   "cell_type": "markdown",
   "id": "53350278",
   "metadata": {},
   "source": [
    "## Siatka po r\n",
    "\n",
    "[0.01, 0.02, 0.03, ..., 0.5]"
   ]
  },
  {
   "cell_type": "code",
   "execution_count": 24,
   "id": "34f3d735",
   "metadata": {
    "ExecuteTime": {
     "end_time": "2023-04-27T20:50:07.265932Z",
     "start_time": "2023-04-27T20:45:03.323802Z"
    },
    "scrolled": false
   },
   "outputs": [
    {
     "name": "stdout",
     "output_type": "stream",
     "text": [
      "r: 0.01\n",
      "Wskaznik jakosci: 0.9999999999999932\n",
      "[[4232   61]\n",
      " [ 270  120]]\n",
      "precision: 0.6629834254143646\n",
      "recall: 0.3076923076923077\n",
      "accuracy: 0.9293188127268844\n",
      "------------------------------\n",
      "r: 0.02\n",
      "Wskaznik jakosci: 0.9999999999999932\n",
      "[[4232   61]\n",
      " [ 270  120]]\n",
      "precision: 0.6629834254143646\n",
      "recall: 0.3076923076923077\n",
      "accuracy: 0.9293188127268844\n",
      "------------------------------\n",
      "r: 0.03\n",
      "Wskaznik jakosci: 0.9999999999999932\n",
      "[[4232   61]\n",
      " [ 270  120]]\n",
      "precision: 0.6629834254143646\n",
      "recall: 0.3076923076923077\n",
      "accuracy: 0.9293188127268844\n",
      "------------------------------\n",
      "r: 0.04\n",
      "Wskaznik jakosci: 0.9999999999999671\n",
      "[[4226   67]\n",
      " [ 265  125]]\n",
      "precision: 0.6510416666666666\n",
      "recall: 0.32051282051282054\n",
      "accuracy: 0.9291052743967542\n",
      "------------------------------\n",
      "r: 0.05\n",
      "Wskaznik jakosci: 0.9999999999938475\n",
      "[[4210   83]\n",
      " [ 238  152]]\n",
      "precision: 0.6468085106382979\n",
      "recall: 0.38974358974358975\n",
      "accuracy: 0.931454196028187\n",
      "------------------------------\n",
      "r: 0.06\n",
      "Wskaznik jakosci: 0.9999999993919741\n",
      "[[4190  103]\n",
      " [ 212  178]]\n",
      "precision: 0.6334519572953736\n",
      "recall: 0.4564102564102564\n",
      "accuracy: 0.9327354260089686\n",
      "------------------------------\n",
      "r: 0.07\n",
      "Wskaznik jakosci: 0.9999999876553983\n",
      "[[4162  131]\n",
      " [ 193  197]]\n",
      "precision: 0.600609756097561\n",
      "recall: 0.5051282051282051\n",
      "accuracy: 0.9308135810377963\n",
      "------------------------------\n",
      "r: 0.08\n",
      "Wskaznik jakosci: 0.9999998921704856\n",
      "[[4131  162]\n",
      " [ 177  213]]\n",
      "precision: 0.568\n",
      "recall: 0.5461538461538461\n",
      "accuracy: 0.9276105060858424\n",
      "------------------------------\n",
      "r: 0.09\n",
      "Wskaznik jakosci: 0.9999993886771017\n",
      "[[4105  188]\n",
      " [ 156  234]]\n",
      "precision: 0.5545023696682464\n",
      "recall: 0.6\n",
      "accuracy: 0.9265428144351912\n",
      "------------------------------\n",
      "r: 0.10\n",
      "Wskaznik jakosci: 0.9999976152573253\n",
      "[[4078  215]\n",
      " [ 136  254]]\n",
      "precision: 0.5415778251599147\n",
      "recall: 0.6512820512820513\n",
      "accuracy: 0.9250480461242793\n",
      "------------------------------\n",
      "r: 0.11\n",
      "Wskaznik jakosci: 0.9999934283202021\n",
      "[[4051  242]\n",
      " [ 116  274]]\n",
      "precision: 0.5310077519379846\n",
      "recall: 0.7025641025641025\n",
      "accuracy: 0.9235532778133675\n",
      "------------------------------\n",
      "r: 0.12\n",
      "Wskaznik jakosci: 0.9999823212285134\n",
      "[[4018  275]\n",
      " [ 103  287]]\n",
      "precision: 0.5106761565836299\n",
      "recall: 0.735897435897436\n",
      "accuracy: 0.9192825112107623\n",
      "------------------------------\n",
      "r: 0.13\n",
      "Wskaznik jakosci: 0.9999671880678629\n",
      "[[3986  307]\n",
      " [  88  302]]\n",
      "precision: 0.49589490968801314\n",
      "recall: 0.7743589743589744\n",
      "accuracy: 0.915652359598548\n",
      "------------------------------\n",
      "r: 0.14\n",
      "Wskaznik jakosci: 0.9999548046006872\n",
      "[[3953  340]\n",
      " [  74  316]]\n",
      "precision: 0.4817073170731707\n",
      "recall: 0.8102564102564103\n",
      "accuracy: 0.9115951313260731\n",
      "------------------------------\n",
      "r: 0.15\n",
      "Wskaznik jakosci: 0.9999251515740284\n",
      "[[3912  381]\n",
      " [  68  322]]\n",
      "precision: 0.45803698435277385\n",
      "recall: 0.8256410256410256\n",
      "accuracy: 0.904121289771514\n",
      "------------------------------\n",
      "r: 0.16\n",
      "Wskaznik jakosci: 0.9998646062977099\n",
      "[[3871  422]\n",
      " [  62  328]]\n",
      "precision: 0.43733333333333335\n",
      "recall: 0.841025641025641\n",
      "accuracy: 0.896647448216955\n",
      "------------------------------\n",
      "r: 0.17\n",
      "Wskaznik jakosci: 0.9998592051354125\n",
      "[[3831  462]\n",
      " [  56  334]]\n",
      "precision: 0.41959798994974873\n",
      "recall: 0.8564102564102564\n",
      "accuracy: 0.8893871449925261\n",
      "------------------------------\n",
      "r: 0.18\n",
      "Wskaznik jakosci: 0.9997364554312873\n",
      "[[3787  506]\n",
      " [  53  337]]\n",
      "precision: 0.3997627520759193\n",
      "recall: 0.8641025641025641\n",
      "accuracy: 0.8806320734571855\n",
      "------------------------------\n",
      "r: 0.19\n",
      "Wskaznik jakosci: 0.9996522256869861\n",
      "[[3744  549]\n",
      " [  49  341]]\n",
      "precision: 0.3831460674157303\n",
      "recall: 0.8743589743589744\n",
      "accuracy: 0.8723040785821055\n",
      "------------------------------\n",
      "r: 0.20\n",
      "Wskaznik jakosci: 0.9995991698468313\n",
      "[[3701  592]\n",
      " [  45  345]]\n",
      "precision: 0.368196371398079\n",
      "recall: 0.8846153846153846\n",
      "accuracy: 0.8639760837070254\n",
      "------------------------------\n",
      "r: 0.21\n",
      "Wskaznik jakosci: 0.9995842754997554\n",
      "[[3657  636]\n",
      " [  42  348]]\n",
      "precision: 0.35365853658536583\n",
      "recall: 0.8923076923076924\n",
      "accuracy: 0.8552210121716848\n",
      "------------------------------\n",
      "r: 0.22\n",
      "Wskaznik jakosci: 0.99936978963596\n",
      "[[3614  679]\n",
      " [  38  352]]\n",
      "precision: 0.3414161008729389\n",
      "recall: 0.9025641025641026\n",
      "accuracy: 0.8468930172966047\n",
      "------------------------------\n",
      "r: 0.23\n",
      "Wskaznik jakosci: 0.9992250076830546\n",
      "[[3569  724]\n",
      " [  37  353]]\n",
      "precision: 0.3277623026926648\n",
      "recall: 0.9051282051282051\n",
      "accuracy: 0.8374973307708734\n",
      "------------------------------\n",
      "r: 0.24\n",
      "Wskaznik jakosci: 0.9991824830971\n",
      "[[3523  770]\n",
      " [  36  354]]\n",
      "precision: 0.31494661921708184\n",
      "recall: 0.9076923076923077\n",
      "accuracy: 0.8278881059150117\n",
      "------------------------------\n",
      "r: 0.25\n",
      "Wskaznik jakosci: 0.9988830967621518\n",
      "[[3481  812]\n",
      " [  31  359]]\n",
      "precision: 0.30657557643040134\n",
      "recall: 0.9205128205128205\n",
      "accuracy: 0.8199871877001922\n",
      "------------------------------\n",
      "r: 0.26\n",
      "Wskaznik jakosci: 0.9987801693702422\n",
      "[[3436  857]\n",
      " [  29  361]]\n",
      "precision: 0.2963875205254516\n",
      "recall: 0.9256410256410257\n",
      "accuracy: 0.810805039504591\n",
      "------------------------------\n",
      "r: 0.27\n",
      "Wskaznik jakosci: 0.9987422611254348\n",
      "[[3392  901]\n",
      " [  26  364]]\n",
      "precision: 0.28774703557312253\n",
      "recall: 0.9333333333333333\n",
      "accuracy: 0.8020499679692504\n",
      "------------------------------\n",
      "r: 0.28\n",
      "Wskaznik jakosci: 0.9979967940743146\n",
      "[[3349  944]\n",
      " [  23  367]]\n",
      "precision: 0.2799389778794813\n",
      "recall: 0.941025641025641\n",
      "accuracy: 0.7935084347640401\n",
      "------------------------------\n",
      "r: 0.29\n",
      "Wskaznik jakosci: 0.9980259120363693\n",
      "[[3302  991]\n",
      " [  23  367]]\n",
      "precision: 0.2702503681885125\n",
      "recall: 0.941025641025641\n",
      "accuracy: 0.783472133247918\n",
      "------------------------------\n",
      "r: 0.30\n",
      "Wskaznik jakosci: 0.997696993012121\n",
      "[[3255 1038]\n",
      " [  23  367]]\n",
      "precision: 0.2612099644128114\n",
      "recall: 0.941025641025641\n",
      "accuracy: 0.7734358317317959\n",
      "------------------------------\n",
      "r: 0.31\n",
      "Wskaznik jakosci: 0.9981006802690242\n",
      "[[3210 1083]\n",
      " [  21  369]]\n",
      "precision: 0.25413223140495866\n",
      "recall: 0.9461538461538461\n",
      "accuracy: 0.7642536835361947\n",
      "------------------------------\n",
      "r: 0.32\n",
      "Wskaznik jakosci: 0.9976340549396063\n",
      "[[3164 1129]\n",
      " [  20  370]]\n",
      "precision: 0.24683122081387593\n",
      "recall: 0.9487179487179487\n",
      "accuracy: 0.7546444586803331\n",
      "------------------------------\n",
      "r: 0.33\n",
      "Wskaznik jakosci: 0.9971075286370139\n",
      "[[3118 1175]\n",
      " [  19  371]]\n",
      "precision: 0.23997412677878396\n",
      "recall: 0.9512820512820512\n",
      "accuracy: 0.7450352338244715\n",
      "------------------------------\n",
      "r: 0.34\n",
      "Wskaznik jakosci: 0.9974185546285134\n",
      "[[3072 1221]\n",
      " [  19  371]]\n",
      "precision: 0.23304020100502512\n",
      "recall: 0.9512820512820512\n",
      "accuracy: 0.7352124706384796\n",
      "------------------------------\n",
      "r: 0.35\n",
      "Wskaznik jakosci: 0.9961858823939882\n",
      "[[3025 1268]\n",
      " [  19  371]]\n",
      "precision: 0.2263575350823673\n",
      "recall: 0.9512820512820512\n",
      "accuracy: 0.7251761691223575\n",
      "------------------------------\n",
      "r: 0.36\n",
      "Wskaznik jakosci: 0.9965379922345091\n",
      "[[2982 1311]\n",
      " [  15  375]]\n",
      "precision: 0.22241992882562278\n",
      "recall: 0.9615384615384616\n",
      "accuracy: 0.7168481742472774\n",
      "------------------------------\n",
      "r: 0.37\n",
      "Wskaznik jakosci: 0.9969066338564591\n",
      "[[2935 1358]\n",
      " [  15  375]]\n",
      "precision: 0.21638776687824582\n",
      "recall: 0.9615384615384616\n",
      "accuracy: 0.7068118727311552\n",
      "------------------------------\n",
      "r: 0.38\n",
      "Wskaznik jakosci: 0.9961904897337044\n",
      "[[2889 1404]\n",
      " [  14  376]]\n",
      "precision: 0.21123595505617979\n",
      "recall: 0.9641025641025641\n",
      "accuracy: 0.6972026478752936\n",
      "------------------------------\n",
      "r: 0.39\n",
      "Wskaznik jakosci: 0.9956504981016576\n",
      "[[2847 1446]\n",
      " [  10  380]]\n",
      "precision: 0.20810514786418402\n",
      "recall: 0.9743589743589743\n",
      "accuracy: 0.6890881913303438\n",
      "------------------------------\n",
      "r: 0.40\n",
      "Wskaznik jakosci: 0.9953811575706921\n",
      "[[2800 1493]\n",
      " [  10  380]]\n",
      "precision: 0.20288307528029897\n",
      "recall: 0.9743589743589743\n",
      "accuracy: 0.6790518898142216\n",
      "------------------------------\n",
      "r: 0.41\n",
      "Wskaznik jakosci: 0.996203745215735\n",
      "[[2754 1539]\n",
      " [   9  381]]\n",
      "precision: 0.1984375\n",
      "recall: 0.9769230769230769\n",
      "accuracy: 0.66944266495836\n",
      "------------------------------\n",
      "r: 0.42\n",
      "Wskaznik jakosci: 0.9958915646465063\n",
      "[[2707 1586]\n",
      " [   9  381]]\n",
      "precision: 0.19369598373157093\n",
      "recall: 0.9769230769230769\n",
      "accuracy: 0.6594063634422379\n",
      "------------------------------\n",
      "r: 0.43\n",
      "Wskaznik jakosci: 0.9958500768047622\n",
      "[[2660 1633]\n",
      " [   9  381]]\n",
      "precision: 0.18917576961271101\n",
      "recall: 0.9769230769230769\n",
      "accuracy: 0.6493700619261157\n",
      "------------------------------\n",
      "r: 0.44\n",
      "Wskaznik jakosci: 0.9958757572637987\n",
      "[[2613 1680]\n",
      " [   9  381]]\n",
      "precision: 0.1848617176128093\n",
      "recall: 0.9769230769230769\n",
      "accuracy: 0.6393337604099936\n",
      "------------------------------\n",
      "r: 0.45\n"
     ]
    },
    {
     "name": "stdout",
     "output_type": "stream",
     "text": [
      "Wskaznik jakosci: 0.994789440202859\n",
      "[[2567 1726]\n",
      " [   9  381]]\n",
      "precision: 0.18082581869957284\n",
      "recall: 0.9769230769230769\n",
      "accuracy: 0.6295109972240017\n",
      "------------------------------\n",
      "r: 0.46\n",
      "Wskaznik jakosci: 0.9952921389604209\n",
      "[[2522 1771]\n",
      " [   7  383]]\n",
      "precision: 0.1778087279480037\n",
      "recall: 0.982051282051282\n",
      "accuracy: 0.6203288490284006\n",
      "------------------------------\n",
      "r: 0.47\n",
      "Wskaznik jakosci: 0.9954718004798299\n",
      "[[2475 1818]\n",
      " [   7  383]]\n",
      "precision: 0.17401181281235803\n",
      "recall: 0.982051282051282\n",
      "accuracy: 0.6102925475122785\n",
      "------------------------------\n",
      "r: 0.48\n",
      "Wskaznik jakosci: 0.9944126219054894\n",
      "[[2428 1865]\n",
      " [   7  383]]\n",
      "precision: 0.17037366548042704\n",
      "recall: 0.982051282051282\n",
      "accuracy: 0.6002562459961563\n",
      "------------------------------\n",
      "r: 0.49\n",
      "Wskaznik jakosci: 0.9944869576157022\n",
      "[[2381 1912]\n",
      " [   7  383]]\n",
      "precision: 0.16688453159041394\n",
      "recall: 0.982051282051282\n",
      "accuracy: 0.5902199444800341\n",
      "------------------------------\n",
      "r: 0.50\n",
      "Wskaznik jakosci: 0.9925146135933149\n",
      "[[2335 1958]\n",
      " [   6  384]]\n",
      "precision: 0.16396242527754057\n",
      "recall: 0.9846153846153847\n",
      "accuracy: 0.5806107196241725\n",
      "------------------------------\n"
     ]
    }
   ],
   "source": [
    "r_grid = np.arange(0.01, 0.51, 0.01)\n",
    "metrics = []\n",
    "\n",
    "for r in r_grid:\n",
    "    print(f\"r: {r:.2f}\")\n",
    "    outliers_detector = KDEOutliersDetection().fit(x_train, bandwidth=bandwidth, r=r)\n",
    "    labels_pred = outliers_detector.predict(x_train)\n",
    "    \n",
    "    metric = pi_kf(x_train, labels_pred, bandwidth=bandwidth)\n",
    "    metrics.append(metric)\n",
    "    print(f\"Wskaznik jakosci: {metric}\")\n",
    "\n",
    "    res = confusion_matrix(labels_train, labels_pred)\n",
    "    print(res)\n",
    "\n",
    "    print(f\"precision: {res[1, 1] / res[:, 1].sum()}\")\n",
    "    print(f\"recall: {res[1, 1] / res[1, :].sum()}\")\n",
    "    print(f\"accuracy: {np.diag(res).sum() / res.sum()}\")\n",
    "\n",
    "    print(\"-\"*30)"
   ]
  },
  {
   "cell_type": "code",
   "execution_count": 25,
   "id": "6ff865ad",
   "metadata": {
    "ExecuteTime": {
     "end_time": "2023-04-27T20:50:07.550180Z",
     "start_time": "2023-04-27T20:50:07.268162Z"
    }
   },
   "outputs": [
    {
     "data": {
      "image/png": "[encoded data removed]",
      "text/plain": [
       "<Figure size 600x400 with 1 Axes>"
      ]
     },
     "metadata": {},
     "output_type": "display_data"
    }
   ],
   "source": [
    "plt.figure(figsize=(6, 4))\n",
    "\n",
    "plt.plot(r_grid, metrics, \"-o\")\n",
    "\n",
    "plt.xlabel(\"r\")\n",
    "plt.ylabel(\"metric\")\n",
    "plt.grid(linestyle=\"--\")\n",
    "plt.show()"
   ]
  },
  {
   "cell_type": "markdown",
   "id": "0c631bec",
   "metadata": {},
   "source": [
    "\\newpage"
   ]
  },
  {
   "cell_type": "markdown",
   "id": "0e973775",
   "metadata": {},
   "source": [
    "## Siatka po mnożniku h oraz r"
   ]
  },
  {
   "cell_type": "code",
   "execution_count": 26,
   "id": "2dfd1cc9",
   "metadata": {
    "ExecuteTime": {
     "end_time": "2023-04-27T21:27:37.567089Z",
     "start_time": "2023-04-27T20:50:07.553034Z"
    }
   },
   "outputs": [
    {
     "name": "stdout",
     "output_type": "stream",
     "text": [
      "Najlepszy mnożnik h: 50.00 oraz r 0.01\n",
      "Przy wskaźniku jakości: 0.047168\n"
     ]
    }
   ],
   "source": [
    "best_metric = np.inf\n",
    "for h_mul in h_mul_grid:\n",
    "    for r in r_grid:\n",
    "        kde_outlier_detector = KDEOutliersDetection().fit(x_train, bandwidth=bandwidth * h_mul, r=r)\n",
    "        labels_pred = kde_outlier_detector.predict(x_train)\n",
    "        metric = pi_kf(x_train, labels_pred, bandwidth=bandwidth * h_mul)\n",
    "        if metric < best_metric:\n",
    "            best_h_mul = h_mul\n",
    "            best_r = r\n",
    "            best_metric = metric\n",
    "\n",
    "print(f\"Najlepszy mnożnik h: {best_h_mul:.2f} oraz r {best_r:.2f}\")\n",
    "print(f\"Przy wskaźniku jakości: {best_metric:.6f}\")"
   ]
  },
  {
   "cell_type": "code",
   "execution_count": 27,
   "id": "6cac56b9",
   "metadata": {
    "ExecuteTime": {
     "end_time": "2023-04-27T21:27:42.364597Z",
     "start_time": "2023-04-27T21:27:37.569640Z"
    }
   },
   "outputs": [
    {
     "name": "stdout",
     "output_type": "stream",
     "text": [
      "[[4293    0]\n",
      " [ 343   47]]\n",
      "precision: 1.0\n",
      "recall: 0.12051282051282051\n",
      "accuracy: 0.9267563527653214\n"
     ]
    }
   ],
   "source": [
    "outliers_detector = KDEOutliersDetection().fit(x_train, bandwidth=bandwidth*best_h_mul, r=best_r)\n",
    "labels_pred = outliers_detector.predict(x_train)\n",
    "res = confusion_matrix(labels_train, labels_pred)\n",
    "print(res)\n",
    "\n",
    "print(f\"precision: {res[1, 1] / res[:, 1].sum()}\")\n",
    "print(f\"recall: {res[1, 1] / res[1, :].sum()}\")\n",
    "print(f\"accuracy: {np.diag(res).sum() / res.sum()}\")"
   ]
  },
  {
   "cell_type": "code",
   "execution_count": null,
   "id": "bcbbb746",
   "metadata": {},
   "outputs": [],
   "source": []
  },
  {
   "cell_type": "code",
   "execution_count": null,
   "id": "8d096487",
   "metadata": {},
   "outputs": [],
   "source": []
  },
  {
   "cell_type": "code",
   "execution_count": null,
   "id": "8a867bf9",
   "metadata": {},
   "outputs": [],
   "source": []
  }
 ],
 "metadata": {
  "kernelspec": {
   "display_name": "Python 3 (ipykernel)",
   "language": "python",
   "name": "python3"
  },
  "language_info": {
   "codemirror_mode": {
    "name": "ipython",
    "version": 3
   },
   "file_extension": ".py",
   "mimetype": "text/x-python",
   "name": "python",
   "nbconvert_exporter": "python",
   "pygments_lexer": "ipython3",
   "version": "3.9.12"
  },
  "toc": {
   "base_numbering": 1,
   "nav_menu": {},
   "number_sections": true,
   "sideBar": true,
   "skip_h1_title": false,
   "title_cell": "Table of Contents",
   "title_sidebar": "Contents",
   "toc_cell": false,
   "toc_position": {
    "height": "calc(100% - 180px)",
    "left": "10px",
    "top": "150px",
    "width": "345.594px"
   },
   "toc_section_display": true,
   "toc_window_display": true
  }
 },
 "nbformat": 4,
 "nbformat_minor": 5
}
