{
 "cells": [
  {
   "cell_type": "code",
   "execution_count": 1,
   "id": "4f44b924",
   "metadata": {
    "ExecuteTime": {
     "end_time": "2023-03-31T21:17:02.919924Z",
     "start_time": "2023-03-31T21:17:01.964739Z"
    }
   },
   "outputs": [],
   "source": [
    "import pandas as pd\n",
    "import numpy as np\n",
    "import matplotlib.pyplot as plt\n",
    "from sklearn.metrics import confusion_matrix\n",
    "from kdelearn.kde_tasks import KDEOutliersDetection\n",
    "from kdelearn.bandwidth_selection import direct_plugin, normal_reference\n",
    "from kdelearn.metrics import pi_kf\n",
    "from sklearn.neighbors import NearestNeighbors"
   ]
  },
  {
   "cell_type": "code",
   "execution_count": 2,
   "id": "85b92789",
   "metadata": {
    "ExecuteTime": {
     "end_time": "2023-03-31T21:17:03.623815Z",
     "start_time": "2023-03-31T21:17:02.921698Z"
    }
   },
   "outputs": [
    {
     "name": "stdout",
     "output_type": "stream",
     "text": [
      "phpGGVhl9.arff\r\n"
     ]
    }
   ],
   "source": [
    "!ls ../../data/mulcross/"
   ]
  },
  {
   "cell_type": "code",
   "execution_count": 3,
   "id": "389e4eb2",
   "metadata": {
    "ExecuteTime": {
     "end_time": "2023-03-31T21:17:03.771167Z",
     "start_time": "2023-03-31T21:17:03.625733Z"
    }
   },
   "outputs": [],
   "source": [
    "data = pd.read_csv(\"../../data/mulcross/phpGGVhl9.arff\", skiprows=7, names=[\"v1\", \"v2\", \"v3\", \"v4\", \"target\"])"
   ]
  },
  {
   "cell_type": "code",
   "execution_count": 4,
   "id": "e884e0eb",
   "metadata": {
    "ExecuteTime": {
     "end_time": "2023-03-31T21:17:03.817743Z",
     "start_time": "2023-03-31T21:17:03.772919Z"
    }
   },
   "outputs": [],
   "source": [
    "data.loc[data[\"target\"] == \"'Normal'\", \"target\"] = 0\n",
    "data.loc[data[\"target\"] == \"'Anomaly'\", \"target\"] = 1\n",
    "data[\"target\"] = data[\"target\"].astype(int)"
   ]
  },
  {
   "cell_type": "code",
   "execution_count": 5,
   "id": "b261231f",
   "metadata": {
    "ExecuteTime": {
     "end_time": "2023-03-31T21:17:03.825602Z",
     "start_time": "2023-03-31T21:17:03.819314Z"
    }
   },
   "outputs": [
    {
     "data": {
      "text/plain": [
       "(262144, 5)"
      ]
     },
     "execution_count": 5,
     "metadata": {},
     "output_type": "execute_result"
    }
   ],
   "source": [
    "data.shape"
   ]
  },
  {
   "cell_type": "code",
   "execution_count": 6,
   "id": "e2695a48",
   "metadata": {
    "ExecuteTime": {
     "end_time": "2023-03-31T21:17:06.845671Z",
     "start_time": "2023-03-31T21:17:06.840106Z"
    }
   },
   "outputs": [],
   "source": [
    "x_train = data[[\"v1\", \"v2\", \"v3\", \"v4\"]].to_numpy()\n",
    "labels_train = data[\"target\"].to_numpy()\n",
    "\n",
    "bandwidth = np.array([0.02687994, 0.02610197, 0.02315374, 0.01958707])"
   ]
  },
  {
   "cell_type": "markdown",
   "id": "6fb12dd1",
   "metadata": {},
   "source": [
    "# r=0.1"
   ]
  },
  {
   "cell_type": "code",
   "execution_count": 7,
   "id": "c63c77dd",
   "metadata": {
    "ExecuteTime": {
     "end_time": "2023-03-31T23:17:51.001947Z",
     "start_time": "2023-03-31T21:17:07.214675Z"
    }
   },
   "outputs": [
    {
     "name": "stdout",
     "output_type": "stream",
     "text": [
      "Wskaźnik jakości: 1.0026581828488323\n"
     ]
    }
   ],
   "source": [
    "nbrs = NearestNeighbors(n_neighbors=11, algorithm='brute').fit(x_train)\n",
    "distances, indices = nbrs.kneighbors(x_train)\n",
    "dist_k = np.max(distances, axis=1)\n",
    "r = 0.1\n",
    "threshold = np.quantile(dist_k, 1 - r)\n",
    "labels_pred = np.where(dist_k >= threshold, 1 ,0)\n",
    "metric = pi_kf(x_train, labels_pred, bandwidth=bandwidth)\n",
    "\n",
    "print(f\"Wskaźnik jakości: {metric}\")"
   ]
  },
  {
   "cell_type": "code",
   "execution_count": 8,
   "id": "c32d4a79",
   "metadata": {
    "ExecuteTime": {
     "end_time": "2023-03-31T23:17:51.008487Z",
     "start_time": "2023-03-31T23:17:51.004174Z"
    }
   },
   "outputs": [
    {
     "data": {
      "text/plain": [
       "(26214, 26215)"
      ]
     },
     "execution_count": 8,
     "metadata": {},
     "output_type": "execute_result"
    }
   ],
   "source": [
    "labels_train.sum(), labels_pred.sum()"
   ]
  },
  {
   "cell_type": "code",
   "execution_count": 9,
   "id": "e1ad4ba5",
   "metadata": {
    "ExecuteTime": {
     "end_time": "2023-03-31T23:17:51.053384Z",
     "start_time": "2023-03-31T23:17:51.010211Z"
    }
   },
   "outputs": [
    {
     "data": {
      "text/plain": [
       "array([[209715,  26215],\n",
       "       [ 26214,      0]])"
      ]
     },
     "execution_count": 9,
     "metadata": {},
     "output_type": "execute_result"
    }
   ],
   "source": [
    "res = confusion_matrix(labels_train, labels_pred)\n",
    "res"
   ]
  },
  {
   "cell_type": "code",
   "execution_count": 10,
   "id": "1352404f",
   "metadata": {
    "ExecuteTime": {
     "end_time": "2023-03-31T23:17:51.059265Z",
     "start_time": "2023-03-31T23:17:51.055652Z"
    }
   },
   "outputs": [
    {
     "name": "stdout",
     "output_type": "stream",
     "text": [
      "precision: 0.0\n",
      "recall: 0.0\n",
      "accuracy: 0.7999992370605469\n"
     ]
    }
   ],
   "source": [
    "print(f\"precision: {res[1, 1] / res[:, 1].sum()}\")\n",
    "print(f\"recall: {res[1, 1] / res[1, :].sum()}\")\n",
    "print(f\"accuracy: {np.diag(res).sum() / res.sum()}\")"
   ]
  },
  {
   "cell_type": "markdown",
   "id": "e977a2a7",
   "metadata": {},
   "source": [
    "# r=0.01"
   ]
  },
  {
   "cell_type": "code",
   "execution_count": 11,
   "id": "3c41a591",
   "metadata": {
    "ExecuteTime": {
     "end_time": "2023-04-01T01:14:27.527136Z",
     "start_time": "2023-03-31T23:17:51.061318Z"
    }
   },
   "outputs": [
    {
     "name": "stdout",
     "output_type": "stream",
     "text": [
      "Wskaźnik jakości: 1.0000567314291076\n"
     ]
    }
   ],
   "source": [
    "nbrs = NearestNeighbors(n_neighbors=11, algorithm='brute').fit(x_train)\n",
    "distances, indices = nbrs.kneighbors(x_train)\n",
    "dist_k = np.max(distances, axis=1)\n",
    "r = 0.01\n",
    "threshold = np.quantile(dist_k, 1 - r)\n",
    "labels_pred = np.where(dist_k >= threshold, 1 ,0)\n",
    "metric = pi_kf(x_train, labels_pred, bandwidth=bandwidth)\n",
    "\n",
    "print(f\"Wskaźnik jakości: {metric}\")"
   ]
  },
  {
   "cell_type": "code",
   "execution_count": 12,
   "id": "98c64a2b",
   "metadata": {
    "ExecuteTime": {
     "end_time": "2023-04-01T01:14:27.532402Z",
     "start_time": "2023-04-01T01:14:27.528860Z"
    }
   },
   "outputs": [
    {
     "data": {
      "text/plain": [
       "(26214, 2622)"
      ]
     },
     "execution_count": 12,
     "metadata": {},
     "output_type": "execute_result"
    }
   ],
   "source": [
    "labels_train.sum(), labels_pred.sum()"
   ]
  },
  {
   "cell_type": "code",
   "execution_count": 13,
   "id": "e1d4fa94",
   "metadata": {
    "ExecuteTime": {
     "end_time": "2023-04-01T01:14:27.564662Z",
     "start_time": "2023-04-01T01:14:27.533780Z"
    }
   },
   "outputs": [
    {
     "data": {
      "text/plain": [
       "array([[233308,   2622],\n",
       "       [ 26214,      0]])"
      ]
     },
     "execution_count": 13,
     "metadata": {},
     "output_type": "execute_result"
    }
   ],
   "source": [
    "res = confusion_matrix(labels_train, labels_pred)\n",
    "res"
   ]
  },
  {
   "cell_type": "code",
   "execution_count": 14,
   "id": "af8b786c",
   "metadata": {
    "ExecuteTime": {
     "end_time": "2023-04-01T01:14:27.570063Z",
     "start_time": "2023-04-01T01:14:27.566520Z"
    }
   },
   "outputs": [
    {
     "name": "stdout",
     "output_type": "stream",
     "text": [
      "precision: 0.0\n",
      "recall: 0.0\n",
      "accuracy: 0.8899993896484375\n"
     ]
    }
   ],
   "source": [
    "print(f\"precision: {res[1, 1] / res[:, 1].sum()}\")\n",
    "print(f\"recall: {res[1, 1] / res[1, :].sum()}\")\n",
    "print(f\"accuracy: {np.diag(res).sum() / res.sum()}\")"
   ]
  },
  {
   "cell_type": "markdown",
   "id": "61e070ce",
   "metadata": {},
   "source": [
    "# r=0.05"
   ]
  },
  {
   "cell_type": "code",
   "execution_count": 15,
   "id": "73f9dc1a",
   "metadata": {
    "ExecuteTime": {
     "end_time": "2023-04-01T03:11:13.335436Z",
     "start_time": "2023-04-01T01:14:27.571502Z"
    }
   },
   "outputs": [
    {
     "name": "stdout",
     "output_type": "stream",
     "text": [
      "Wskaźnik jakości: 1.0008375667477691\n"
     ]
    }
   ],
   "source": [
    "nbrs = NearestNeighbors(n_neighbors=11, algorithm='brute').fit(x_train)\n",
    "distances, indices = nbrs.kneighbors(x_train)\n",
    "dist_k = np.max(distances, axis=1)\n",
    "r = 0.05\n",
    "threshold = np.quantile(dist_k, 1 - r)\n",
    "labels_pred = np.where(dist_k >= threshold, 1 ,0)\n",
    "metric = pi_kf(x_train, labels_pred, bandwidth=bandwidth)\n",
    "\n",
    "print(f\"Wskaźnik jakości: {metric}\")"
   ]
  },
  {
   "cell_type": "code",
   "execution_count": 16,
   "id": "4eca9914",
   "metadata": {
    "ExecuteTime": {
     "end_time": "2023-04-01T03:11:13.341914Z",
     "start_time": "2023-04-01T03:11:13.338183Z"
    }
   },
   "outputs": [
    {
     "data": {
      "text/plain": [
       "(26214, 13108)"
      ]
     },
     "execution_count": 16,
     "metadata": {},
     "output_type": "execute_result"
    }
   ],
   "source": [
    "labels_train.sum(), labels_pred.sum()"
   ]
  },
  {
   "cell_type": "code",
   "execution_count": 17,
   "id": "d5ab2adf",
   "metadata": {
    "ExecuteTime": {
     "end_time": "2023-04-01T03:11:13.387003Z",
     "start_time": "2023-04-01T03:11:13.343483Z"
    }
   },
   "outputs": [
    {
     "data": {
      "text/plain": [
       "array([[222822,  13108],\n",
       "       [ 26214,      0]])"
      ]
     },
     "execution_count": 17,
     "metadata": {},
     "output_type": "execute_result"
    }
   ],
   "source": [
    "res = confusion_matrix(labels_train, labels_pred)\n",
    "res"
   ]
  },
  {
   "cell_type": "code",
   "execution_count": 18,
   "id": "da816d1d",
   "metadata": {
    "ExecuteTime": {
     "end_time": "2023-04-01T03:11:13.391965Z",
     "start_time": "2023-04-01T03:11:13.388714Z"
    }
   },
   "outputs": [
    {
     "name": "stdout",
     "output_type": "stream",
     "text": [
      "precision: 0.0\n",
      "recall: 0.0\n",
      "accuracy: 0.8499984741210938\n"
     ]
    }
   ],
   "source": [
    "print(f\"precision: {res[1, 1] / res[:, 1].sum()}\")\n",
    "print(f\"recall: {res[1, 1] / res[1, :].sum()}\")\n",
    "print(f\"accuracy: {np.diag(res).sum() / res.sum()}\")"
   ]
  },
  {
   "cell_type": "markdown",
   "id": "cc5b8624",
   "metadata": {},
   "source": [
    "# r=0.2"
   ]
  },
  {
   "cell_type": "code",
   "execution_count": 19,
   "id": "b2a58d6b",
   "metadata": {
    "ExecuteTime": {
     "end_time": "2023-04-01T05:08:08.416573Z",
     "start_time": "2023-04-01T03:11:13.393596Z"
    }
   },
   "outputs": [
    {
     "name": "stdout",
     "output_type": "stream",
     "text": [
      "Wskaźnik jakości: 1.0054481253661567\n"
     ]
    }
   ],
   "source": [
    "nbrs = NearestNeighbors(n_neighbors=11, algorithm='brute').fit(x_train)\n",
    "distances, indices = nbrs.kneighbors(x_train)\n",
    "dist_k = np.max(distances, axis=1)\n",
    "r = 0.2\n",
    "threshold = np.quantile(dist_k, 1 - r)\n",
    "labels_pred = np.where(dist_k >= threshold, 1 ,0)\n",
    "metric = pi_kf(x_train, labels_pred, bandwidth=bandwidth)\n",
    "\n",
    "print(f\"Wskaźnik jakości: {metric}\")"
   ]
  },
  {
   "cell_type": "code",
   "execution_count": 20,
   "id": "0d821018",
   "metadata": {
    "ExecuteTime": {
     "end_time": "2023-04-01T05:08:08.422989Z",
     "start_time": "2023-04-01T05:08:08.418613Z"
    }
   },
   "outputs": [
    {
     "data": {
      "text/plain": [
       "(26214, 52429)"
      ]
     },
     "execution_count": 20,
     "metadata": {},
     "output_type": "execute_result"
    }
   ],
   "source": [
    "labels_train.sum(), labels_pred.sum()"
   ]
  },
  {
   "cell_type": "code",
   "execution_count": 21,
   "id": "93e0c9ea",
   "metadata": {
    "ExecuteTime": {
     "end_time": "2023-04-01T05:08:08.458589Z",
     "start_time": "2023-04-01T05:08:08.424824Z"
    }
   },
   "outputs": [
    {
     "data": {
      "text/plain": [
       "array([[183502,  52428],\n",
       "       [ 26213,      1]])"
      ]
     },
     "execution_count": 21,
     "metadata": {},
     "output_type": "execute_result"
    }
   ],
   "source": [
    "res = confusion_matrix(labels_train, labels_pred)\n",
    "res"
   ]
  },
  {
   "cell_type": "code",
   "execution_count": 22,
   "id": "7516b0c7",
   "metadata": {
    "ExecuteTime": {
     "end_time": "2023-04-01T05:08:08.464396Z",
     "start_time": "2023-04-01T05:08:08.460436Z"
    }
   },
   "outputs": [
    {
     "name": "stdout",
     "output_type": "stream",
     "text": [
      "precision: 1.9073413568826414e-05\n",
      "recall: 3.8147554741741054e-05\n",
      "accuracy: 0.7000083923339844\n"
     ]
    }
   ],
   "source": [
    "print(f\"precision: {res[1, 1] / res[:, 1].sum()}\")\n",
    "print(f\"recall: {res[1, 1] / res[1, :].sum()}\")\n",
    "print(f\"accuracy: {np.diag(res).sum() / res.sum()}\")"
   ]
  },
  {
   "cell_type": "code",
   "execution_count": null,
   "id": "f4436c34",
   "metadata": {},
   "outputs": [],
   "source": []
  },
  {
   "cell_type": "code",
   "execution_count": null,
   "id": "784b4097",
   "metadata": {},
   "outputs": [],
   "source": []
  }
 ],
 "metadata": {
  "kernelspec": {
   "display_name": "Python 3 (ipykernel)",
   "language": "python",
   "name": "python3"
  },
  "language_info": {
   "codemirror_mode": {
    "name": "ipython",
    "version": 3
   },
   "file_extension": ".py",
   "mimetype": "text/x-python",
   "name": "python",
   "nbconvert_exporter": "python",
   "pygments_lexer": "ipython3",
   "version": "3.9.12"
  },
  "toc": {
   "base_numbering": 1,
   "nav_menu": {},
   "number_sections": true,
   "sideBar": true,
   "skip_h1_title": false,
   "title_cell": "Table of Contents",
   "title_sidebar": "Contents",
   "toc_cell": false,
   "toc_position": {
    "height": "calc(100% - 180px)",
    "left": "10px",
    "top": "150px",
    "width": "341.594px"
   },
   "toc_section_display": true,
   "toc_window_display": true
  }
 },
 "nbformat": 4,
 "nbformat_minor": 5
}
